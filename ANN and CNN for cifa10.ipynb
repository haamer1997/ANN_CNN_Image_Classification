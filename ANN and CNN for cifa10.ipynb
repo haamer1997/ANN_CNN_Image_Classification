{
 "cells": [
  {
   "cell_type": "code",
   "execution_count": 1,
   "metadata": {},
   "outputs": [
    {
     "name": "stdout",
     "output_type": "stream",
     "text": [
      "Populating the interactive namespace from numpy and matplotlib\n"
     ]
    }
   ],
   "source": [
    "%pylab inline"
   ]
  },
  {
   "cell_type": "code",
   "execution_count": 2,
   "metadata": {
    "colab": {
     "base_uri": "https://localhost:8080/",
     "height": 80
    },
    "colab_type": "code",
    "id": "nDR5ILDmaF1I",
    "outputId": "fab9b69e-edc0-48fc-af5a-fdc8c630e79c"
   },
   "outputs": [],
   "source": [
    "import tensorflow as tf\n",
    "import matplotlib.pyplot as plt\n",
    "import os\n",
    "import pickle\n",
    "import pandas as pd"
   ]
  },
  {
   "cell_type": "code",
   "execution_count": 4,
   "metadata": {},
   "outputs": [],
   "source": [
    "gpus = tf.config.experimental.list_physical_devices('GPU')\n",
    "if gpus:\n",
    "  try:\n",
    "    for gpu in gpus:\n",
    "      tf.config.experimental.set_memory_growth(gpu, True)\n",
    "    logical_gpus = tf.config.experimental.list_logical_devices('GPU')\n",
    "    print(len(gpus), \"Physical GPUs,\", len(logical_gpus), \"Logical GPUs\")\n",
    "  except RuntimeError as e:\n",
    "    print(e)"
   ]
  },
  {
   "cell_type": "markdown",
   "metadata": {},
   "source": [
    "---"
   ]
  },
  {
   "cell_type": "code",
   "execution_count": 4,
   "metadata": {
    "colab": {},
    "colab_type": "code",
    "id": "BGznYvxIIvjy"
   },
   "outputs": [],
   "source": [
    "cifar10 = tf.keras.datasets.cifar10\n",
    "\n",
    "(x_train, y_train), (x_test, y_test) = cifar10.load_data()\n",
    "x_train, x_test = x_train / 255.0, x_test / 255.0"
   ]
  },
  {
   "cell_type": "code",
   "execution_count": 5,
   "metadata": {
    "colab": {
     "base_uri": "https://localhost:8080/",
     "height": 52
    },
    "colab_type": "code",
    "id": "K71G0M_YaUAD",
    "outputId": "047ec8cb-fd39-433b-f671-6c8dfda4dc02"
   },
   "outputs": [
    {
     "name": "stdout",
     "output_type": "stream",
     "text": [
      "<class 'numpy.ndarray'> (50000, 32, 32, 3)\n",
      "0.0 1.0\n"
     ]
    }
   ],
   "source": [
    "print(type(x_train), x_train.shape)\n",
    "print(np.min(x_train), np.max(x_train))\n"
   ]
  },
  {
   "cell_type": "markdown",
   "metadata": {
    "colab_type": "text",
    "id": "hQO9KblUpw0L"
   },
   "source": [
    "\n",
    "\n",
    "---\n",
    "\n"
   ]
  },
  {
   "cell_type": "markdown",
   "metadata": {},
   "source": [
    "### Task 1\n",
    "\n",
    "Implement a CNN with the following structure:\n",
    "- 4 Conv layers:  \n",
    "(3x3)x32, (3x3)x32, (3x3)x64, (3x3)x64\n",
    "\n",
    "- Maxpool after 2nd and 4th conv.\n",
    "- Dropout after pooling\n",
    "- One FC layer and then a FC output layer\n",
    "\n",
    "Train the CNN model until training accuracy converges. (**fit** function returns a History object.\n",
    "Plot \"History.history['accuracy']\" to visually exam convergence.)\n",
    "After training, test the model's performance on the test data."
   ]
  },
  {
   "cell_type": "code",
   "execution_count": 8,
   "metadata": {},
   "outputs": [
    {
     "name": "stdout",
     "output_type": "stream",
     "text": [
      "WARNING:tensorflow:From C:\\ProgramData\\Anaconda3\\lib\\site-packages\\tensorflow_core\\python\\ops\\resource_variable_ops.py:1630: calling BaseResourceVariable.__init__ (from tensorflow.python.ops.resource_variable_ops) with constraint is deprecated and will be removed in a future version.\n",
      "Instructions for updating:\n",
      "If using Keras pass *_constraint arguments to layers.\n",
      "Model: \"sequential\"\n",
      "_________________________________________________________________\n",
      "Layer (type)                 Output Shape              Param #   \n",
      "=================================================================\n",
      "conv2d (Conv2D)              (None, 32, 32, 32)        896       \n",
      "_________________________________________________________________\n",
      "conv2d_1 (Conv2D)            (None, 32, 32, 32)        9248      \n",
      "_________________________________________________________________\n",
      "max_pooling2d (MaxPooling2D) (None, 16, 16, 32)        0         \n",
      "_________________________________________________________________\n",
      "dropout (Dropout)            (None, 16, 16, 32)        0         \n",
      "_________________________________________________________________\n",
      "conv2d_2 (Conv2D)            (None, 16, 16, 64)        18496     \n",
      "_________________________________________________________________\n",
      "conv2d_3 (Conv2D)            (None, 16, 16, 64)        36928     \n",
      "_________________________________________________________________\n",
      "max_pooling2d_1 (MaxPooling2 (None, 8, 8, 64)          0         \n",
      "_________________________________________________________________\n",
      "dropout_1 (Dropout)          (None, 8, 8, 64)          0         \n",
      "_________________________________________________________________\n",
      "flatten (Flatten)            (None, 4096)              0         \n",
      "_________________________________________________________________\n",
      "dense (Dense)                (None, 128)               524416    \n",
      "_________________________________________________________________\n",
      "dense_1 (Dense)              (None, 10)                1290      \n",
      "=================================================================\n",
      "Total params: 591,274\n",
      "Trainable params: 591,274\n",
      "Non-trainable params: 0\n",
      "_________________________________________________________________\n",
      "None\n"
     ]
    }
   ],
   "source": [
    "#1st part: model creation and construction\n",
    "\n",
    "model = tf.keras.Sequential()\n",
    "\n",
    "model.add(tf.keras.layers.Conv2D(32,(3,3),activation='relu',padding='same',input_shape=x_train.shape[1:])) #1st Conv w/ inputs\n",
    "model.add(tf.keras.layers.Conv2D(32,(3,3),activation='relu',padding='same')) #2nd Conv\n",
    "\n",
    "model.add(tf.keras.layers.MaxPooling2D(pool_size=(2, 2))) #1st max_pool\n",
    "model.add(tf.keras.layers.Dropout(0.2))#dropout layer\n",
    "\n",
    "model.add(tf.keras.layers.Conv2D(64,(3,3),activation='relu',padding='same')) #3rd Conv\n",
    "model.add(tf.keras.layers.Conv2D(64,(3,3),activation='relu',padding='same')) #4th Conv\n",
    "\n",
    "model.add(tf.keras.layers.MaxPooling2D(pool_size=(2, 2))) #2nd max_pool\n",
    "model.add(tf.keras.layers.Dropout(0.2))#dropout layer\n",
    "\n",
    "model.add(tf.keras.layers.Flatten()) #flatten layer before Fully-Connected (FC), or Dense, layer.\n",
    "\n",
    "model.add(tf.keras.layers.Dense(128,activation='relu')) #FC layer\n",
    "\n",
    "model.add(tf.keras.layers.Dense(10,activation='softmax')) #output layer\n",
    "\n",
    "model.compile(optimizer='adam', loss='sparse_categorical_crossentropy',metrics=['accuracy'])\n",
    "\n",
    "print(model.summary())"
   ]
  },
  {
   "cell_type": "code",
   "execution_count": 9,
   "metadata": {},
   "outputs": [
    {
     "name": "stdout",
     "output_type": "stream",
     "text": [
      "Train on 50000 samples\n",
      "Epoch 1/50\n",
      "50000/50000 [==============================] - 97s 2ms/sample - loss: 1.4589 - acc: 0.4739\n",
      "Epoch 2/50\n",
      "50000/50000 [==============================] - 95s 2ms/sample - loss: 1.0105 - acc: 0.6437\n",
      "Epoch 3/50\n",
      "50000/50000 [==============================] - 95s 2ms/sample - loss: 0.8558 - acc: 0.6989\n",
      "Epoch 4/50\n",
      "50000/50000 [==============================] - 97s 2ms/sample - loss: 0.7507 - acc: 0.7355\n",
      "Epoch 5/50\n",
      "50000/50000 [==============================] - 102s 2ms/sample - loss: 0.6882 - acc: 0.7569\n",
      "Epoch 6/50\n",
      "50000/50000 [==============================] - 100s 2ms/sample - loss: 0.6305 - acc: 0.7753\n",
      "Epoch 7/50\n",
      "50000/50000 [==============================] - 103s 2ms/sample - loss: 0.5780 - acc: 0.7961\n",
      "Epoch 8/50\n",
      "50000/50000 [==============================] - 104s 2ms/sample - loss: 0.5323 - acc: 0.8106\n",
      "Epoch 9/50\n",
      "50000/50000 [==============================] - 99s 2ms/sample - loss: 0.4958 - acc: 0.8243\n",
      "Epoch 10/50\n",
      "50000/50000 [==============================] - 99s 2ms/sample - loss: 0.4585 - acc: 0.8373\n",
      "Epoch 11/50\n",
      "50000/50000 [==============================] - 101s 2ms/sample - loss: 0.4309 - acc: 0.8464\n",
      "Epoch 12/50\n",
      "50000/50000 [==============================] - 104s 2ms/sample - loss: 0.3975 - acc: 0.8562\n",
      "Epoch 13/50\n",
      "50000/50000 [==============================] - 97s 2ms/sample - loss: 0.3763 - acc: 0.8669\n",
      "Epoch 14/50\n",
      "50000/50000 [==============================] - 98s 2ms/sample - loss: 0.3583 - acc: 0.8711\n",
      "Epoch 15/50\n",
      "50000/50000 [==============================] - 102s 2ms/sample - loss: 0.3310 - acc: 0.8810\n",
      "Epoch 16/50\n",
      "50000/50000 [==============================] - 98s 2ms/sample - loss: 0.3104 - acc: 0.8901\n",
      "Epoch 17/50\n",
      "50000/50000 [==============================] - 94s 2ms/sample - loss: 0.3041 - acc: 0.8921\n",
      "Epoch 18/50\n",
      "50000/50000 [==============================] - 90s 2ms/sample - loss: 0.2856 - acc: 0.8979\n",
      "Epoch 19/50\n",
      "50000/50000 [==============================] - 90s 2ms/sample - loss: 0.2770 - acc: 0.9019\n",
      "Epoch 20/50\n",
      "50000/50000 [==============================] - 89s 2ms/sample - loss: 0.2654 - acc: 0.9063\n",
      "Epoch 21/50\n",
      "50000/50000 [==============================] - 92s 2ms/sample - loss: 0.2559 - acc: 0.9098\n",
      "Epoch 22/50\n",
      "50000/50000 [==============================] - 93s 2ms/sample - loss: 0.2476 - acc: 0.9121\n",
      "Epoch 23/50\n",
      "50000/50000 [==============================] - 90s 2ms/sample - loss: 0.2409 - acc: 0.9146\n",
      "Epoch 24/50\n",
      "50000/50000 [==============================] - 94s 2ms/sample - loss: 0.2315 - acc: 0.9190\n",
      "Epoch 25/50\n",
      "50000/50000 [==============================] - 93s 2ms/sample - loss: 0.2269 - acc: 0.9205\n",
      "Epoch 26/50\n",
      "50000/50000 [==============================] - 88s 2ms/sample - loss: 0.2195 - acc: 0.9226\n",
      "Epoch 27/50\n",
      "50000/50000 [==============================] - 89s 2ms/sample - loss: 0.2180 - acc: 0.9243\n",
      "Epoch 28/50\n",
      "50000/50000 [==============================] - 87s 2ms/sample - loss: 0.2069 - acc: 0.9274\n",
      "Epoch 29/50\n",
      "50000/50000 [==============================] - 85s 2ms/sample - loss: 0.2065 - acc: 0.9273\n",
      "Epoch 30/50\n",
      "50000/50000 [==============================] - 85s 2ms/sample - loss: 0.1951 - acc: 0.9317\n",
      "Epoch 31/50\n",
      "50000/50000 [==============================] - 88s 2ms/sample - loss: 0.2000 - acc: 0.9297\n",
      "Epoch 32/50\n",
      "50000/50000 [==============================] - 95s 2ms/sample - loss: 0.1935 - acc: 0.9311\n",
      "Epoch 33/50\n",
      "50000/50000 [==============================] - 86s 2ms/sample - loss: 0.1897 - acc: 0.93352s - loss: 0.1897 - acc: - ETA: 1\n",
      "Epoch 34/50\n",
      "50000/50000 [==============================] - 92s 2ms/sample - loss: 0.1804 - acc: 0.9366\n",
      "Epoch 35/50\n",
      "50000/50000 [==============================] - 91s 2ms/sample - loss: 0.1859 - acc: 0.9343\n",
      "Epoch 36/50\n",
      "50000/50000 [==============================] - 90s 2ms/sample - loss: 0.1818 - acc: 0.9376\n",
      "Epoch 37/50\n",
      "50000/50000 [==============================] - 86s 2ms/sample - loss: 0.1760 - acc: 0.9398\n",
      "Epoch 38/50\n",
      "50000/50000 [==============================] - 86s 2ms/sample - loss: 0.1722 - acc: 0.9408\n",
      "Epoch 39/50\n",
      "50000/50000 [==============================] - 89s 2ms/sample - loss: 0.1677 - acc: 0.9428\n",
      "Epoch 40/50\n",
      "50000/50000 [==============================] - 89s 2ms/sample - loss: 0.1744 - acc: 0.9402\n",
      "Epoch 41/50\n",
      "50000/50000 [==============================] - 89s 2ms/sample - loss: 0.1672 - acc: 0.9437\n",
      "Epoch 42/50\n",
      "50000/50000 [==============================] - 90s 2ms/sample - loss: 0.1670 - acc: 0.9433\n",
      "Epoch 43/50\n",
      "50000/50000 [==============================] - 90s 2ms/sample - loss: 0.1647 - acc: 0.9440\n",
      "Epoch 44/50\n",
      "50000/50000 [==============================] - 90s 2ms/sample - loss: 0.1566 - acc: 0.9466\n",
      "Epoch 45/50\n",
      "50000/50000 [==============================] - 90s 2ms/sample - loss: 0.1591 - acc: 0.9443\n",
      "Epoch 46/50\n",
      "50000/50000 [==============================] - 90s 2ms/sample - loss: 0.1579 - acc: 0.9454\n",
      "Epoch 47/50\n",
      "50000/50000 [==============================] - 98s 2ms/sample - loss: 0.1542 - acc: 0.9476\n",
      "Epoch 48/50\n",
      "50000/50000 [==============================] - 91s 2ms/sample - loss: 0.1553 - acc: 0.9482\n",
      "Epoch 49/50\n",
      "50000/50000 [==============================] - 93s 2ms/sample - loss: 0.1531 - acc: 0.9490\n",
      "Epoch 50/50\n",
      "50000/50000 [==============================] - 91s 2ms/sample - loss: 0.1510 - acc: 0.9487\n"
     ]
    }
   ],
   "source": [
    "# 2nd part: model training \n",
    "history=model.fit(x_train, y_train, epochs=50, batch_size=32)"
   ]
  },
  {
   "cell_type": "code",
   "execution_count": 59,
   "metadata": {},
   "outputs": [
    {
     "data": {
      "text/plain": [
       "Text(0, 0.5, 'Training Accuracy, %')"
      ]
     },
     "execution_count": 59,
     "metadata": {},
     "output_type": "execute_result"
    },
    {
     "data": {
      "image/png": "[encoded data removed]",
      "text/plain": [
       "<Figure size 432x288 with 1 Axes>"
      ]
     },
     "metadata": {
      "needs_background": "light"
     },
     "output_type": "display_data"
    }
   ],
   "source": [
    "#Plotting model accuracy on training data as a function of epochs\n",
    "plt.plot(np.array(history.history['acc'])*100)\n",
    "plt.xlabel(r'Epochs')\n",
    "plt.ylabel(r'Training Accuracy, %')"
   ]
  },
  {
   "cell_type": "code",
   "execution_count": 8,
   "metadata": {},
   "outputs": [
    {
     "name": "stdout",
     "output_type": "stream",
     "text": [
      "10000/1 - 2s - loss: 1.5746 - accuracy: 0.7660\n",
      "Test loss: 1.217241884469986\n",
      "Test accuracy: 76.5999972820282\n"
     ]
    }
   ],
   "source": [
    "#3rd part: model validation on test data\n",
    "scores = model.evaluate(x_test, y_test, verbose=2)\n",
    "print('Test loss:', scores[0])\n",
    "print('Test accuracy:', scores[1]*100)"
   ]
  },
  {
   "cell_type": "code",
   "execution_count": 9,
   "metadata": {},
   "outputs": [
    {
     "data": {
      "text/plain": [
       "Text(0, 0.5, 'Training Accuracy, %')"
      ]
     },
     "execution_count": 9,
     "metadata": {},
     "output_type": "execute_result"
    },
    {
     "data": {
      "image/png": "[encoded data removed]",
      "text/plain": [
       "<Figure size 432x288 with 1 Axes>"
      ]
     },
     "metadata": {
      "needs_background": "light"
     },
     "output_type": "display_data"
    }
   ],
   "source": [
    "#Use this section to load the model, instead of running the training from the beginning\n",
    "\n",
    "model = tf.keras.models.load_model('saved_models/Model_Task1')\n",
    "df1 = pd.read_pickle('task1.pickle')\n",
    "plt.plot(np.array(df1['acc'])*100)\n",
    "plt.xlabel(r'Epochs')\n",
    "plt.ylabel(r'Training Accuracy, %')"
   ]
  },
  {
   "cell_type": "code",
   "execution_count": 17,
   "metadata": {},
   "outputs": [
    {
     "name": "stdout",
     "output_type": "stream",
     "text": [
      "Saved trained model at C:\\Users\\ahass16\\Desktop\\LSU\\Spring 2020\\Applied Deep Learning\\Lab 2\\saved_models\\Model_Task1 \n"
     ]
    }
   ],
   "source": [
    "# Save model and weights\n",
    "save_dir = os.path.join(os.getcwd(), 'saved_models')\n",
    "model_name = 'Model_Task1'\n",
    "if not os.path.isdir(save_dir):\n",
    "    os.makedirs(save_dir)\n",
    "model_path = os.path.join(save_dir, model_name)\n",
    "model.save(model_path)\n",
    "print('Saved trained model at %s ' % model_path)"
   ]
  },
  {
   "cell_type": "markdown",
   "metadata": {},
   "source": [
    "### Task 2\n",
    "As comparason, implement a regular NN:\n",
    "- 4 FC layers: 512, 256, 256, 256 neurons\n",
    "- Dropout after each FC layer\n",
    "- A FC output layer\n",
    "\n",
    "Train the CNN model until training accuracy converges. Test the model's performance on the test data."
   ]
  },
  {
   "cell_type": "code",
   "execution_count": 41,
   "metadata": {},
   "outputs": [
    {
     "name": "stdout",
     "output_type": "stream",
     "text": [
      "Model: \"sequential_1\"\n",
      "_________________________________________________________________\n",
      "Layer (type)                 Output Shape              Param #   \n",
      "=================================================================\n",
      "flatten_1 (Flatten)          (None, 3072)              0         \n",
      "_________________________________________________________________\n",
      "dense_2 (Dense)              (None, 512)               1573376   \n",
      "_________________________________________________________________\n",
      "dropout_2 (Dropout)          (None, 512)               0         \n",
      "_________________________________________________________________\n",
      "dense_3 (Dense)              (None, 256)               131328    \n",
      "_________________________________________________________________\n",
      "dropout_3 (Dropout)          (None, 256)               0         \n",
      "_________________________________________________________________\n",
      "dense_4 (Dense)              (None, 256)               65792     \n",
      "_________________________________________________________________\n",
      "dropout_4 (Dropout)          (None, 256)               0         \n",
      "_________________________________________________________________\n",
      "dense_5 (Dense)              (None, 256)               65792     \n",
      "_________________________________________________________________\n",
      "dropout_5 (Dropout)          (None, 256)               0         \n",
      "_________________________________________________________________\n",
      "dense_6 (Dense)              (None, 10)                2570      \n",
      "=================================================================\n",
      "Total params: 1,838,858\n",
      "Trainable params: 1,838,858\n",
      "Non-trainable params: 0\n",
      "_________________________________________________________________\n",
      "None\n"
     ]
    }
   ],
   "source": [
    "#1st part: Model Initilization and Construction\n",
    "\n",
    "model_2 = tf.keras.Sequential()\n",
    "\n",
    "model_2.add(tf.keras.layers.Flatten(input_shape=x_train.shape[1:])) #flatten layer before Fully-Connected (FC), or Dense, layer.\n",
    "\n",
    "model_2.add(tf.keras.layers.Dense(512,activation='relu')) #1st layer\n",
    "model_2.add(tf.keras.layers.Dropout(0.2))#dropout layer\n",
    "\n",
    "model_2.add(tf.keras.layers.Dense(256,activation='relu')) #2nd layer\n",
    "model_2.add(tf.keras.layers.Dropout(0.2))#dropout layer\n",
    "\n",
    "model_2.add(tf.keras.layers.Dense(256,activation='relu')) #2nd layer\n",
    "model_2.add(tf.keras.layers.Dropout(0.2))#dropout layer\n",
    "\n",
    "model_2.add(tf.keras.layers.Dense(256,activation='relu')) #2nd layer\n",
    "model_2.add(tf.keras.layers.Dropout(0.2))#dropout layer\n",
    "\n",
    "model_2.add(tf.keras.layers.Dense(10,activation='softmax')) #output layer\n",
    "\n",
    "model_2.compile(optimizer='adam', loss='sparse_categorical_crossentropy',metrics=['accuracy'])\n",
    "\n",
    "print(model_2.summary())\n",
    "\n"
   ]
  },
  {
   "cell_type": "code",
   "execution_count": 63,
   "metadata": {},
   "outputs": [
    {
     "name": "stdout",
     "output_type": "stream",
     "text": [
      "Train on 50000 samples, validate on 10000 samples\n",
      "Epoch 1/50\n",
      "50000/50000 [==============================] - 13s 251us/sample - loss: 1.6726 - acc: 0.4006 - val_loss: 1.6134 - val_acc: 0.4298\n",
      "Epoch 2/50\n",
      "50000/50000 [==============================] - 13s 251us/sample - loss: 1.6698 - acc: 0.4013 - val_loss: 1.6602 - val_acc: 0.3996\n",
      "Epoch 3/50\n",
      "50000/50000 [==============================] - 13s 254us/sample - loss: 1.6725 - acc: 0.3987 - val_loss: 1.6121 - val_acc: 0.4173\n",
      "Epoch 4/50\n",
      "50000/50000 [==============================] - 13s 255us/sample - loss: 1.6703 - acc: 0.3984 - val_loss: 1.6150 - val_acc: 0.4277\n",
      "Epoch 5/50\n",
      "50000/50000 [==============================] - 13s 255us/sample - loss: 1.6667 - acc: 0.3974 - val_loss: 1.6168 - val_acc: 0.4224\n",
      "Epoch 6/50\n",
      "50000/50000 [==============================] - 13s 256us/sample - loss: 1.6781 - acc: 0.3987 - val_loss: 1.6012 - val_acc: 0.4329\n",
      "Epoch 7/50\n",
      "50000/50000 [==============================] - 13s 255us/sample - loss: 1.6701 - acc: 0.4002 - val_loss: 1.6069 - val_acc: 0.4287\n",
      "Epoch 8/50\n",
      "50000/50000 [==============================] - 13s 256us/sample - loss: 1.6757 - acc: 0.3965 - val_loss: 1.6338 - val_acc: 0.4170\n",
      "Epoch 9/50\n",
      "50000/50000 [==============================] - 13s 260us/sample - loss: 1.6735 - acc: 0.3989 - val_loss: 1.5931 - val_acc: 0.4372\n",
      "Epoch 10/50\n",
      "50000/50000 [==============================] - 13s 262us/sample - loss: 1.6703 - acc: 0.4010 - val_loss: 1.6190 - val_acc: 0.4272\n",
      "Epoch 11/50\n",
      "50000/50000 [==============================] - 13s 255us/sample - loss: 1.6776 - acc: 0.3963 - val_loss: 1.6057 - val_acc: 0.4240\n",
      "Epoch 12/50\n",
      "50000/50000 [==============================] - 13s 257us/sample - loss: 1.6732 - acc: 0.3972 - val_loss: 1.6010 - val_acc: 0.4289\n",
      "Epoch 13/50\n",
      "50000/50000 [==============================] - 13s 264us/sample - loss: 1.6797 - acc: 0.3971 - val_loss: 1.6052 - val_acc: 0.4261\n",
      "Epoch 14/50\n",
      "50000/50000 [==============================] - 13s 268us/sample - loss: 1.6695 - acc: 0.3991 - val_loss: 1.6062 - val_acc: 0.4209\n",
      "Epoch 15/50\n",
      "50000/50000 [==============================] - 13s 262us/sample - loss: 1.6744 - acc: 0.4008 - val_loss: 1.6357 - val_acc: 0.4209\n",
      "Epoch 16/50\n",
      "50000/50000 [==============================] - 13s 265us/sample - loss: 1.6701 - acc: 0.3987 - val_loss: 1.6056 - val_acc: 0.4258\n",
      "Epoch 17/50\n",
      "50000/50000 [==============================] - 13s 261us/sample - loss: 1.6683 - acc: 0.4009 - val_loss: 1.6226 - val_acc: 0.4200\n",
      "Epoch 18/50\n",
      "50000/50000 [==============================] - 13s 260us/sample - loss: 1.6694 - acc: 0.3984 - val_loss: 1.6302 - val_acc: 0.4164\n",
      "Epoch 19/50\n",
      "50000/50000 [==============================] - 13s 260us/sample - loss: 1.6774 - acc: 0.3959 - val_loss: 1.6511 - val_acc: 0.4175\n",
      "Epoch 20/50\n",
      "50000/50000 [==============================] - 13s 258us/sample - loss: 1.6771 - acc: 0.3953 - val_loss: 1.6234 - val_acc: 0.4282\n",
      "Epoch 21/50\n",
      "50000/50000 [==============================] - 13s 256us/sample - loss: 1.6695 - acc: 0.3992 - val_loss: 1.6104 - val_acc: 0.4260\n",
      "Epoch 22/50\n",
      "50000/50000 [==============================] - 13s 257us/sample - loss: 1.6643 - acc: 0.4020 - val_loss: 1.5954 - val_acc: 0.4308\n",
      "Epoch 23/50\n",
      "50000/50000 [==============================] - 13s 257us/sample - loss: 1.6740 - acc: 0.4000 - val_loss: 1.5990 - val_acc: 0.4302\n",
      "Epoch 24/50\n",
      "50000/50000 [==============================] - 13s 257us/sample - loss: 1.6954 - acc: 0.3917 - val_loss: 1.6607 - val_acc: 0.4045\n",
      "Epoch 25/50\n",
      "50000/50000 [==============================] - 13s 256us/sample - loss: 1.6857 - acc: 0.3949 - val_loss: 1.6267 - val_acc: 0.4179\n",
      "Epoch 26/50\n",
      "50000/50000 [==============================] - 13s 252us/sample - loss: 1.6899 - acc: 0.3918 - val_loss: 1.6341 - val_acc: 0.4036\n",
      "Epoch 27/50\n",
      "50000/50000 [==============================] - 12s 249us/sample - loss: 1.6893 - acc: 0.3936 - val_loss: 1.6108 - val_acc: 0.4270\n",
      "Epoch 28/50\n",
      "50000/50000 [==============================] - 13s 259us/sample - loss: 1.6849 - acc: 0.3945 - val_loss: 1.6275 - val_acc: 0.4180\n",
      "Epoch 29/50\n",
      "50000/50000 [==============================] - 15s 295us/sample - loss: 1.6823 - acc: 0.3953 - val_loss: 1.6269 - val_acc: 0.4248\n",
      "Epoch 30/50\n",
      "50000/50000 [==============================] - 14s 280us/sample - loss: 1.6859 - acc: 0.3968 - val_loss: 1.6128 - val_acc: 0.4219\n",
      "Epoch 31/50\n",
      "50000/50000 [==============================] - 12s 242us/sample - loss: 1.6790 - acc: 0.3976 - val_loss: 1.6210 - val_acc: 0.4186\n",
      "Epoch 32/50\n",
      "50000/50000 [==============================] - 18s 358us/sample - loss: 1.6840 - acc: 0.3939 - val_loss: 1.6376 - val_acc: 0.4310\n",
      "Epoch 33/50\n",
      "50000/50000 [==============================] - 13s 252us/sample - loss: 1.6823 - acc: 0.3953 - val_loss: 1.6122 - val_acc: 0.4261\n",
      "Epoch 34/50\n",
      "50000/50000 [==============================] - 13s 257us/sample - loss: 1.6672 - acc: 0.4065 - val_loss: 1.6102 - val_acc: 0.4199\n",
      "Epoch 35/50\n",
      "50000/50000 [==============================] - 13s 262us/sample - loss: 1.6717 - acc: 0.3978 - val_loss: 1.6086 - val_acc: 0.4240\n",
      "Epoch 36/50\n",
      "50000/50000 [==============================] - 14s 287us/sample - loss: 1.6685 - acc: 0.4015 - val_loss: 1.6416 - val_acc: 0.4048\n",
      "Epoch 37/50\n",
      "50000/50000 [==============================] - 19s 374us/sample - loss: 1.6664 - acc: 0.4008 - val_loss: 1.6162 - val_acc: 0.4312\n",
      "Epoch 38/50\n",
      "50000/50000 [==============================] - 14s 290us/sample - loss: 1.6648 - acc: 0.4045 - val_loss: 1.5976 - val_acc: 0.4342\n",
      "Epoch 39/50\n",
      "50000/50000 [==============================] - 16s 327us/sample - loss: 1.6653 - acc: 0.4022 - val_loss: 1.5919 - val_acc: 0.4289\n",
      "Epoch 40/50\n",
      "50000/50000 [==============================] - 15s 301us/sample - loss: 1.6640 - acc: 0.4036 - val_loss: 1.6047 - val_acc: 0.4313\n",
      "Epoch 41/50\n",
      "50000/50000 [==============================] - 12s 236us/sample - loss: 1.6691 - acc: 0.4028 - val_loss: 1.5823 - val_acc: 0.4405\n",
      "Epoch 42/50\n",
      "50000/50000 [==============================] - 13s 253us/sample - loss: 1.6639 - acc: 0.4022 - val_loss: 1.6324 - val_acc: 0.4216\n",
      "Epoch 43/50\n",
      "50000/50000 [==============================] - 14s 272us/sample - loss: 1.6694 - acc: 0.3993 - val_loss: 1.6048 - val_acc: 0.4271\n",
      "Epoch 44/50\n",
      "50000/50000 [==============================] - 14s 270us/sample - loss: 1.6522 - acc: 0.4071 - val_loss: 1.5962 - val_acc: 0.4317\n",
      "Epoch 45/50\n",
      "50000/50000 [==============================] - 12s 239us/sample - loss: 1.6595 - acc: 0.4051 - val_loss: 1.6521 - val_acc: 0.4117\n",
      "Epoch 46/50\n",
      "50000/50000 [==============================] - 13s 262us/sample - loss: 1.6650 - acc: 0.4020 - val_loss: 1.6169 - val_acc: 0.4184\n",
      "Epoch 47/50\n",
      "50000/50000 [==============================] - 16s 321us/sample - loss: 1.6626 - acc: 0.4005 - val_loss: 1.6027 - val_acc: 0.4229\n",
      "Epoch 48/50\n",
      "50000/50000 [==============================] - 17s 336us/sample - loss: 1.6589 - acc: 0.4054 - val_loss: 1.6316 - val_acc: 0.4112\n",
      "Epoch 49/50\n",
      "50000/50000 [==============================] - 13s 267us/sample - loss: 1.6625 - acc: 0.4029 - val_loss: 1.6179 - val_acc: 0.4225\n",
      "Epoch 50/50\n",
      "50000/50000 [==============================] - 15s 307us/sample - loss: 1.6639 - acc: 0.4053 - val_loss: 1.6058 - val_acc: 0.4215\n"
     ]
    }
   ],
   "source": [
    "#2nd part: model training \n",
    "history_2=model_2.fit(x_train, y_train, epochs=50, batch_size=32, validation_data = (x_test, y_test))"
   ]
  },
  {
   "cell_type": "code",
   "execution_count": 11,
   "metadata": {},
   "outputs": [
    {
     "name": "stdout",
     "output_type": "stream",
     "text": [
      "10000/1 - 0s - loss: 1.5838 - accuracy: 0.4215\n",
      "Test loss: 1.6057945205688477\n",
      "Test accuracy: 42.14999973773956\n"
     ]
    }
   ],
   "source": [
    "#3rd part: model validation on test data\n",
    "scores = model_2.evaluate(x_test, y_test, verbose=2)\n",
    "print('Test loss:', scores[0])\n",
    "print('Test accuracy:', scores[1]*100)"
   ]
  },
  {
   "cell_type": "code",
   "execution_count": 65,
   "metadata": {},
   "outputs": [
    {
     "data": {
      "text/plain": [
       "Text(0, 0.5, 'Training Accuracy, %')"
      ]
     },
     "execution_count": 65,
     "metadata": {},
     "output_type": "execute_result"
    },
    {
     "data": {
      "image/png": "[encoded data removed]",
      "text/plain": [
       "<Figure size 432x288 with 1 Axes>"
      ]
     },
     "metadata": {
      "needs_background": "light"
     },
     "output_type": "display_data"
    }
   ],
   "source": [
    "#Plotting model accuracy on training data as a function of epochs number\n",
    "\n",
    "plt.plot(np.array(history_2.history['acc']) * 100)\n",
    "plt.xlabel(r'Epochs')\n",
    "plt.ylabel(r'Training Accuracy, %')\n",
    "\n",
    "#You shall notice that training accuracy starts at 40% because I trained the model 3 consecutive times using 50 epochs."
   ]
  },
  {
   "cell_type": "code",
   "execution_count": 10,
   "metadata": {},
   "outputs": [
    {
     "data": {
      "text/plain": [
       "Text(0, 0.5, 'Training Accuracy, %')"
      ]
     },
     "execution_count": 10,
     "metadata": {},
     "output_type": "execute_result"
    },
    {
     "data": {
      "image/png": "[encoded data removed]",
      "text/plain": [
       "<Figure size 432x288 with 1 Axes>"
      ]
     },
     "metadata": {
      "needs_background": "light"
     },
     "output_type": "display_data"
    }
   ],
   "source": [
    "#Use this section to load the model, instead of running the training from the beginning\n",
    "\n",
    "model_2 = tf.keras.models.load_model('saved_models/Model_Task2')\n",
    "df1 = pd.read_pickle('task2.pickle')\n",
    "plt.plot(np.array(df1['acc'])*100)\n",
    "plt.xlabel(r'Epochs')\n",
    "plt.ylabel(r'Training Accuracy, %')"
   ]
  },
  {
   "cell_type": "code",
   "execution_count": 66,
   "metadata": {},
   "outputs": [
    {
     "name": "stdout",
     "output_type": "stream",
     "text": [
      "Saved trained model at C:\\Users\\ahass16\\Desktop\\LSU\\Spring 2020\\Applied Deep Learning\\Lab 2\\saved_models\\Model_Task2 \n"
     ]
    }
   ],
   "source": [
    "# Save model and weights\n",
    "save_dir = os.path.join(os.getcwd(), 'saved_models')\n",
    "model_name = 'Model_Task2'\n",
    "if not os.path.isdir(save_dir):\n",
    "    os.makedirs(save_dir)\n",
    "model_path = os.path.join(save_dir, model_name)\n",
    "model_2.save(model_path)\n",
    "print('Saved trained model at %s ' % model_path)"
   ]
  },
  {
   "cell_type": "markdown",
   "metadata": {},
   "source": [
    "### Task 3\n",
    "Re-implement the model in Task 1 using the **functional API**.\n",
    "\n",
    "**fit** function takes a parameter \"validation_data\". You can pass the tuple x_test and y_test to that parameter. With this, the accuracy on the test data will be calculated each epoch, along with the training accuracy.  \n",
    "\n",
    "Plot both the training and the test accuracy in one plot. Does the test accuracy always increase with the training accuracy? "
   ]
  },
  {
   "cell_type": "code",
   "execution_count": 68,
   "metadata": {},
   "outputs": [
    {
     "name": "stdout",
     "output_type": "stream",
     "text": [
      "Model: \"model_1\"\n",
      "_________________________________________________________________\n",
      "Layer (type)                 Output Shape              Param #   \n",
      "=================================================================\n",
      "input_2 (InputLayer)         [(None, 32, 32, 3)]       0         \n",
      "_________________________________________________________________\n",
      "conv2d_8 (Conv2D)            (None, 32, 32, 32)        896       \n",
      "_________________________________________________________________\n",
      "conv2d_9 (Conv2D)            (None, 32, 32, 32)        9248      \n",
      "_________________________________________________________________\n",
      "max_pooling2d_4 (MaxPooling2 (None, 16, 16, 32)        0         \n",
      "_________________________________________________________________\n",
      "dropout_8 (Dropout)          (None, 16, 16, 32)        0         \n",
      "_________________________________________________________________\n",
      "conv2d_10 (Conv2D)           (None, 16, 16, 64)        18496     \n",
      "_________________________________________________________________\n",
      "conv2d_11 (Conv2D)           (None, 16, 16, 64)        36928     \n",
      "_________________________________________________________________\n",
      "max_pooling2d_5 (MaxPooling2 (None, 8, 8, 64)          0         \n",
      "_________________________________________________________________\n",
      "dropout_9 (Dropout)          (None, 8, 8, 64)          0         \n",
      "_________________________________________________________________\n",
      "flatten_3 (Flatten)          (None, 4096)              0         \n",
      "_________________________________________________________________\n",
      "dense_9 (Dense)              (None, 128)               524416    \n",
      "_________________________________________________________________\n",
      "dense_10 (Dense)             (None, 10)                1290      \n",
      "=================================================================\n",
      "Total params: 591,274\n",
      "Trainable params: 591,274\n",
      "Non-trainable params: 0\n",
      "_________________________________________________________________\n",
      "None\n"
     ]
    }
   ],
   "source": [
    "#1st part: model creation and construction\n",
    "\n",
    "inputs = tf.keras.layers.Input(shape=x_train.shape[1:])\n",
    "\n",
    "conv1 = tf.keras.layers.Conv2D(32,(3,3),activation='relu',padding='same')(inputs)\n",
    "conv2 = tf.keras.layers.Conv2D(32,(3,3),activation='relu',padding='same')(conv1)\n",
    "\n",
    "pool1 = tf.keras.layers.MaxPooling2D(pool_size=(2, 2))(conv2)\n",
    "drop1= tf.keras.layers.Dropout(0.2)(pool1)\n",
    "\n",
    "conv3 = tf.keras.layers.Conv2D(64,(3,3),activation='relu',padding='same')(drop1)\n",
    "conv4 = tf.keras.layers.Conv2D(64,(3,3),activation='relu',padding='same')(conv3)\n",
    "\n",
    "pool2 = tf.keras.layers.MaxPooling2D(pool_size=(2, 2))(conv4)\n",
    "drop2 = tf.keras.layers.Dropout(0.2)(pool2)\n",
    "\n",
    "flatten = tf.keras.layers.Flatten()(drop2)\n",
    "\n",
    "dense = tf.keras.layers.Dense(128,activation='relu')(flatten) \n",
    "\n",
    "output = tf.keras.layers.Dense(10,activation='softmax')(dense) #output layer\n",
    "\n",
    "model_3 = tf.keras.models.Model(inputs=inputs, outputs=output)\n",
    "\n",
    "model_3.compile(optimizer='adam', loss='sparse_categorical_crossentropy',metrics=['accuracy'])\n",
    "\n",
    "print(model_3.summary())"
   ]
  },
  {
   "cell_type": "code",
   "execution_count": 71,
   "metadata": {},
   "outputs": [
    {
     "name": "stdout",
     "output_type": "stream",
     "text": [
      "Train on 50000 samples, validate on 10000 samples\n",
      "Epoch 1/50\n",
      "50000/50000 [==============================] - 101s 2ms/sample - loss: 1.2843 - acc: 0.5371 - val_loss: 1.1709 - val_acc: 0.5825\n",
      "Epoch 2/50\n",
      "50000/50000 [==============================] - 99s 2ms/sample - loss: 0.9749 - acc: 0.6583 - val_loss: 0.9080 - val_acc: 0.6820\n",
      "Epoch 3/50\n",
      "50000/50000 [==============================] - 104s 2ms/sample - loss: 0.8321 - acc: 0.7081 - val_loss: 0.8256 - val_acc: 0.7116\n",
      "Epoch 4/50\n",
      "50000/50000 [==============================] - 96s 2ms/sample - loss: 0.7366 - acc: 0.7387 - val_loss: 0.7715 - val_acc: 0.7331\n",
      "Epoch 5/50\n",
      "50000/50000 [==============================] - 98s 2ms/sample - loss: 0.6596 - acc: 0.7671 - val_loss: 0.8052 - val_acc: 0.7279\n",
      "Epoch 6/50\n",
      "50000/50000 [==============================] - 94s 2ms/sample - loss: 0.6018 - acc: 0.7859 - val_loss: 0.7321 - val_acc: 0.7483\n",
      "Epoch 7/50\n",
      "50000/50000 [==============================] - 94s 2ms/sample - loss: 0.5495 - acc: 0.8048 - val_loss: 0.7435 - val_acc: 0.7538\n",
      "Epoch 8/50\n",
      "50000/50000 [==============================] - 95s 2ms/sample - loss: 0.5065 - acc: 0.8206 - val_loss: 0.7489 - val_acc: 0.7486\n",
      "Epoch 9/50\n",
      "50000/50000 [==============================] - 94s 2ms/sample - loss: 0.4715 - acc: 0.8326 - val_loss: 0.7195 - val_acc: 0.7607\n",
      "Epoch 10/50\n",
      "50000/50000 [==============================] - 95s 2ms/sample - loss: 0.4291 - acc: 0.8474 - val_loss: 0.7384 - val_acc: 0.7586\n",
      "Epoch 11/50\n",
      "50000/50000 [==============================] - 92s 2ms/sample - loss: 0.4109 - acc: 0.8535 - val_loss: 0.7614 - val_acc: 0.7570\n",
      "Epoch 12/50\n",
      "50000/50000 [==============================] - 93s 2ms/sample - loss: 0.3809 - acc: 0.8623 - val_loss: 0.8311 - val_acc: 0.7537\n",
      "Epoch 13/50\n",
      "50000/50000 [==============================] - 95s 2ms/sample - loss: 0.3601 - acc: 0.8705 - val_loss: 0.8241 - val_acc: 0.7502\n",
      "Epoch 14/50\n",
      "50000/50000 [==============================] - 98s 2ms/sample - loss: 0.3343 - acc: 0.8816 - val_loss: 0.8500 - val_acc: 0.7518\n",
      "Epoch 15/50\n",
      "50000/50000 [==============================] - 96s 2ms/sample - loss: 0.3214 - acc: 0.8844 - val_loss: 0.8062 - val_acc: 0.7647\n",
      "Epoch 16/50\n",
      "50000/50000 [==============================] - 94s 2ms/sample - loss: 0.3132 - acc: 0.8879 - val_loss: 0.8133 - val_acc: 0.7676\n",
      "Epoch 17/50\n",
      "50000/50000 [==============================] - 92s 2ms/sample - loss: 0.2965 - acc: 0.8935 - val_loss: 0.8669 - val_acc: 0.7611\n",
      "Epoch 18/50\n",
      "50000/50000 [==============================] - 96s 2ms/sample - loss: 0.2852 - acc: 0.8972 - val_loss: 0.8693 - val_acc: 0.7596\n",
      "Epoch 19/50\n",
      "50000/50000 [==============================] - 99s 2ms/sample - loss: 0.2703 - acc: 0.9032 - val_loss: 0.9127 - val_acc: 0.7624\n",
      "Epoch 20/50\n",
      "50000/50000 [==============================] - 100s 2ms/sample - loss: 0.2669 - acc: 0.9043 - val_loss: 0.9283 - val_acc: 0.7625\n",
      "Epoch 21/50\n",
      "50000/50000 [==============================] - 95s 2ms/sample - loss: 0.2560 - acc: 0.9096 - val_loss: 0.9350 - val_acc: 0.7616\n",
      "Epoch 22/50\n",
      "50000/50000 [==============================] - 95s 2ms/sample - loss: 0.2480 - acc: 0.9126 - val_loss: 0.9584 - val_acc: 0.7669\n",
      "Epoch 23/50\n",
      "50000/50000 [==============================] - 94s 2ms/sample - loss: 0.2400 - acc: 0.9134 - val_loss: 0.9839 - val_acc: 0.7654\n",
      "Epoch 24/50\n",
      "50000/50000 [==============================] - 95s 2ms/sample - loss: 0.2287 - acc: 0.9183 - val_loss: 1.0100 - val_acc: 0.7618\n",
      "Epoch 25/50\n",
      "50000/50000 [==============================] - 95s 2ms/sample - loss: 0.2262 - acc: 0.9190 - val_loss: 1.0210 - val_acc: 0.7622\n",
      "Epoch 26/50\n",
      "50000/50000 [==============================] - 96s 2ms/sample - loss: 0.2209 - acc: 0.9221 - val_loss: 1.1120 - val_acc: 0.7474\n",
      "Epoch 27/50\n",
      "50000/50000 [==============================] - 98s 2ms/sample - loss: 0.2156 - acc: 0.9239 - val_loss: 1.0254 - val_acc: 0.7596\n",
      "Epoch 28/50\n",
      "50000/50000 [==============================] - 96s 2ms/sample - loss: 0.2047 - acc: 0.9282 - val_loss: 1.0453 - val_acc: 0.7646\n",
      "Epoch 29/50\n",
      "50000/50000 [==============================] - 95s 2ms/sample - loss: 0.2056 - acc: 0.9270 - val_loss: 1.0635 - val_acc: 0.7644\n",
      "Epoch 30/50\n",
      "50000/50000 [==============================] - 95s 2ms/sample - loss: 0.2059 - acc: 0.9266 - val_loss: 1.0360 - val_acc: 0.7615\n",
      "Epoch 31/50\n",
      "50000/50000 [==============================] - 95s 2ms/sample - loss: 0.1940 - acc: 0.9322 - val_loss: 1.0400 - val_acc: 0.7596\n",
      "Epoch 32/50\n",
      "50000/50000 [==============================] - 95s 2ms/sample - loss: 0.1974 - acc: 0.9309 - val_loss: 1.0811 - val_acc: 0.7590\n",
      "Epoch 33/50\n",
      "50000/50000 [==============================] - 95s 2ms/sample - loss: 0.2002 - acc: 0.9313 - val_loss: 1.0242 - val_acc: 0.7614\n",
      "Epoch 34/50\n",
      "50000/50000 [==============================] - 95s 2ms/sample - loss: 0.1873 - acc: 0.9340 - val_loss: 1.1100 - val_acc: 0.7575\n",
      "Epoch 35/50\n",
      "50000/50000 [==============================] - 95s 2ms/sample - loss: 0.1802 - acc: 0.9369 - val_loss: 1.0906 - val_acc: 0.7636\n",
      "Epoch 36/50\n",
      "50000/50000 [==============================] - 96s 2ms/sample - loss: 0.1793 - acc: 0.9381 - val_loss: 1.0560 - val_acc: 0.7608\n",
      "Epoch 37/50\n",
      "50000/50000 [==============================] - 96s 2ms/sample - loss: 0.1764 - acc: 0.9387 - val_loss: 1.0747 - val_acc: 0.7698\n",
      "Epoch 38/50\n",
      "50000/50000 [==============================] - 96s 2ms/sample - loss: 0.1753 - acc: 0.9393 - val_loss: 1.2653 - val_acc: 0.7543\n",
      "Epoch 39/50\n",
      "50000/50000 [==============================] - 96s 2ms/sample - loss: 0.1686 - acc: 0.9401 - val_loss: 1.1321 - val_acc: 0.7634\n",
      "Epoch 40/50\n",
      "50000/50000 [==============================] - 96s 2ms/sample - loss: 0.1745 - acc: 0.9412 - val_loss: 1.1628 - val_acc: 0.7551\n",
      "Epoch 41/50\n",
      "50000/50000 [==============================] - 95s 2ms/sample - loss: 0.1763 - acc: 0.9395 - val_loss: 1.1346 - val_acc: 0.7697\n",
      "Epoch 42/50\n",
      "50000/50000 [==============================] - 95s 2ms/sample - loss: 0.1692 - acc: 0.9409 - val_loss: 1.1335 - val_acc: 0.7664\n",
      "Epoch 43/50\n",
      "50000/50000 [==============================] - 94s 2ms/sample - loss: 0.1639 - acc: 0.9443 - val_loss: 1.1710 - val_acc: 0.7547\n",
      "Epoch 44/50\n",
      "50000/50000 [==============================] - 94s 2ms/sample - loss: 0.1645 - acc: 0.9441 - val_loss: 1.1334 - val_acc: 0.7645\n",
      "Epoch 45/50\n",
      "50000/50000 [==============================] - 95s 2ms/sample - loss: 0.1561 - acc: 0.9473 - val_loss: 1.1056 - val_acc: 0.7667\n",
      "Epoch 46/50\n",
      "50000/50000 [==============================] - 95s 2ms/sample - loss: 0.1595 - acc: 0.9457 - val_loss: 1.2297 - val_acc: 0.7653\n",
      "Epoch 47/50\n",
      "50000/50000 [==============================] - 95s 2ms/sample - loss: 0.1636 - acc: 0.9440 - val_loss: 1.1762 - val_acc: 0.7670\n",
      "Epoch 48/50\n",
      "50000/50000 [==============================] - 102s 2ms/sample - loss: 0.1587 - acc: 0.9461 - val_loss: 1.1501 - val_acc: 0.7634\n",
      "Epoch 49/50\n",
      "50000/50000 [==============================] - 99s 2ms/sample - loss: 0.1559 - acc: 0.9474 - val_loss: 1.2117 - val_acc: 0.7616\n",
      "Epoch 50/50\n",
      "50000/50000 [==============================] - 100s 2ms/sample - loss: 0.1555 - acc: 0.9470 - val_loss: 1.1849 - val_acc: 0.7603\n"
     ]
    }
   ],
   "source": [
    "#Model Training \n",
    "history_3=model_3.fit(x_train, y_train, epochs=50, batch_size=32, validation_data = (x_test, y_test))"
   ]
  },
  {
   "cell_type": "code",
   "execution_count": 13,
   "metadata": {},
   "outputs": [
    {
     "name": "stdout",
     "output_type": "stream",
     "text": [
      "10000/1 - 1s - loss: 1.8629 - accuracy: 0.7603\n",
      "Test loss: 1.1849362686634064\n",
      "Test accuracy: 76.02999806404114\n"
     ]
    }
   ],
   "source": [
    "#3rd part: model validation on test data\n",
    "scores = model_3.evaluate(x_test, y_test, verbose=2)\n",
    "print('Test loss:', scores[0])\n",
    "print('Test accuracy:', scores[1]*100)"
   ]
  },
  {
   "cell_type": "code",
   "execution_count": 12,
   "metadata": {},
   "outputs": [
    {
     "data": {
      "text/plain": [
       "Text(0, 0.5, 'Training Accuracy, %')"
      ]
     },
     "execution_count": 12,
     "metadata": {},
     "output_type": "execute_result"
    },
    {
     "data": {
      "image/png": "[encoded data removed]",
      "text/plain": [
       "<Figure size 432x288 with 1 Axes>"
      ]
     },
     "metadata": {
      "needs_background": "light"
     },
     "output_type": "display_data"
    }
   ],
   "source": [
    "#Use this section to load the model, instead of running the training from the beginning\n",
    "\n",
    "model_3 = tf.keras.models.load_model('saved_models/Model_Task3')\n",
    "df1 = pd.read_pickle('task3.pickle')\n",
    "plt.plot(np.array(df1['acc'])*100)\n",
    "plt.xlabel(r'Epochs')\n",
    "plt.ylabel(r'Training Accuracy, %')"
   ]
  },
  {
   "cell_type": "code",
   "execution_count": 76,
   "metadata": {},
   "outputs": [
    {
     "data": {
      "image/png": "[encoded data removed]",
      "text/plain": [
       "<Figure size 720x396 with 1 Axes>"
      ]
     },
     "metadata": {
      "needs_background": "light"
     },
     "output_type": "display_data"
    }
   ],
   "source": [
    "#Plotting model accuracy on training and testing data as a function of epochs number\n",
    "\n",
    "plt.plot(np.array(history_3.history['acc']) * 100, label='Training',color='r')\n",
    "plt.plot(np.array(history_3.history['val_acc']) * 100, label='Testing',color='b')\n",
    "plt.xlabel(r'Epochs')\n",
    "plt.ylabel(r'Accuracy, %')\n",
    "plt.legend()\n",
    "plt.grid( which='major', axis='both', )\n",
    "fig = plt.gcf()\n",
    "fig.set_size_inches(10, 5.5)\n",
    "#Testing accuracy does NOT increase as Training accuracy increases as shown in the graph below."
   ]
  },
  {
   "cell_type": "code",
   "execution_count": 78,
   "metadata": {},
   "outputs": [
    {
     "name": "stdout",
     "output_type": "stream",
     "text": [
      "Saved trained model at C:\\Users\\ahass16\\Desktop\\LSU\\Spring 2020\\Applied Deep Learning\\Lab 2\\saved_models\\Model_Task3 \n"
     ]
    }
   ],
   "source": [
    "# Save model and weights\n",
    "save_dir = os.path.join(os.getcwd(), 'saved_models')\n",
    "model_name = 'Model_Task3'\n",
    "if not os.path.isdir(save_dir):\n",
    "    os.makedirs(save_dir)\n",
    "model_path = os.path.join(save_dir, model_name)\n",
    "model_3.save(model_path)\n",
    "print('Saved trained model at %s ' % model_path)"
   ]
  },
  {
   "cell_type": "code",
   "execution_count": 81,
   "metadata": {},
   "outputs": [],
   "source": [
    "import pickle\n",
    "import pandas as pd\n",
    "\n",
    "#The following saves values stored in model.fit into .pickle files"
   ]
  },
  {
   "cell_type": "code",
   "execution_count": 85,
   "metadata": {},
   "outputs": [],
   "source": [
    "df1 = pd.DataFrame(history.history)\n",
    "df1.to_pickle('task1.pickle')"
   ]
  },
  {
   "cell_type": "code",
   "execution_count": 93,
   "metadata": {},
   "outputs": [],
   "source": [
    "df2 = pd.DataFrame(history_2.history)\n",
    "df2.to_pickle('task2.pickle')"
   ]
  },
  {
   "cell_type": "code",
   "execution_count": 94,
   "metadata": {},
   "outputs": [],
   "source": [
    "df3 = pd.DataFrame(history_3.history)\n",
    "df3.to_pickle('task3.pickle')"
   ]
  },
  {
   "cell_type": "code",
   "execution_count": 92,
   "metadata": {},
   "outputs": [],
   "source": [
    "\n"
   ]
  }
 ],
 "metadata": {
  "accelerator": "GPU",
  "colab": {
   "collapsed_sections": [],
   "name": "cifar_cnn.ipynb",
   "provenance": []
  },
  "kernelspec": {
   "display_name": "Python 3",
   "language": "python",
   "name": "python3"
  },
  "language_info": {
   "codemirror_mode": {
    "name": "ipython",
    "version": 3
   },
   "file_extension": ".py",
   "mimetype": "text/x-python",
   "name": "python",
   "nbconvert_exporter": "python",
   "pygments_lexer": "ipython3",
   "version": "3.7.3"
  }
 },
 "nbformat": 4,
 "nbformat_minor": 1
}
