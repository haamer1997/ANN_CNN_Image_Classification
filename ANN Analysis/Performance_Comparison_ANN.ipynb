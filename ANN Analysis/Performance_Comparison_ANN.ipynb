{
 "cells": [
  {
   "cell_type": "code",
   "execution_count": 1,
   "metadata": {},
   "outputs": [
    {
     "name": "stdout",
     "output_type": "stream",
     "text": [
      "Populating the interactive namespace from numpy and matplotlib\n"
     ]
    }
   ],
   "source": [
    "%pylab inline"
   ]
  },
  {
   "cell_type": "code",
   "execution_count": 2,
   "metadata": {},
   "outputs": [],
   "source": [
    "import tensorflow as tf\n",
    "import matplotlib.pyplot as plt\n",
    "import os\n",
    "import pickle\n",
    "import pandas as pd"
   ]
  },
  {
   "cell_type": "code",
   "execution_count": 3,
   "metadata": {},
   "outputs": [],
   "source": [
    "cifar10 = tf.keras.datasets.cifar10\n",
    "\n",
    "(x_train, y_train), (x_test, y_test) = cifar10.load_data()\n",
    "x_train, x_test = x_train / 255.0, x_test / 255.0"
   ]
  },
  {
   "cell_type": "code",
   "execution_count": 11,
   "metadata": {},
   "outputs": [],
   "source": [
    "model_4layer_512_256_256_256 = tf.keras.models.load_model('saved_models/Model_ANN_Init')\n",
    "model_3layer_512_256_256 = tf.keras.models.load_model('saved_models/Model_ANN_3hid_512_256_256')\n",
    "model_2layer_512_256 = tf.keras.models.load_model('saved_models/Model_ANN_2hid512_256')\n",
    "model_2layer_512_512 = tf.keras.models.load_model('saved_models/Model_ANN_2hid512_512')\n",
    "model_2layer_1024_256 = tf.keras.models.load_model('saved_models/Model_ANN_2hid1024_256')\n",
    "model_1layer_512 = tf.keras.models.load_model('saved_models/Model_ANN_1hid512')\n",
    "model_1layer_256 = tf.keras.models.load_model('saved_models/Model_ANN_1hid256')\n",
    "model_1layer_1024 = tf.keras.models.load_model('saved_models/Model_ANN_1hid1024')\n",
    "model_1layer_2048 = tf.keras.models.load_model('saved_models/Model_ANN_1hid2048')"
   ]
  },
  {
   "cell_type": "code",
   "execution_count": 12,
   "metadata": {},
   "outputs": [
    {
     "name": "stdout",
     "output_type": "stream",
     "text": [
      "10000/10000 - 1s - loss: 1.6175 - accuracy: 0.4282\n",
      "10000/10000 - 1s - loss: 1.6262 - accuracy: 0.4288\n",
      "10000/10000 - 1s - loss: 1.5344 - accuracy: 0.4430\n",
      "10000/10000 - 1s - loss: 1.6118 - accuracy: 0.4282\n",
      "10000/10000 - 2s - loss: 1.5231 - accuracy: 0.4617\n",
      "10000/10000 - 1s - loss: 1.5361 - accuracy: 0.4498\n",
      "10000/10000 - 1s - loss: 1.6325 - accuracy: 0.4203\n",
      "10000/10000 - 2s - loss: 1.4916 - accuracy: 0.4668\n",
      "10000/10000 - 3s - loss: 1.5275 - accuracy: 0.4540\n"
     ]
    }
   ],
   "source": [
    "scores_4layer_512_256_256_256 = model_4layer_512_256_256_256.evaluate(x_test, y_test, verbose=2)\n",
    "#print('Test loss:', scores[0])\n",
    "#print('Test accuracy:', scores[1]*100)\n",
    "scores_3layer_512_256_256 = model_3layer_512_256_256.evaluate(x_test, y_test, verbose=2)\n",
    "scores_2layer_512_256 = model_2layer_512_256.evaluate(x_test, y_test, verbose=2)\n",
    "scores_2layer_512_512 = model_2layer_512_512.evaluate(x_test, y_test, verbose=2)\n",
    "scores_2layer_1024_256 = model_2layer_1024_256.evaluate(x_test, y_test, verbose=2)\n",
    "scores_1layer_512 = model_1layer_512.evaluate(x_test, y_test, verbose=2)\n",
    "scores_1layer_256 = model_1layer_256.evaluate(x_test, y_test, verbose=2)\n",
    "scores_1layer_1024 = model_1layer_1024.evaluate(x_test, y_test, verbose=2)\n",
    "scores_1layer_2048 = model_1layer_2048.evaluate(x_test, y_test, verbose=2)"
   ]
  },
  {
   "cell_type": "code",
   "execution_count": 35,
   "metadata": {},
   "outputs": [
    {
     "data": {
      "image/png": "[encoded data removed]",
      "text/plain": [
       "<Figure size 432x288 with 1 Axes>"
      ]
     },
     "metadata": {
      "needs_background": "light"
     },
     "output_type": "display_data"
    }
   ],
   "source": [
    "accuracy_1layer = [[256, scores_1layer_256[1]], [512, scores_1layer_512[1]], [1024, scores_1layer_1024[1]], [2048, scores_1layer_2048[1]]]\n",
    "accuracy_1layer = np.array(accuracy_1layer)\n",
    "x = range(len(accuracy_1layer[:,0]))\n",
    "plt.bar(x, accuracy_1layer[:,1])\n",
    "plt.xticks(x, accuracy_1layer[:,0])\n",
    "plt.xlabel('# of cells - 1 Hidden layer')\n",
    "plt.ylabel('Testing Accuracy %')\n",
    "plt.show()"
   ]
  },
  {
   "cell_type": "markdown",
   "metadata": {},
   "source": [
    "For 1 Hidden layer, 1024 of cells would be the best configuration with highest testing accuracy"
   ]
  },
  {
   "cell_type": "code",
   "execution_count": 36,
   "metadata": {},
   "outputs": [
    {
     "data": {
      "image/png": "[encoded data removed]",
      "text/plain": [
       "<Figure size 432x288 with 1 Axes>"
      ]
     },
     "metadata": {
      "needs_background": "light"
     },
     "output_type": "display_data"
    }
   ],
   "source": [
    "accuracy_layer = [[1, scores_1layer_512[1]], [2, scores_2layer_512_256[1]], [3, scores_3layer_512_256_256[1]], [4, scores_4layer_512_256_256_256[1]]]\n",
    "accuracy_layer = np.array(accuracy_layer)\n",
    "x = range(len(accuracy_layer[:,0]))\n",
    "plt.bar(x, accuracy_layer[:,1])\n",
    "plt.xticks(x, accuracy_layer[:,0])\n",
    "plt.xlabel('# of layers')\n",
    "plt.ylabel('Testing Accuracy %')\n",
    "plt.show()"
   ]
  },
  {
   "cell_type": "markdown",
   "metadata": {},
   "source": [
    "For Different layers arrangement, We fould find that 1 layer would reach the highest testing accuracy. \n",
    "The network becomes bad when the network becomes more complex (i.e., adding too much layers)."
   ]
  },
  {
   "cell_type": "code",
   "execution_count": 43,
   "metadata": {},
   "outputs": [
    {
     "data": {
      "image/png": "[encoded data removed]",
      "text/plain": [
       "<Figure size 432x288 with 1 Axes>"
      ]
     },
     "metadata": {
      "needs_background": "light"
     },
     "output_type": "display_data"
    }
   ],
   "source": [
    "accuracy_2layer = [[0, scores_2layer_512_256[1]], [1, scores_2layer_512_256[1]], [2, scores_2layer_1024_256[1]]]\n",
    "accuracy_2layer = np.array(accuracy_2layer)\n",
    "x_label = [\"512_256\", \"512_512\", \"1024_256\"]\n",
    "x = range(len(x_label))\n",
    "#x = range(len(accuracy_2layer[:,0]))\n",
    "plt.bar(x, accuracy_2layer[:,1])\n",
    "plt.xticks(x, x_label)\n",
    "plt.xlabel('Different # of cells -2 Hidden Layer')\n",
    "plt.ylabel('Testing Accuracy %')\n",
    "plt.show()"
   ]
  },
  {
   "cell_type": "code",
   "execution_count": null,
   "metadata": {},
   "outputs": [],
   "source": []
  }
 ],
 "metadata": {
  "kernelspec": {
   "display_name": "Python 3",
   "language": "python",
   "name": "python3"
  },
  "language_info": {
   "codemirror_mode": {
    "name": "ipython",
    "version": 3
   },
   "file_extension": ".py",
   "mimetype": "text/x-python",
   "name": "python",
   "nbconvert_exporter": "python",
   "pygments_lexer": "ipython3",
   "version": "3.7.9"
  }
 },
 "nbformat": 4,
 "nbformat_minor": 4
}
