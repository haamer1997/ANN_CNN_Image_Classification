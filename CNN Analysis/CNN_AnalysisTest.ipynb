{
 "cells": [
  {
   "cell_type": "code",
   "execution_count": 1,
   "metadata": {
    "colab": {
     "base_uri": "https://localhost:8080/"
    },
    "id": "_x7gl8IW5glR",
    "outputId": "5958c1c2-1009-4025-eb5a-5c8bb69cd79e"
   },
   "outputs": [
    {
     "name": "stdout",
     "output_type": "stream",
     "text": [
      "Populating the interactive namespace from numpy and matplotlib\n"
     ]
    }
   ],
   "source": [
    "%pylab inline"
   ]
  },
  {
   "cell_type": "code",
   "execution_count": 5,
   "metadata": {
    "colab": {
     "base_uri": "https://localhost:8080/"
    },
    "id": "s3GGvMnU52B5",
    "outputId": "a653e639-343a-483c-95b7-3bbe4ce4c6be"
   },
   "outputs": [
    {
     "name": "stdout",
     "output_type": "stream",
     "text": [
      "zsh:1: command not found: nvidia-smi\r\n"
     ]
    }
   ],
   "source": [
    "!nvidia-smi"
   ]
  },
  {
   "cell_type": "code",
   "execution_count": 2,
   "metadata": {
    "id": "XjCLjJ1C5ljo"
   },
   "outputs": [],
   "source": [
    "import tensorflow as tf\n",
    "from tensorflow.keras import Model\n",
    "from tensorflow.keras.layers import Conv2D, MaxPooling2D, Dropout, Flatten, Dense"
   ]
  },
  {
   "cell_type": "code",
   "execution_count": 13,
   "metadata": {
    "colab": {
     "base_uri": "https://localhost:8080/"
    },
    "id": "sw94OUH35xBV",
    "outputId": "7ae9cc2d-6cea-4a38-ec3f-b419e2bb3d2b"
   },
   "outputs": [],
   "source": [
    "gpus = tf.config.experimental.list_physical_devices('GPU')\n",
    "if gpus:\n",
    "  try:\n",
    "    for gpu in gpus:\n",
    "      tf.config.experimental.set_memory_growth(gpu, True)\n",
    "    logical_gpus = tf.config.experimental.list_logical_devices('GPU')\n",
    "    print(len(gpus), \"Physical GPUs,\", len(logical_gpus), \"Logical GPUs\")\n",
    "  except RuntimeError as e:\n",
    "    print(e)"
   ]
  },
  {
   "cell_type": "markdown",
   "metadata": {
    "id": "uNH3umSK1xi7"
   },
   "source": [
    "Get GPU information to know which GPU is being used in training and testing"
   ]
  },
  {
   "cell_type": "code",
   "execution_count": 14,
   "metadata": {
    "colab": {
     "base_uri": "https://localhost:8080/"
    },
    "id": "ot8zdIrQ58bl",
    "outputId": "dc26f167-cd25-4b5e-e61c-1603032f68b5"
   },
   "outputs": [],
   "source": [
    "cifar10 = tf.keras.datasets.cifar10\n",
    "\n",
    "(x_train, y_train), (x_test, y_test) = cifar10.load_data()\n",
    "x_train, x_test = x_train / 255.0, x_test / 255.0"
   ]
  },
  {
   "cell_type": "markdown",
   "metadata": {
    "id": "Jyt1SIUB17Bm"
   },
   "source": [
    "Base model with the following structure:\n",
    "\n",
    "For each Conv2D layer, the default stride value of (1, 1) is used unless otherwise specified\n",
    "\n",
    "*   Conv2D layer with 32 neurons, and a kernel size of (3, 3) and padding to keep shape of input\n",
    "*   Conv2D layer with 32 neurons, and a kernel size of (3, 3) and padding to keep shape of input\n",
    "*   MaxPooling layer with a window size of (2, 2) that computes the max value within the window\n",
    "*   Dropout layer that drops 0.2 (20%) of all values\n",
    "*   Conv2D layer with 64 neurons, and a kernel size of (3, 3) and padding to keep shape of input\n",
    "*   Conv2D layer with 64 neurons, and a kernel size of (3, 3) and padding to keep shape of input\n",
    "*   MaxPooling layer with a window size of (2, 2) that computes the max value within the window\n",
    "*   Dropout layer that drops 0.2 (20%) of all values\n",
    "*   Conv2D layer with 128 neurons, and a kernel size of (3, 3) and padding to keep shape of input\n",
    "*   Conv2D layer with 128 neurons, and a kernel size of (3, 3) and padding to keep shape of input\n",
    "*   MaxPooling layer with a window size of (2, 2) that computes the max value within the window\n",
    "*   Dropout layer that drops 0.2 (20%) of all values\n",
    "*   Flatten layer\n",
    "*   Dense fully connected layer\n",
    "*   Dropout layer \n",
    "*   Dense fully connected layer of outputs of the 10 image classes"
   ]
  },
  {
   "cell_type": "markdown",
   "metadata": {
    "id": "3ruH6WI03sD3"
   },
   "source": [
    "All models that are used use the same amount of neurons as a relatively high accuracy is acquired during training"
   ]
  },
  {
   "cell_type": "code",
   "execution_count": 15,
   "metadata": {
    "colab": {
     "base_uri": "https://localhost:8080/"
    },
    "id": "IMNPiAGT6Cxa",
    "outputId": "b81baafe-2313-439e-a111-25b0e540fb47"
   },
   "outputs": [
    {
     "name": "stdout",
     "output_type": "stream",
     "text": [
      "Model: \"sequential_3\"\n",
      "_________________________________________________________________\n",
      "Layer (type)                 Output Shape              Param #   \n",
      "=================================================================\n",
      "conv2d_12 (Conv2D)           (None, 32, 32, 32)        896       \n",
      "_________________________________________________________________\n",
      "conv2d_13 (Conv2D)           (None, 32, 32, 32)        9248      \n",
      "_________________________________________________________________\n",
      "max_pooling2d_6 (MaxPooling2 (None, 16, 16, 32)        0         \n",
      "_________________________________________________________________\n",
      "dropout_9 (Dropout)          (None, 16, 16, 32)        0         \n",
      "_________________________________________________________________\n",
      "conv2d_14 (Conv2D)           (None, 16, 16, 64)        18496     \n",
      "_________________________________________________________________\n",
      "conv2d_15 (Conv2D)           (None, 16, 16, 64)        36928     \n",
      "_________________________________________________________________\n",
      "max_pooling2d_7 (MaxPooling2 (None, 8, 8, 64)          0         \n",
      "_________________________________________________________________\n",
      "dropout_10 (Dropout)         (None, 8, 8, 64)          0         \n",
      "_________________________________________________________________\n",
      "conv2d_16 (Conv2D)           (None, 8, 8, 128)         73856     \n",
      "_________________________________________________________________\n",
      "conv2d_17 (Conv2D)           (None, 8, 8, 128)         147584    \n",
      "_________________________________________________________________\n",
      "max_pooling2d_8 (MaxPooling2 (None, 4, 4, 128)         0         \n",
      "_________________________________________________________________\n",
      "dropout_11 (Dropout)         (None, 4, 4, 128)         0         \n",
      "_________________________________________________________________\n",
      "flatten_3 (Flatten)          (None, 2048)              0         \n",
      "_________________________________________________________________\n",
      "dense_6 (Dense)              (None, 256)               524544    \n",
      "_________________________________________________________________\n",
      "dropout_12 (Dropout)         (None, 256)               0         \n",
      "_________________________________________________________________\n",
      "dense_7 (Dense)              (None, 10)                2570      \n",
      "=================================================================\n",
      "Total params: 814,122\n",
      "Trainable params: 814,122\n",
      "Non-trainable params: 0\n",
      "_________________________________________________________________\n"
     ]
    }
   ],
   "source": [
    "model = tf.keras.models.Sequential([\n",
    "          Conv2D(32, (3, 3), padding='same', activation='relu', input_shape=x_train.shape[1:]),\n",
    "          Conv2D(32, (3, 3), padding='same', activation='relu'),\n",
    "          MaxPooling2D(pool_size=(2, 2)),\n",
    "          Dropout(0.2),\n",
    "          Conv2D(64, (3, 3), padding='same', activation='relu'),\n",
    "          Conv2D(64, (3, 3), padding='same', activation='relu'),\n",
    "          MaxPooling2D(pool_size=(2, 2)),\n",
    "          Dropout(0.2),\n",
    "          Conv2D(128, (3, 3), padding='same', activation='relu'),\n",
    "          Conv2D(128, (3, 3), padding='same', activation='relu'),\n",
    "          MaxPooling2D(pool_size=(2, 2)),\n",
    "          Dropout(0.2),\n",
    "          Flatten(),\n",
    "          Dense(256, activation='relu'),\n",
    "          Dropout(0.2),\n",
    "          Dense(10, activation='softmax')\n",
    "])\n",
    "\n",
    "model.compile(optimizer='adam',\n",
    "              loss='sparse_categorical_crossentropy',\n",
    "              metrics=['accuracy'])\n",
    "\n",
    "model.summary()"
   ]
  },
  {
   "cell_type": "code",
   "execution_count": 16,
   "metadata": {
    "colab": {
     "base_uri": "https://localhost:8080/"
    },
    "id": "gr7ATXOr6H8e",
    "outputId": "ebbc27c8-e35b-4ef3-f25b-90cb6d6dbb31"
   },
   "outputs": [
    {
     "name": "stdout",
     "output_type": "stream",
     "text": [
      "Epoch 1/50\n",
      "1563/1563 [==============================] - 141s 90ms/step - loss: 1.5442 - accuracy: 0.4337 - val_loss: 1.1794 - val_accuracy: 0.5854\n",
      "Epoch 2/50\n",
      "1563/1563 [==============================] - 152s 97ms/step - loss: 1.1202 - accuracy: 0.6019 - val_loss: 0.9584 - val_accuracy: 0.6614\n",
      "Epoch 3/50\n",
      "1563/1563 [==============================] - 147s 94ms/step - loss: 0.9436 - accuracy: 0.6640 - val_loss: 0.9476 - val_accuracy: 0.6689\n",
      "Epoch 4/50\n",
      "1563/1563 [==============================] - 157s 100ms/step - loss: 0.8378 - accuracy: 0.7051 - val_loss: 0.8259 - val_accuracy: 0.7156\n",
      "Epoch 5/50\n",
      "1563/1563 [==============================] - 150s 96ms/step - loss: 0.7741 - accuracy: 0.7279 - val_loss: 0.7956 - val_accuracy: 0.7224\n",
      "Epoch 6/50\n",
      "1563/1563 [==============================] - 155s 99ms/step - loss: 0.7159 - accuracy: 0.7495 - val_loss: 0.7006 - val_accuracy: 0.7576\n",
      "Epoch 7/50\n",
      "1563/1563 [==============================] - 143s 92ms/step - loss: 0.6748 - accuracy: 0.7626 - val_loss: 0.7004 - val_accuracy: 0.7618\n",
      "Epoch 8/50\n",
      "1563/1563 [==============================] - 149s 95ms/step - loss: 0.6424 - accuracy: 0.7724 - val_loss: 0.6674 - val_accuracy: 0.7729\n",
      "Epoch 9/50\n",
      "1563/1563 [==============================] - 149s 95ms/step - loss: 0.6161 - accuracy: 0.7834 - val_loss: 0.6890 - val_accuracy: 0.7742\n",
      "Epoch 10/50\n",
      "1563/1563 [==============================] - 148s 95ms/step - loss: 0.5945 - accuracy: 0.7905 - val_loss: 0.6625 - val_accuracy: 0.7797\n",
      "Epoch 11/50\n",
      "1563/1563 [==============================] - 146s 93ms/step - loss: 0.5751 - accuracy: 0.7962 - val_loss: 0.6859 - val_accuracy: 0.7729\n",
      "Epoch 12/50\n",
      "1563/1563 [==============================] - 156s 100ms/step - loss: 0.5562 - accuracy: 0.8039 - val_loss: 0.6658 - val_accuracy: 0.7805\n",
      "Epoch 13/50\n",
      "1563/1563 [==============================] - 165s 106ms/step - loss: 0.5403 - accuracy: 0.8102 - val_loss: 0.6393 - val_accuracy: 0.7820\n",
      "Epoch 14/50\n",
      "1563/1563 [==============================] - 157s 101ms/step - loss: 0.5278 - accuracy: 0.8159 - val_loss: 0.6566 - val_accuracy: 0.7917\n",
      "Epoch 15/50\n",
      "1563/1563 [==============================] - 155s 99ms/step - loss: 0.5156 - accuracy: 0.8181 - val_loss: 0.6434 - val_accuracy: 0.7843\n",
      "Epoch 16/50\n",
      "1563/1563 [==============================] - 166s 107ms/step - loss: 0.5026 - accuracy: 0.8241 - val_loss: 0.6349 - val_accuracy: 0.7905\n",
      "Epoch 17/50\n",
      "1563/1563 [==============================] - 164s 105ms/step - loss: 0.4915 - accuracy: 0.8271 - val_loss: 0.6425 - val_accuracy: 0.7947\n",
      "Epoch 18/50\n",
      "1563/1563 [==============================] - 169s 108ms/step - loss: 0.4881 - accuracy: 0.8285 - val_loss: 0.6377 - val_accuracy: 0.7947\n",
      "Epoch 19/50\n",
      "1563/1563 [==============================] - 154s 99ms/step - loss: 0.4784 - accuracy: 0.8317 - val_loss: 0.6531 - val_accuracy: 0.7972\n",
      "Epoch 20/50\n",
      "1563/1563 [==============================] - 149s 95ms/step - loss: 0.4651 - accuracy: 0.8356 - val_loss: 0.6594 - val_accuracy: 0.7907\n",
      "Epoch 21/50\n",
      "1563/1563 [==============================] - 163s 104ms/step - loss: 0.4658 - accuracy: 0.8368 - val_loss: 0.6628 - val_accuracy: 0.7873\n",
      "Epoch 22/50\n",
      "1563/1563 [==============================] - 175s 112ms/step - loss: 0.4598 - accuracy: 0.8393 - val_loss: 0.6516 - val_accuracy: 0.7922\n",
      "Epoch 23/50\n",
      "1563/1563 [==============================] - 167s 107ms/step - loss: 0.4529 - accuracy: 0.8403 - val_loss: 0.6405 - val_accuracy: 0.7950\n",
      "Epoch 24/50\n",
      "1563/1563 [==============================] - 170s 109ms/step - loss: 0.4527 - accuracy: 0.8410 - val_loss: 0.6886 - val_accuracy: 0.7821\n",
      "Epoch 25/50\n",
      "1563/1563 [==============================] - 175s 112ms/step - loss: 0.4461 - accuracy: 0.8458 - val_loss: 0.6869 - val_accuracy: 0.7920\n",
      "Epoch 26/50\n",
      "1563/1563 [==============================] - 166s 106ms/step - loss: 0.4414 - accuracy: 0.8463 - val_loss: 0.6500 - val_accuracy: 0.7943\n",
      "Epoch 27/50\n",
      "1563/1563 [==============================] - 151s 97ms/step - loss: 0.4357 - accuracy: 0.8469 - val_loss: 0.6615 - val_accuracy: 0.7917\n",
      "Epoch 28/50\n",
      "1563/1563 [==============================] - 149s 95ms/step - loss: 0.4264 - accuracy: 0.8511 - val_loss: 0.6539 - val_accuracy: 0.7903\n",
      "Epoch 29/50\n",
      "1563/1563 [==============================] - 148s 95ms/step - loss: 0.4283 - accuracy: 0.8491 - val_loss: 0.7149 - val_accuracy: 0.7889\n",
      "Epoch 30/50\n",
      "1563/1563 [==============================] - 153s 98ms/step - loss: 0.4247 - accuracy: 0.8519 - val_loss: 0.6947 - val_accuracy: 0.7874\n",
      "Epoch 31/50\n",
      "1563/1563 [==============================] - 148s 95ms/step - loss: 0.4195 - accuracy: 0.8526 - val_loss: 0.6699 - val_accuracy: 0.7948\n",
      "Epoch 32/50\n",
      "1563/1563 [==============================] - 152s 97ms/step - loss: 0.4188 - accuracy: 0.8551 - val_loss: 0.6445 - val_accuracy: 0.7989\n",
      "Epoch 33/50\n",
      "1563/1563 [==============================] - 143s 92ms/step - loss: 0.4154 - accuracy: 0.8569 - val_loss: 0.6653 - val_accuracy: 0.7979\n",
      "Epoch 34/50\n",
      "1563/1563 [==============================] - 143s 92ms/step - loss: 0.4097 - accuracy: 0.8585 - val_loss: 0.6766 - val_accuracy: 0.8003\n",
      "Epoch 35/50\n",
      "1563/1563 [==============================] - 146s 93ms/step - loss: 0.4115 - accuracy: 0.8579 - val_loss: 0.6940 - val_accuracy: 0.7870\n",
      "Epoch 36/50\n",
      "1563/1563 [==============================] - 144s 92ms/step - loss: 0.4030 - accuracy: 0.8595 - val_loss: 0.6614 - val_accuracy: 0.7936\n",
      "Epoch 37/50\n",
      "1563/1563 [==============================] - 149s 96ms/step - loss: 0.4039 - accuracy: 0.8603 - val_loss: 0.6746 - val_accuracy: 0.7869\n",
      "Epoch 38/50\n",
      "1563/1563 [==============================] - 154s 99ms/step - loss: 0.3877 - accuracy: 0.8627 - val_loss: 0.6805 - val_accuracy: 0.8013\n",
      "Epoch 39/50\n",
      "1563/1563 [==============================] - 164s 105ms/step - loss: 0.4024 - accuracy: 0.8593 - val_loss: 0.6962 - val_accuracy: 0.7985\n",
      "Epoch 40/50\n",
      "1563/1563 [==============================] - 158s 101ms/step - loss: 0.4015 - accuracy: 0.8615 - val_loss: 0.6695 - val_accuracy: 0.8030\n",
      "Epoch 41/50\n",
      "1563/1563 [==============================] - 151s 97ms/step - loss: 0.3882 - accuracy: 0.8640 - val_loss: 0.7052 - val_accuracy: 0.7953\n",
      "Epoch 42/50\n",
      "1563/1563 [==============================] - 154s 98ms/step - loss: 0.3870 - accuracy: 0.8655 - val_loss: 0.6990 - val_accuracy: 0.7949\n",
      "Epoch 43/50\n",
      "1563/1563 [==============================] - 151s 97ms/step - loss: 0.3907 - accuracy: 0.8652 - val_loss: 0.7263 - val_accuracy: 0.7911\n",
      "Epoch 44/50\n",
      "1563/1563 [==============================] - 145s 93ms/step - loss: 0.3923 - accuracy: 0.8648 - val_loss: 0.6948 - val_accuracy: 0.7922\n",
      "Epoch 45/50\n",
      "1563/1563 [==============================] - 144s 92ms/step - loss: 0.3884 - accuracy: 0.8655 - val_loss: 0.6971 - val_accuracy: 0.7947\n",
      "Epoch 46/50\n",
      "1563/1563 [==============================] - 146s 93ms/step - loss: 0.3869 - accuracy: 0.8668 - val_loss: 0.6925 - val_accuracy: 0.7966\n",
      "Epoch 47/50\n",
      "1563/1563 [==============================] - 145s 93ms/step - loss: 0.3845 - accuracy: 0.8697 - val_loss: 0.6932 - val_accuracy: 0.7984\n",
      "Epoch 48/50\n",
      "1563/1563 [==============================] - 140s 90ms/step - loss: 0.3880 - accuracy: 0.8674 - val_loss: 0.7121 - val_accuracy: 0.7973\n",
      "Epoch 49/50\n",
      "1563/1563 [==============================] - 143s 91ms/step - loss: 0.3703 - accuracy: 0.8722 - val_loss: 0.6967 - val_accuracy: 0.7960\n",
      "Epoch 50/50\n",
      "1563/1563 [==============================] - 148s 95ms/step - loss: 0.3720 - accuracy: 0.8721 - val_loss: 0.7638 - val_accuracy: 0.7860\n"
     ]
    }
   ],
   "source": [
    "h = model.fit(x_train, y_train, epochs=50, batch_size=32, validation_data=(x_test,y_test))"
   ]
  },
  {
   "cell_type": "code",
   "execution_count": 17,
   "metadata": {
    "colab": {
     "base_uri": "https://localhost:8080/",
     "height": 284
    },
    "id": "awxIEsP26Nxr",
    "outputId": "54bb35a7-404e-409d-baf7-77bd9b020a92"
   },
   "outputs": [
    {
     "data": {
      "text/plain": [
       "<matplotlib.legend.Legend at 0x7fdcb6c89640>"
      ]
     },
     "execution_count": 17,
     "metadata": {},
     "output_type": "execute_result"
    },
    {
     "data": {
      "image/png": "[encoded data removed]",
      "text/plain": [
       "<Figure size 432x288 with 1 Axes>"
      ]
     },
     "metadata": {
      "needs_background": "light"
     },
     "output_type": "display_data"
    }
   ],
   "source": [
    "plot(h.history['accuracy'], label=\"Training\")\n",
    "plot(h.history['val_accuracy'], label=\"Testing\")\n",
    "pyplot.legend()"
   ]
  },
  {
   "cell_type": "markdown",
   "metadata": {
    "id": "5eJIkJEx4lbJ"
   },
   "source": [
    "CNN with decreased MaxPooling window"
   ]
  },
  {
   "cell_type": "code",
   "execution_count": 18,
   "metadata": {
    "colab": {
     "base_uri": "https://localhost:8080/"
    },
    "id": "X8GSvD7m6SPb",
    "outputId": "3ee5e9bd-b456-462d-dc39-d78dc425d056"
   },
   "outputs": [
    {
     "name": "stdout",
     "output_type": "stream",
     "text": [
      "Model: \"sequential_4\"\n",
      "_________________________________________________________________\n",
      "Layer (type)                 Output Shape              Param #   \n",
      "=================================================================\n",
      "conv2d_18 (Conv2D)           (None, 32, 32, 32)        896       \n",
      "_________________________________________________________________\n",
      "conv2d_19 (Conv2D)           (None, 32, 32, 32)        9248      \n",
      "_________________________________________________________________\n",
      "max_pooling2d_9 (MaxPooling2 (None, 32, 32, 32)        0         \n",
      "_________________________________________________________________\n",
      "dropout_13 (Dropout)         (None, 32, 32, 32)        0         \n",
      "_________________________________________________________________\n",
      "conv2d_20 (Conv2D)           (None, 32, 32, 64)        18496     \n",
      "_________________________________________________________________\n",
      "conv2d_21 (Conv2D)           (None, 32, 32, 64)        36928     \n",
      "_________________________________________________________________\n",
      "max_pooling2d_10 (MaxPooling (None, 32, 32, 64)        0         \n",
      "_________________________________________________________________\n",
      "dropout_14 (Dropout)         (None, 32, 32, 64)        0         \n",
      "_________________________________________________________________\n",
      "conv2d_22 (Conv2D)           (None, 32, 32, 128)       73856     \n",
      "_________________________________________________________________\n",
      "conv2d_23 (Conv2D)           (None, 32, 32, 128)       147584    \n",
      "_________________________________________________________________\n",
      "max_pooling2d_11 (MaxPooling (None, 16, 16, 128)       0         \n",
      "_________________________________________________________________\n",
      "dropout_15 (Dropout)         (None, 16, 16, 128)       0         \n",
      "_________________________________________________________________\n",
      "flatten_4 (Flatten)          (None, 32768)             0         \n",
      "_________________________________________________________________\n",
      "dense_8 (Dense)              (None, 256)               8388864   \n",
      "_________________________________________________________________\n",
      "dropout_16 (Dropout)         (None, 256)               0         \n",
      "_________________________________________________________________\n",
      "dense_9 (Dense)              (None, 10)                2570      \n",
      "=================================================================\n",
      "Total params: 8,678,442\n",
      "Trainable params: 8,678,442\n",
      "Non-trainable params: 0\n",
      "_________________________________________________________________\n"
     ]
    }
   ],
   "source": [
    "model2 = tf.keras.models.Sequential([\n",
    "          Conv2D(32, (3, 3), padding='same', activation='relu', input_shape=x_train.shape[1:]),\n",
    "          Conv2D(32, (3, 3), padding='same', activation='relu'),\n",
    "          MaxPooling2D(pool_size=(1, 1)),\n",
    "          Dropout(0.2),\n",
    "          Conv2D(64, (3, 3), padding='same', activation='relu'),\n",
    "          Conv2D(64, (3, 3), padding='same', activation='relu'),\n",
    "          MaxPooling2D(pool_size=(1, 1)),\n",
    "          Dropout(0.2),\n",
    "          Conv2D(128, (3, 3), padding='same', activation='relu'),\n",
    "          Conv2D(128, (3, 3), padding='same', activation='relu'),\n",
    "          MaxPooling2D(pool_size=(2, 2)),\n",
    "          Dropout(0.2),\n",
    "          Flatten(),\n",
    "          Dense(256, activation='relu'),\n",
    "          Dropout(0.2),\n",
    "          Dense(10, activation='softmax')\n",
    "])\n",
    "\n",
    "model2.compile(optimizer='adam',\n",
    "              loss='sparse_categorical_crossentropy',\n",
    "              metrics=['accuracy'])\n",
    "\n",
    "model2.summary()"
   ]
  },
  {
   "cell_type": "code",
   "execution_count": 19,
   "metadata": {
    "colab": {
     "base_uri": "https://localhost:8080/"
    },
    "id": "Pa3mVFEJ6Xlk",
    "outputId": "384cd1e4-9a28-4e9a-871a-9f401e258253"
   },
   "outputs": [
    {
     "name": "stdout",
     "output_type": "stream",
     "text": [
      "Epoch 1/50\n",
      "1563/1563 [==============================] - 1250s 800ms/step - loss: 1.6170 - accuracy: 0.4091 - val_loss: 1.2717 - val_accuracy: 0.5389\n",
      "Epoch 2/50\n",
      "1563/1563 [==============================] - 1889s 1s/step - loss: 1.2017 - accuracy: 0.5714 - val_loss: 1.0358 - val_accuracy: 0.6286\n",
      "Epoch 3/50\n",
      "1563/1563 [==============================] - 515s 329ms/step - loss: 1.0367 - accuracy: 0.6308 - val_loss: 0.9805 - val_accuracy: 0.6568\n",
      "Epoch 4/50\n",
      "1563/1563 [==============================] - 540s 345ms/step - loss: 0.9183 - accuracy: 0.6744 - val_loss: 0.9248 - val_accuracy: 0.6755\n",
      "Epoch 5/50\n",
      "1563/1563 [==============================] - 515s 329ms/step - loss: 0.8138 - accuracy: 0.7130 - val_loss: 0.8759 - val_accuracy: 0.6959\n",
      "Epoch 6/50\n",
      "1563/1563 [==============================] - 519s 332ms/step - loss: 0.7351 - accuracy: 0.7404 - val_loss: 0.8772 - val_accuracy: 0.7045\n",
      "Epoch 7/50\n",
      "1563/1563 [==============================] - 534s 342ms/step - loss: 0.6654 - accuracy: 0.7653 - val_loss: 0.8714 - val_accuracy: 0.7140\n",
      "Epoch 8/50\n",
      "1563/1563 [==============================] - 567s 363ms/step - loss: 0.5934 - accuracy: 0.7883 - val_loss: 0.9037 - val_accuracy: 0.7123\n",
      "Epoch 9/50\n",
      "1563/1563 [==============================] - 530s 339ms/step - loss: 0.5384 - accuracy: 0.8069 - val_loss: 0.8952 - val_accuracy: 0.7174\n",
      "Epoch 10/50\n",
      "1563/1563 [==============================] - 573s 366ms/step - loss: 0.4966 - accuracy: 0.8258 - val_loss: 0.9665 - val_accuracy: 0.7135\n",
      "Epoch 11/50\n",
      "1563/1563 [==============================] - 579s 370ms/step - loss: 0.4438 - accuracy: 0.8427 - val_loss: 0.9192 - val_accuracy: 0.7086\n",
      "Epoch 12/50\n",
      "1563/1563 [==============================] - 588s 376ms/step - loss: 0.4099 - accuracy: 0.8537 - val_loss: 1.0208 - val_accuracy: 0.7098\n",
      "Epoch 13/50\n",
      "1563/1563 [==============================] - 603s 386ms/step - loss: 0.3781 - accuracy: 0.8646 - val_loss: 1.0385 - val_accuracy: 0.7098\n",
      "Epoch 14/50\n",
      "1563/1563 [==============================] - 563s 360ms/step - loss: 0.3517 - accuracy: 0.8754 - val_loss: 1.0783 - val_accuracy: 0.7134\n",
      "Epoch 15/50\n",
      "1563/1563 [==============================] - 631s 404ms/step - loss: 0.3383 - accuracy: 0.8806 - val_loss: 1.0347 - val_accuracy: 0.7070\n",
      "Epoch 16/50\n",
      "1563/1563 [==============================] - 736s 471ms/step - loss: 0.3108 - accuracy: 0.8908 - val_loss: 1.0471 - val_accuracy: 0.7129\n",
      "Epoch 17/50\n",
      "1563/1563 [==============================] - 819s 524ms/step - loss: 0.2935 - accuracy: 0.8973 - val_loss: 1.2049 - val_accuracy: 0.7069\n",
      "Epoch 18/50\n",
      "1563/1563 [==============================] - 744s 476ms/step - loss: 0.2816 - accuracy: 0.9031 - val_loss: 1.2061 - val_accuracy: 0.7093\n",
      "Epoch 19/50\n",
      "1563/1563 [==============================] - 749s 479ms/step - loss: 0.2613 - accuracy: 0.9089 - val_loss: 1.2707 - val_accuracy: 0.7154\n",
      "Epoch 20/50\n",
      "1563/1563 [==============================] - 715s 458ms/step - loss: 0.2549 - accuracy: 0.9125 - val_loss: 1.2769 - val_accuracy: 0.7048\n",
      "Epoch 21/50\n",
      "1563/1563 [==============================] - 713s 456ms/step - loss: 0.2494 - accuracy: 0.9139 - val_loss: 1.3780 - val_accuracy: 0.7052\n",
      "Epoch 22/50\n",
      "1563/1563 [==============================] - 719s 460ms/step - loss: 0.2359 - accuracy: 0.9176 - val_loss: 1.2543 - val_accuracy: 0.7163\n",
      "Epoch 23/50\n",
      "1563/1563 [==============================] - 615s 394ms/step - loss: 0.2341 - accuracy: 0.9206 - val_loss: 1.3478 - val_accuracy: 0.7170\n",
      "Epoch 24/50\n",
      "1563/1563 [==============================] - 600s 384ms/step - loss: 0.2227 - accuracy: 0.9243 - val_loss: 1.2629 - val_accuracy: 0.7113\n",
      "Epoch 25/50\n",
      "1563/1563 [==============================] - 624s 399ms/step - loss: 0.2152 - accuracy: 0.9265 - val_loss: 1.3199 - val_accuracy: 0.7021\n",
      "Epoch 26/50\n",
      "1563/1563 [==============================] - 573s 367ms/step - loss: 0.2106 - accuracy: 0.9286 - val_loss: 1.4158 - val_accuracy: 0.7163\n",
      "Epoch 27/50\n",
      "1563/1563 [==============================] - 655s 419ms/step - loss: 0.2091 - accuracy: 0.9311 - val_loss: 1.5686 - val_accuracy: 0.7013\n",
      "Epoch 28/50\n",
      "1563/1563 [==============================] - 637s 408ms/step - loss: 0.1978 - accuracy: 0.9342 - val_loss: 1.5397 - val_accuracy: 0.7187\n",
      "Epoch 29/50\n",
      "1563/1563 [==============================] - 521s 333ms/step - loss: 0.1999 - accuracy: 0.9329 - val_loss: 1.5742 - val_accuracy: 0.7061\n",
      "Epoch 30/50\n",
      "1563/1563 [==============================] - 565s 361ms/step - loss: 0.1955 - accuracy: 0.9349 - val_loss: 1.4535 - val_accuracy: 0.7061\n",
      "Epoch 31/50\n",
      "1563/1563 [==============================] - 558s 357ms/step - loss: 0.1865 - accuracy: 0.9381 - val_loss: 1.5568 - val_accuracy: 0.7142\n",
      "Epoch 32/50\n",
      "1563/1563 [==============================] - 535s 342ms/step - loss: 0.1826 - accuracy: 0.9391 - val_loss: 1.5540 - val_accuracy: 0.7126\n",
      "Epoch 33/50\n",
      "1563/1563 [==============================] - 509s 326ms/step - loss: 0.1818 - accuracy: 0.9406 - val_loss: 1.5487 - val_accuracy: 0.7086\n",
      "Epoch 34/50\n",
      "1563/1563 [==============================] - 1582s 1s/step - loss: 0.1750 - accuracy: 0.9422 - val_loss: 1.5597 - val_accuracy: 0.7064\n",
      "Epoch 35/50\n",
      "1563/1563 [==============================] - 537s 344ms/step - loss: 0.1791 - accuracy: 0.9406 - val_loss: 1.5459 - val_accuracy: 0.7118\n",
      "Epoch 36/50\n",
      "1563/1563 [==============================] - 991s 634ms/step - loss: 0.1683 - accuracy: 0.9436 - val_loss: 1.5887 - val_accuracy: 0.7174\n",
      "Epoch 37/50\n",
      "1563/1563 [==============================] - 2101s 1s/step - loss: 0.1696 - accuracy: 0.9464 - val_loss: 1.7740 - val_accuracy: 0.7183\n",
      "Epoch 38/50\n",
      "1563/1563 [==============================] - 1493s 955ms/step - loss: 0.1599 - accuracy: 0.9473 - val_loss: 1.7140 - val_accuracy: 0.7140\n",
      "Epoch 39/50\n",
      "1563/1563 [==============================] - 495s 317ms/step - loss: 0.1610 - accuracy: 0.9486 - val_loss: 1.8478 - val_accuracy: 0.7205\n",
      "Epoch 40/50\n",
      "1563/1563 [==============================] - 4057s 3s/step - loss: 0.1589 - accuracy: 0.9476 - val_loss: 1.5370 - val_accuracy: 0.7118\n",
      "Epoch 41/50\n",
      "1563/1563 [==============================] - 4583s 3s/step - loss: 0.1563 - accuracy: 0.9485 - val_loss: 1.5930 - val_accuracy: 0.7156\n",
      "Epoch 42/50\n",
      "1563/1563 [==============================] - 521s 333ms/step - loss: 0.1638 - accuracy: 0.9467 - val_loss: 1.8249 - val_accuracy: 0.7206\n",
      "Epoch 43/50\n",
      "1563/1563 [==============================] - 509s 326ms/step - loss: 0.1550 - accuracy: 0.9501 - val_loss: 1.5306 - val_accuracy: 0.7193\n",
      "Epoch 44/50\n",
      "1563/1563 [==============================] - 520s 333ms/step - loss: 0.1582 - accuracy: 0.9493 - val_loss: 1.4975 - val_accuracy: 0.7107\n",
      "Epoch 45/50\n",
      "1563/1563 [==============================] - 510s 326ms/step - loss: 0.1490 - accuracy: 0.9529 - val_loss: 1.6612 - val_accuracy: 0.7085\n",
      "Epoch 46/50\n",
      "1563/1563 [==============================] - 496s 317ms/step - loss: 0.1451 - accuracy: 0.9539 - val_loss: 1.7728 - val_accuracy: 0.7190\n",
      "Epoch 47/50\n",
      "1563/1563 [==============================] - 508s 325ms/step - loss: 0.1482 - accuracy: 0.9529 - val_loss: 1.7157 - val_accuracy: 0.7166\n",
      "Epoch 48/50\n",
      "1563/1563 [==============================] - 512s 328ms/step - loss: 0.1463 - accuracy: 0.9536 - val_loss: 1.7426 - val_accuracy: 0.7103\n",
      "Epoch 49/50\n",
      "1563/1563 [==============================] - 519s 332ms/step - loss: 0.1453 - accuracy: 0.9538 - val_loss: 1.6779 - val_accuracy: 0.7215\n",
      "Epoch 50/50\n",
      "1563/1563 [==============================] - 512s 328ms/step - loss: 0.1464 - accuracy: 0.9529 - val_loss: 1.7052 - val_accuracy: 0.7049\n"
     ]
    }
   ],
   "source": [
    "h2 = model2.fit(x_train, y_train, epochs=50, batch_size=32, validation_data=(x_test,y_test))"
   ]
  },
  {
   "cell_type": "markdown",
   "metadata": {
    "id": "v8ksXME14yzs"
   },
   "source": [
    "This CNN has a higher accuracy during training, but a lower validation accuracy when testing"
   ]
  },
  {
   "cell_type": "code",
   "execution_count": 24,
   "metadata": {
    "colab": {
     "base_uri": "https://localhost:8080/",
     "height": 286
    },
    "id": "5Tla0f1o6ZoH",
    "outputId": "9bdcb2d6-bf64-4ecc-896c-d1a2b1616607"
   },
   "outputs": [
    {
     "data": {
      "text/plain": [
       "<matplotlib.legend.Legend at 0x7fdc62200940>"
      ]
     },
     "execution_count": 24,
     "metadata": {},
     "output_type": "execute_result"
    },
    {
     "data": {
      "image/png": "[encoded data removed]",
      "text/plain": [
       "<Figure size 432x288 with 1 Axes>"
      ]
     },
     "metadata": {
      "needs_background": "light"
     },
     "output_type": "display_data"
    }
   ],
   "source": [
    "plot(h2.history['accuracy'], label=\"Training\")\n",
    "plot(h2.history['val_accuracy'], label=\"Testing\")\n",
    "pyplot.legend()"
   ]
  },
  {
   "cell_type": "markdown",
   "metadata": {
    "id": "x7sluJf848kX"
   },
   "source": [
    "This CNN has a larger kernel size"
   ]
  },
  {
   "cell_type": "code",
   "execution_count": 25,
   "metadata": {
    "colab": {
     "base_uri": "https://localhost:8080/"
    },
    "id": "_0Kp6lh-6cgQ",
    "outputId": "faebad81-4dcb-4ad9-e92d-edddd9f98bbf"
   },
   "outputs": [
    {
     "name": "stdout",
     "output_type": "stream",
     "text": [
      "Model: \"sequential_6\"\n",
      "_________________________________________________________________\n",
      "Layer (type)                 Output Shape              Param #   \n",
      "=================================================================\n",
      "conv2d_30 (Conv2D)           (None, 32, 32, 32)        1568      \n",
      "_________________________________________________________________\n",
      "conv2d_31 (Conv2D)           (None, 32, 32, 32)        16416     \n",
      "_________________________________________________________________\n",
      "max_pooling2d_15 (MaxPooling (None, 16, 16, 32)        0         \n",
      "_________________________________________________________________\n",
      "dropout_21 (Dropout)         (None, 16, 16, 32)        0         \n",
      "_________________________________________________________________\n",
      "conv2d_32 (Conv2D)           (None, 16, 16, 64)        32832     \n",
      "_________________________________________________________________\n",
      "conv2d_33 (Conv2D)           (None, 16, 16, 64)        65600     \n",
      "_________________________________________________________________\n",
      "max_pooling2d_16 (MaxPooling (None, 8, 8, 64)          0         \n",
      "_________________________________________________________________\n",
      "dropout_22 (Dropout)         (None, 8, 8, 64)          0         \n",
      "_________________________________________________________________\n",
      "conv2d_34 (Conv2D)           (None, 8, 8, 128)         73856     \n",
      "_________________________________________________________________\n",
      "conv2d_35 (Conv2D)           (None, 8, 8, 128)         147584    \n",
      "_________________________________________________________________\n",
      "max_pooling2d_17 (MaxPooling (None, 4, 4, 128)         0         \n",
      "_________________________________________________________________\n",
      "dropout_23 (Dropout)         (None, 4, 4, 128)         0         \n",
      "_________________________________________________________________\n",
      "flatten_6 (Flatten)          (None, 2048)              0         \n",
      "_________________________________________________________________\n",
      "dense_12 (Dense)             (None, 256)               524544    \n",
      "_________________________________________________________________\n",
      "dropout_24 (Dropout)         (None, 256)               0         \n",
      "_________________________________________________________________\n",
      "dense_13 (Dense)             (None, 10)                2570      \n",
      "=================================================================\n",
      "Total params: 864,970\n",
      "Trainable params: 864,970\n",
      "Non-trainable params: 0\n",
      "_________________________________________________________________\n"
     ]
    }
   ],
   "source": [
    "model3 = tf.keras.models.Sequential([\n",
    "          Conv2D(32, (4, 4), padding='same', activation='relu', input_shape=x_train.shape[1:]),\n",
    "          Conv2D(32, (4, 4), padding='same', activation='relu'),\n",
    "          MaxPooling2D(pool_size=(2, 2)),\n",
    "          Dropout(0.2),\n",
    "          Conv2D(64, (4, 4), padding='same', activation='relu'),\n",
    "          Conv2D(64, (4, 4), padding='same', activation='relu'),\n",
    "          MaxPooling2D(pool_size=(2, 2)),\n",
    "          Dropout(0.2),\n",
    "          Conv2D(128, (3, 3), padding='same', activation='relu'),\n",
    "          Conv2D(128, (3, 3), padding='same', activation='relu'),\n",
    "          MaxPooling2D(pool_size=(2, 2)),\n",
    "          Dropout(0.2),\n",
    "          Flatten(),\n",
    "          Dense(256, activation='relu'),\n",
    "          Dropout(0.2),\n",
    "          Dense(10, activation='softmax')\n",
    "])\n",
    "\n",
    "model3.compile(optimizer='adam',\n",
    "              loss='sparse_categorical_crossentropy',\n",
    "              metrics=['accuracy'])\n",
    "\n",
    "model3.summary()"
   ]
  },
  {
   "cell_type": "code",
   "execution_count": 26,
   "metadata": {
    "colab": {
     "base_uri": "https://localhost:8080/"
    },
    "id": "H4_RRqLP6jvc",
    "outputId": "13e5b015-260f-41c4-d014-c90de992b228"
   },
   "outputs": [
    {
     "name": "stdout",
     "output_type": "stream",
     "text": [
      "Epoch 1/50\n",
      "1563/1563 [==============================] - 178s 114ms/step - loss: 1.6685 - accuracy: 0.3796 - val_loss: 1.3572 - val_accuracy: 0.4974\n",
      "Epoch 2/50\n",
      "1563/1563 [==============================] - 179s 114ms/step - loss: 1.2490 - accuracy: 0.5469 - val_loss: 1.1072 - val_accuracy: 0.5967\n",
      "Epoch 3/50\n",
      "1563/1563 [==============================] - 178s 114ms/step - loss: 1.0636 - accuracy: 0.6218 - val_loss: 0.9572 - val_accuracy: 0.6641\n",
      "Epoch 4/50\n",
      "1563/1563 [==============================] - 178s 114ms/step - loss: 0.9436 - accuracy: 0.6682 - val_loss: 0.8907 - val_accuracy: 0.6899\n",
      "Epoch 5/50\n",
      "1563/1563 [==============================] - 179s 114ms/step - loss: 0.8659 - accuracy: 0.6949 - val_loss: 0.8640 - val_accuracy: 0.6974\n",
      "Epoch 6/50\n",
      "1563/1563 [==============================] - 178s 114ms/step - loss: 0.8186 - accuracy: 0.7126 - val_loss: 0.7962 - val_accuracy: 0.7216\n",
      "Epoch 7/50\n",
      "1563/1563 [==============================] - 174s 111ms/step - loss: 0.7767 - accuracy: 0.7246 - val_loss: 0.7643 - val_accuracy: 0.7351\n",
      "Epoch 8/50\n",
      "1563/1563 [==============================] - 175s 112ms/step - loss: 0.7484 - accuracy: 0.7382 - val_loss: 0.7865 - val_accuracy: 0.7309\n",
      "Epoch 9/50\n",
      "1563/1563 [==============================] - 180s 115ms/step - loss: 0.7214 - accuracy: 0.7441 - val_loss: 0.7395 - val_accuracy: 0.7467\n",
      "Epoch 10/50\n",
      "1563/1563 [==============================] - 182s 116ms/step - loss: 0.6967 - accuracy: 0.7547 - val_loss: 0.7196 - val_accuracy: 0.7580\n",
      "Epoch 11/50\n",
      "1563/1563 [==============================] - 181s 116ms/step - loss: 0.6760 - accuracy: 0.7625 - val_loss: 0.7106 - val_accuracy: 0.7554\n",
      "Epoch 12/50\n",
      "1563/1563 [==============================] - 24009s 15s/step - loss: 0.6586 - accuracy: 0.7694 - val_loss: 0.6950 - val_accuracy: 0.7623\n",
      "Epoch 13/50\n",
      "1563/1563 [==============================] - 175s 112ms/step - loss: 0.6485 - accuracy: 0.7712 - val_loss: 0.7072 - val_accuracy: 0.7596\n",
      "Epoch 14/50\n",
      "1563/1563 [==============================] - 168s 108ms/step - loss: 0.6338 - accuracy: 0.7775 - val_loss: 0.7656 - val_accuracy: 0.7447\n",
      "Epoch 15/50\n",
      "1563/1563 [==============================] - 160s 102ms/step - loss: 0.6142 - accuracy: 0.7838 - val_loss: 0.6886 - val_accuracy: 0.7698\n",
      "Epoch 16/50\n",
      "1563/1563 [==============================] - 279s 178ms/step - loss: 0.6142 - accuracy: 0.7857 - val_loss: 0.7077 - val_accuracy: 0.7675\n",
      "Epoch 17/50\n",
      "1563/1563 [==============================] - 201s 129ms/step - loss: 0.6057 - accuracy: 0.7865 - val_loss: 0.7287 - val_accuracy: 0.7562\n",
      "Epoch 18/50\n",
      "1563/1563 [==============================] - 172s 110ms/step - loss: 0.5926 - accuracy: 0.7941 - val_loss: 0.7278 - val_accuracy: 0.7597\n",
      "Epoch 19/50\n",
      "1563/1563 [==============================] - 170s 109ms/step - loss: 0.5809 - accuracy: 0.7982 - val_loss: 0.7696 - val_accuracy: 0.7539\n",
      "Epoch 20/50\n",
      "1563/1563 [==============================] - 171s 109ms/step - loss: 0.5806 - accuracy: 0.7954 - val_loss: 0.7227 - val_accuracy: 0.7618\n",
      "Epoch 21/50\n",
      "1563/1563 [==============================] - 279s 179ms/step - loss: 0.5630 - accuracy: 0.8036 - val_loss: 0.6965 - val_accuracy: 0.7726\n",
      "Epoch 22/50\n",
      "1563/1563 [==============================] - 401s 257ms/step - loss: 0.5646 - accuracy: 0.8031 - val_loss: 0.6881 - val_accuracy: 0.7743\n",
      "Epoch 23/50\n",
      "1563/1563 [==============================] - 275s 176ms/step - loss: 0.5549 - accuracy: 0.8049 - val_loss: 0.7063 - val_accuracy: 0.7696\n",
      "Epoch 24/50\n",
      "1563/1563 [==============================] - 243s 156ms/step - loss: 0.5522 - accuracy: 0.8076 - val_loss: 0.6847 - val_accuracy: 0.7769\n",
      "Epoch 25/50\n",
      "1563/1563 [==============================] - 564s 361ms/step - loss: 0.5480 - accuracy: 0.8082 - val_loss: 0.6928 - val_accuracy: 0.7738\n",
      "Epoch 26/50\n",
      "1563/1563 [==============================] - 167s 107ms/step - loss: 0.5463 - accuracy: 0.8075 - val_loss: 0.6991 - val_accuracy: 0.7743\n",
      "Epoch 27/50\n",
      "1563/1563 [==============================] - 166s 106ms/step - loss: 0.5420 - accuracy: 0.8112 - val_loss: 0.7228 - val_accuracy: 0.7669\n",
      "Epoch 28/50\n",
      "1563/1563 [==============================] - 166s 106ms/step - loss: 0.5331 - accuracy: 0.8139 - val_loss: 0.7032 - val_accuracy: 0.7777\n",
      "Epoch 29/50\n",
      "1563/1563 [==============================] - 427s 273ms/step - loss: 0.5282 - accuracy: 0.8160 - val_loss: 0.7372 - val_accuracy: 0.7663\n",
      "Epoch 30/50\n",
      "1563/1563 [==============================] - 170s 109ms/step - loss: 0.5166 - accuracy: 0.8201 - val_loss: 0.7274 - val_accuracy: 0.7674\n",
      "Epoch 31/50\n",
      "1563/1563 [==============================] - 166s 106ms/step - loss: 0.5243 - accuracy: 0.8168 - val_loss: 0.7921 - val_accuracy: 0.7511\n",
      "Epoch 32/50\n",
      "1563/1563 [==============================] - 165s 106ms/step - loss: 0.5219 - accuracy: 0.8173 - val_loss: 0.7268 - val_accuracy: 0.7707\n",
      "Epoch 33/50\n",
      "1563/1563 [==============================] - 166s 106ms/step - loss: 0.5152 - accuracy: 0.8199 - val_loss: 0.7046 - val_accuracy: 0.7735\n",
      "Epoch 34/50\n",
      "1563/1563 [==============================] - 167s 107ms/step - loss: 0.5109 - accuracy: 0.8218 - val_loss: 0.6951 - val_accuracy: 0.7840\n",
      "Epoch 35/50\n",
      "1563/1563 [==============================] - 165s 106ms/step - loss: 0.5097 - accuracy: 0.8237 - val_loss: 0.6856 - val_accuracy: 0.7831\n",
      "Epoch 36/50\n",
      "1563/1563 [==============================] - 165s 106ms/step - loss: 0.5075 - accuracy: 0.8224 - val_loss: 0.7630 - val_accuracy: 0.7635\n",
      "Epoch 37/50\n",
      "1563/1563 [==============================] - 179s 115ms/step - loss: 0.5054 - accuracy: 0.8248 - val_loss: 0.7280 - val_accuracy: 0.7725\n",
      "Epoch 38/50\n",
      "1563/1563 [==============================] - 169s 108ms/step - loss: 0.5059 - accuracy: 0.8254 - val_loss: 0.7158 - val_accuracy: 0.7789\n",
      "Epoch 39/50\n",
      "1563/1563 [==============================] - 168s 108ms/step - loss: 0.4979 - accuracy: 0.8259 - val_loss: 0.7408 - val_accuracy: 0.7628\n",
      "Epoch 40/50\n",
      "1563/1563 [==============================] - 171s 109ms/step - loss: 0.5053 - accuracy: 0.8245 - val_loss: 0.7713 - val_accuracy: 0.7658\n",
      "Epoch 41/50\n",
      "1563/1563 [==============================] - 181s 116ms/step - loss: 0.5019 - accuracy: 0.8258 - val_loss: 0.7241 - val_accuracy: 0.7732\n",
      "Epoch 42/50\n",
      "1563/1563 [==============================] - 170s 109ms/step - loss: 0.4991 - accuracy: 0.8300 - val_loss: 0.7359 - val_accuracy: 0.7718\n",
      "Epoch 43/50\n",
      "1563/1563 [==============================] - 172s 110ms/step - loss: 0.4976 - accuracy: 0.8290 - val_loss: 0.7301 - val_accuracy: 0.7749\n",
      "Epoch 44/50\n",
      "1563/1563 [==============================] - 176s 113ms/step - loss: 0.4844 - accuracy: 0.8323 - val_loss: 0.7167 - val_accuracy: 0.7774\n",
      "Epoch 45/50\n",
      "1563/1563 [==============================] - 181s 116ms/step - loss: 0.5037 - accuracy: 0.8273 - val_loss: 0.6953 - val_accuracy: 0.7845\n",
      "Epoch 46/50\n",
      "1563/1563 [==============================] - 180s 115ms/step - loss: 0.4913 - accuracy: 0.8316 - val_loss: 0.7145 - val_accuracy: 0.7797\n",
      "Epoch 47/50\n",
      "1563/1563 [==============================] - 180s 115ms/step - loss: 0.4906 - accuracy: 0.8324 - val_loss: 0.7262 - val_accuracy: 0.7789\n",
      "Epoch 48/50\n",
      "1563/1563 [==============================] - 171s 109ms/step - loss: 0.5003 - accuracy: 0.8275 - val_loss: 0.7094 - val_accuracy: 0.7837\n",
      "Epoch 49/50\n",
      "1563/1563 [==============================] - 170s 109ms/step - loss: 0.4832 - accuracy: 0.8362 - val_loss: 0.7251 - val_accuracy: 0.7824\n",
      "Epoch 50/50\n",
      "1563/1563 [==============================] - 174s 111ms/step - loss: 0.4856 - accuracy: 0.8324 - val_loss: 0.7049 - val_accuracy: 0.7853\n"
     ]
    }
   ],
   "source": [
    "h3 = model3.fit(x_train, y_train, epochs=50, batch_size=32, validation_data=(x_test,y_test))"
   ]
  },
  {
   "cell_type": "markdown",
   "metadata": {
    "id": "CaCcUI6_6E47"
   },
   "source": [
    "This CNN has both decreased training and validation accuracy"
   ]
  },
  {
   "cell_type": "code",
   "execution_count": 27,
   "metadata": {
    "colab": {
     "base_uri": "https://localhost:8080/",
     "height": 282
    },
    "id": "8tRWvQY96nc0",
    "outputId": "3a863ee2-1c0d-4fd4-da00-cfef9911e346"
   },
   "outputs": [
    {
     "data": {
      "text/plain": [
       "<matplotlib.legend.Legend at 0x7fdc62edf520>"
      ]
     },
     "execution_count": 27,
     "metadata": {},
     "output_type": "execute_result"
    },
    {
     "data": {
      "image/png": "[encoded data removed]",
      "text/plain": [
       "<Figure size 432x288 with 1 Axes>"
      ]
     },
     "metadata": {
      "needs_background": "light"
     },
     "output_type": "display_data"
    }
   ],
   "source": [
    "plot(h3.history['accuracy'], label=\"Training\")\n",
    "plot(h3.history['val_accuracy'], label=\"Testing\")\n",
    "pyplot.legend()"
   ]
  },
  {
   "cell_type": "markdown",
   "metadata": {
    "id": "YnDbiPua6NpV"
   },
   "source": [
    "Decreased kernel size"
   ]
  },
  {
   "cell_type": "code",
   "execution_count": 28,
   "metadata": {
    "colab": {
     "base_uri": "https://localhost:8080/"
    },
    "id": "iQJg4xtS6pq3",
    "outputId": "82cf775c-efbd-4e48-f4aa-9e2c06a6b328"
   },
   "outputs": [
    {
     "name": "stdout",
     "output_type": "stream",
     "text": [
      "Model: \"sequential_7\"\n",
      "_________________________________________________________________\n",
      "Layer (type)                 Output Shape              Param #   \n",
      "=================================================================\n",
      "conv2d_36 (Conv2D)           (None, 32, 32, 32)        416       \n",
      "_________________________________________________________________\n",
      "conv2d_37 (Conv2D)           (None, 32, 32, 32)        4128      \n",
      "_________________________________________________________________\n",
      "max_pooling2d_18 (MaxPooling (None, 16, 16, 32)        0         \n",
      "_________________________________________________________________\n",
      "dropout_25 (Dropout)         (None, 16, 16, 32)        0         \n",
      "_________________________________________________________________\n",
      "conv2d_38 (Conv2D)           (None, 16, 16, 64)        8256      \n",
      "_________________________________________________________________\n",
      "conv2d_39 (Conv2D)           (None, 16, 16, 64)        16448     \n",
      "_________________________________________________________________\n",
      "max_pooling2d_19 (MaxPooling (None, 8, 8, 64)          0         \n",
      "_________________________________________________________________\n",
      "dropout_26 (Dropout)         (None, 8, 8, 64)          0         \n",
      "_________________________________________________________________\n",
      "conv2d_40 (Conv2D)           (None, 8, 8, 128)         73856     \n",
      "_________________________________________________________________\n",
      "conv2d_41 (Conv2D)           (None, 8, 8, 128)         147584    \n",
      "_________________________________________________________________\n",
      "max_pooling2d_20 (MaxPooling (None, 4, 4, 128)         0         \n",
      "_________________________________________________________________\n",
      "dropout_27 (Dropout)         (None, 4, 4, 128)         0         \n",
      "_________________________________________________________________\n",
      "flatten_7 (Flatten)          (None, 2048)              0         \n",
      "_________________________________________________________________\n",
      "dense_14 (Dense)             (None, 256)               524544    \n",
      "_________________________________________________________________\n",
      "dropout_28 (Dropout)         (None, 256)               0         \n",
      "_________________________________________________________________\n",
      "dense_15 (Dense)             (None, 10)                2570      \n",
      "=================================================================\n",
      "Total params: 777,802\n",
      "Trainable params: 777,802\n",
      "Non-trainable params: 0\n",
      "_________________________________________________________________\n"
     ]
    }
   ],
   "source": [
    "model4 = tf.keras.models.Sequential([\n",
    "          Conv2D(32, (2, 2), padding='same', activation='relu', input_shape=x_train.shape[1:]),\n",
    "          Conv2D(32, (2, 2), padding='same', activation='relu'),\n",
    "          MaxPooling2D(pool_size=(2, 2)),\n",
    "          Dropout(0.2),\n",
    "          Conv2D(64, (2, 2), padding='same', activation='relu'),\n",
    "          Conv2D(64, (2, 2), padding='same', activation='relu'),\n",
    "          MaxPooling2D(pool_size=(2, 2)),\n",
    "          Dropout(0.2),\n",
    "          Conv2D(128, (3, 3), padding='same', activation='relu'),\n",
    "          Conv2D(128, (3, 3), padding='same', activation='relu'),\n",
    "          MaxPooling2D(pool_size=(2, 2)),\n",
    "          Dropout(0.2),\n",
    "          Flatten(),\n",
    "          Dense(256, activation='relu'),\n",
    "          Dropout(0.2),\n",
    "          Dense(10, activation='softmax')\n",
    "])\n",
    "\n",
    "model4.compile(optimizer='adam',\n",
    "              loss='sparse_categorical_crossentropy',\n",
    "              metrics=['accuracy'])\n",
    "\n",
    "model4.summary()"
   ]
  },
  {
   "cell_type": "code",
   "execution_count": 29,
   "metadata": {
    "colab": {
     "base_uri": "https://localhost:8080/"
    },
    "id": "v6vc6Jff6vNo",
    "outputId": "16ba1224-8b6c-4f18-f8e9-b1c83b741262"
   },
   "outputs": [
    {
     "name": "stdout",
     "output_type": "stream",
     "text": [
      "Epoch 1/50\n",
      "1563/1563 [==============================] - 106s 68ms/step - loss: 1.5892 - accuracy: 0.4163 - val_loss: 1.1720 - val_accuracy: 0.5766\n",
      "Epoch 2/50\n",
      "1563/1563 [==============================] - 96s 62ms/step - loss: 1.1254 - accuracy: 0.5965 - val_loss: 1.0618 - val_accuracy: 0.6210\n",
      "Epoch 3/50\n",
      "1563/1563 [==============================] - 97s 62ms/step - loss: 0.9729 - accuracy: 0.6548 - val_loss: 0.8907 - val_accuracy: 0.6850\n",
      "Epoch 4/50\n",
      "1563/1563 [==============================] - 100s 64ms/step - loss: 0.8835 - accuracy: 0.6879 - val_loss: 0.8310 - val_accuracy: 0.7130\n",
      "Epoch 5/50\n",
      "1563/1563 [==============================] - 103s 66ms/step - loss: 0.8239 - accuracy: 0.7086 - val_loss: 0.7827 - val_accuracy: 0.7251\n",
      "Epoch 6/50\n",
      "1563/1563 [==============================] - 103s 66ms/step - loss: 0.7666 - accuracy: 0.7279 - val_loss: 0.7420 - val_accuracy: 0.7420\n",
      "Epoch 7/50\n",
      "1563/1563 [==============================] - 103s 66ms/step - loss: 0.7213 - accuracy: 0.7454 - val_loss: 0.7462 - val_accuracy: 0.7411\n",
      "Epoch 8/50\n",
      "1563/1563 [==============================] - 103s 66ms/step - loss: 0.6894 - accuracy: 0.7550 - val_loss: 0.6989 - val_accuracy: 0.7582\n",
      "Epoch 9/50\n",
      "1563/1563 [==============================] - 102s 65ms/step - loss: 0.6552 - accuracy: 0.7673 - val_loss: 0.7095 - val_accuracy: 0.7606\n",
      "Epoch 10/50\n",
      "1563/1563 [==============================] - 101s 65ms/step - loss: 0.6333 - accuracy: 0.7769 - val_loss: 0.6996 - val_accuracy: 0.7634\n",
      "Epoch 11/50\n",
      "1563/1563 [==============================] - 102s 65ms/step - loss: 0.6097 - accuracy: 0.7857 - val_loss: 0.7110 - val_accuracy: 0.7615\n",
      "Epoch 12/50\n",
      "1563/1563 [==============================] - 110s 70ms/step - loss: 0.5842 - accuracy: 0.7915 - val_loss: 0.7066 - val_accuracy: 0.7674\n",
      "Epoch 13/50\n",
      "1563/1563 [==============================] - 123s 79ms/step - loss: 0.5705 - accuracy: 0.7983 - val_loss: 0.6671 - val_accuracy: 0.7749\n",
      "Epoch 14/50\n",
      "1563/1563 [==============================] - 132s 84ms/step - loss: 0.5542 - accuracy: 0.8037 - val_loss: 0.7004 - val_accuracy: 0.7631\n",
      "Epoch 15/50\n",
      "1563/1563 [==============================] - 131s 84ms/step - loss: 0.5387 - accuracy: 0.8083 - val_loss: 0.6939 - val_accuracy: 0.7699\n",
      "Epoch 16/50\n",
      "1563/1563 [==============================] - 133s 85ms/step - loss: 0.5209 - accuracy: 0.8152 - val_loss: 0.6790 - val_accuracy: 0.7778\n",
      "Epoch 17/50\n",
      "1563/1563 [==============================] - 132s 85ms/step - loss: 0.5100 - accuracy: 0.8190 - val_loss: 0.6749 - val_accuracy: 0.7830\n",
      "Epoch 18/50\n",
      "1563/1563 [==============================] - 131s 84ms/step - loss: 0.4936 - accuracy: 0.8237 - val_loss: 0.6796 - val_accuracy: 0.7773\n",
      "Epoch 19/50\n",
      "1563/1563 [==============================] - 259s 166ms/step - loss: 0.4905 - accuracy: 0.8277 - val_loss: 0.6890 - val_accuracy: 0.7750\n",
      "Epoch 20/50\n",
      "1563/1563 [==============================] - 2453s 2s/step - loss: 0.4764 - accuracy: 0.8322 - val_loss: 0.7104 - val_accuracy: 0.7734\n",
      "Epoch 21/50\n",
      "1563/1563 [==============================] - 190s 121ms/step - loss: 0.4674 - accuracy: 0.8342 - val_loss: 0.6935 - val_accuracy: 0.7834\n",
      "Epoch 22/50\n",
      "1563/1563 [==============================] - 104s 66ms/step - loss: 0.4691 - accuracy: 0.8336 - val_loss: 0.6674 - val_accuracy: 0.7832\n",
      "Epoch 23/50\n",
      "1563/1563 [==============================] - 454s 291ms/step - loss: 0.4604 - accuracy: 0.8396 - val_loss: 0.6719 - val_accuracy: 0.7822\n",
      "Epoch 24/50\n",
      "1563/1563 [==============================] - 110s 70ms/step - loss: 0.4440 - accuracy: 0.8425 - val_loss: 0.7234 - val_accuracy: 0.7776\n",
      "Epoch 25/50\n",
      "1563/1563 [==============================] - 101s 65ms/step - loss: 0.4430 - accuracy: 0.8437 - val_loss: 0.6831 - val_accuracy: 0.7847\n",
      "Epoch 26/50\n",
      "1563/1563 [==============================] - 103s 66ms/step - loss: 0.4374 - accuracy: 0.8452 - val_loss: 0.7540 - val_accuracy: 0.7719\n",
      "Epoch 27/50\n",
      "1563/1563 [==============================] - 103s 66ms/step - loss: 0.4313 - accuracy: 0.8462 - val_loss: 0.7174 - val_accuracy: 0.7832\n",
      "Epoch 28/50\n",
      "1563/1563 [==============================] - 105s 67ms/step - loss: 0.4336 - accuracy: 0.8488 - val_loss: 0.6677 - val_accuracy: 0.7918\n",
      "Epoch 29/50\n",
      "1563/1563 [==============================] - 106s 68ms/step - loss: 0.4093 - accuracy: 0.8560 - val_loss: 0.7306 - val_accuracy: 0.7827\n",
      "Epoch 30/50\n",
      "1563/1563 [==============================] - 106s 68ms/step - loss: 0.4176 - accuracy: 0.8516 - val_loss: 0.6794 - val_accuracy: 0.7885\n",
      "Epoch 31/50\n",
      "1563/1563 [==============================] - 105s 67ms/step - loss: 0.4033 - accuracy: 0.8588 - val_loss: 0.6942 - val_accuracy: 0.7822\n",
      "Epoch 32/50\n",
      "1563/1563 [==============================] - 105s 67ms/step - loss: 0.4039 - accuracy: 0.8586 - val_loss: 0.6809 - val_accuracy: 0.7851\n",
      "Epoch 33/50\n",
      "1563/1563 [==============================] - 106s 68ms/step - loss: 0.4023 - accuracy: 0.8598 - val_loss: 0.7115 - val_accuracy: 0.7815\n",
      "Epoch 34/50\n",
      "1563/1563 [==============================] - 106s 68ms/step - loss: 0.3940 - accuracy: 0.8631 - val_loss: 0.7114 - val_accuracy: 0.7875\n",
      "Epoch 35/50\n",
      "1563/1563 [==============================] - 101s 65ms/step - loss: 0.3849 - accuracy: 0.8652 - val_loss: 0.7254 - val_accuracy: 0.7845\n",
      "Epoch 36/50\n",
      "1563/1563 [==============================] - 102s 65ms/step - loss: 0.3875 - accuracy: 0.8646 - val_loss: 0.7589 - val_accuracy: 0.7819\n",
      "Epoch 37/50\n",
      "1563/1563 [==============================] - 103s 66ms/step - loss: 0.3853 - accuracy: 0.8661 - val_loss: 0.6809 - val_accuracy: 0.7884\n",
      "Epoch 38/50\n",
      "1563/1563 [==============================] - 101s 65ms/step - loss: 0.3808 - accuracy: 0.8656 - val_loss: 0.7049 - val_accuracy: 0.7909\n",
      "Epoch 39/50\n",
      "1563/1563 [==============================] - 103s 66ms/step - loss: 0.3695 - accuracy: 0.8703 - val_loss: 0.6809 - val_accuracy: 0.7934\n",
      "Epoch 40/50\n",
      "1563/1563 [==============================] - 100s 64ms/step - loss: 0.3689 - accuracy: 0.8704 - val_loss: 0.6714 - val_accuracy: 0.7922\n",
      "Epoch 41/50\n",
      "1563/1563 [==============================] - 100s 64ms/step - loss: 0.3716 - accuracy: 0.8704 - val_loss: 0.6917 - val_accuracy: 0.7962\n",
      "Epoch 42/50\n",
      "1563/1563 [==============================] - 100s 64ms/step - loss: 0.3673 - accuracy: 0.8717 - val_loss: 0.7504 - val_accuracy: 0.7838\n",
      "Epoch 43/50\n",
      "1563/1563 [==============================] - 100s 64ms/step - loss: 0.3610 - accuracy: 0.8743 - val_loss: 0.6906 - val_accuracy: 0.7952\n",
      "Epoch 44/50\n",
      "1563/1563 [==============================] - 103s 66ms/step - loss: 0.3632 - accuracy: 0.8744 - val_loss: 0.7394 - val_accuracy: 0.7906\n",
      "Epoch 45/50\n",
      "1563/1563 [==============================] - 100s 64ms/step - loss: 0.3595 - accuracy: 0.8746 - val_loss: 0.7098 - val_accuracy: 0.7916\n",
      "Epoch 46/50\n",
      "1563/1563 [==============================] - 99s 63ms/step - loss: 0.3602 - accuracy: 0.8748 - val_loss: 0.6956 - val_accuracy: 0.7973\n",
      "Epoch 47/50\n",
      "1563/1563 [==============================] - 98s 63ms/step - loss: 0.3516 - accuracy: 0.8773 - val_loss: 0.7272 - val_accuracy: 0.7885\n",
      "Epoch 48/50\n",
      "1563/1563 [==============================] - 99s 64ms/step - loss: 0.3489 - accuracy: 0.8805 - val_loss: 0.7552 - val_accuracy: 0.7901\n",
      "Epoch 49/50\n",
      "1563/1563 [==============================] - 698s 446ms/step - loss: 0.3538 - accuracy: 0.8765 - val_loss: 0.7393 - val_accuracy: 0.7861\n",
      "Epoch 50/50\n",
      "1563/1563 [==============================] - 105s 67ms/step - loss: 0.3389 - accuracy: 0.8835 - val_loss: 0.7494 - val_accuracy: 0.7873\n"
     ]
    }
   ],
   "source": [
    "h4 = model4.fit(x_train, y_train, epochs=50, batch_size=32, validation_data=(x_test,y_test))"
   ]
  },
  {
   "cell_type": "markdown",
   "metadata": {
    "id": "W-2sI5np6Uxk"
   },
   "source": [
    "Slightly lower training and testing accuracy. "
   ]
  },
  {
   "cell_type": "code",
   "execution_count": 38,
   "metadata": {
    "colab": {
     "base_uri": "https://localhost:8080/",
     "height": 282
    },
    "id": "UWZOOUyk6xwR",
    "outputId": "068ec4d4-bb47-4b80-d3ec-3434b2b03060"
   },
   "outputs": [
    {
     "data": {
      "text/plain": [
       "<matplotlib.legend.Legend at 0x7fdc6655b550>"
      ]
     },
     "execution_count": 38,
     "metadata": {},
     "output_type": "execute_result"
    },
    {
     "data": {
      "image/png": "[encoded data removed]",
      "text/plain": [
       "<Figure size 432x288 with 1 Axes>"
      ]
     },
     "metadata": {
      "needs_background": "light"
     },
     "output_type": "display_data"
    }
   ],
   "source": [
    "plot(h4.history['accuracy'], label=\"Training\")\n",
    "plot(h4.history['val_accuracy'], label=\"Testing\")\n",
    "pyplot.legend()"
   ]
  },
  {
   "cell_type": "markdown",
   "metadata": {
    "id": "8P5CF5Xw6dhZ"
   },
   "source": [
    "Add a stride of 2x2 in every Conv2D layer apart from input layer"
   ]
  },
  {
   "cell_type": "code",
   "execution_count": 108,
   "metadata": {
    "colab": {
     "base_uri": "https://localhost:8080/"
    },
    "id": "HO-EHY4m6z-b",
    "outputId": "8e8e22da-c49a-4d28-edbd-e34e4e35a923"
   },
   "outputs": [
    {
     "name": "stdout",
     "output_type": "stream",
     "text": [
      "Model: \"sequential_73\"\n",
      "_________________________________________________________________\n",
      "Layer (type)                 Output Shape              Param #   \n",
      "=================================================================\n",
      "conv2d_417 (Conv2D)          (None, 32, 32, 32)        896       \n",
      "_________________________________________________________________\n",
      "conv2d_418 (Conv2D)          (None, 16, 16, 32)        9248      \n",
      "_________________________________________________________________\n",
      "max_pooling2d_209 (MaxPoolin (None, 8, 8, 32)          0         \n",
      "_________________________________________________________________\n",
      "dropout_253 (Dropout)        (None, 8, 8, 32)          0         \n",
      "_________________________________________________________________\n",
      "conv2d_419 (Conv2D)          (None, 4, 4, 128)         36992     \n",
      "_________________________________________________________________\n",
      "conv2d_420 (Conv2D)          (None, 2, 2, 128)         147584    \n",
      "_________________________________________________________________\n",
      "max_pooling2d_210 (MaxPoolin (None, 1, 1, 128)         0         \n",
      "_________________________________________________________________\n",
      "dropout_254 (Dropout)        (None, 1, 1, 128)         0         \n",
      "_________________________________________________________________\n",
      "flatten_73 (Flatten)         (None, 128)               0         \n",
      "_________________________________________________________________\n",
      "dense_146 (Dense)            (None, 256)               33024     \n",
      "_________________________________________________________________\n",
      "dropout_255 (Dropout)        (None, 256)               0         \n",
      "_________________________________________________________________\n",
      "dense_147 (Dense)            (None, 10)                2570      \n",
      "=================================================================\n",
      "Total params: 230,314\n",
      "Trainable params: 230,314\n",
      "Non-trainable params: 0\n",
      "_________________________________________________________________\n"
     ]
    }
   ],
   "source": [
    "model5 = tf.keras.models.Sequential([\n",
    "          Conv2D(32, (3, 3), padding='same', activation='relu', input_shape=x_train.shape[1:]),\n",
    "          Conv2D(32, (3, 3), (2, 2), padding='same', activation='relu'),\n",
    "          MaxPooling2D(pool_size=(2, 2)),\n",
    "          Dropout(0.2),\n",
    "          Conv2D(128, (3, 3), (2, 2), padding='same', activation='relu'),\n",
    "          Conv2D(128, (3, 3), (2, 2), padding='same', activation='relu'),\n",
    "          MaxPooling2D(pool_size=(2, 2)),\n",
    "          Dropout(0.2),\n",
    "          Flatten(),\n",
    "          Dense(256, activation='relu'),\n",
    "          Dropout(0.2),\n",
    "          Dense(10, activation='softmax') \n",
    "])\n",
    "\n",
    "model5.compile(optimizer='adam',\n",
    "              loss='sparse_categorical_crossentropy',\n",
    "              metrics=['accuracy'])\n",
    "\n",
    "model5.summary()"
   ]
  },
  {
   "cell_type": "code",
   "execution_count": 109,
   "metadata": {
    "colab": {
     "base_uri": "https://localhost:8080/"
    },
    "id": "iXfbpetZ60Zb",
    "outputId": "3aac2448-2481-4fcb-930f-ec4c68acbf89"
   },
   "outputs": [
    {
     "name": "stdout",
     "output_type": "stream",
     "text": [
      "Epoch 1/50\n",
      "1563/1563 [==============================] - 28s 18ms/step - loss: 1.6045 - accuracy: 0.4085 - val_loss: 1.2295 - val_accuracy: 0.5570\n",
      "Epoch 2/50\n",
      "1563/1563 [==============================] - 29s 19ms/step - loss: 1.2140 - accuracy: 0.5652 - val_loss: 1.0549 - val_accuracy: 0.6207\n",
      "Epoch 3/50\n",
      "1563/1563 [==============================] - 24s 16ms/step - loss: 1.0544 - accuracy: 0.6260 - val_loss: 0.9543 - val_accuracy: 0.6616\n",
      "Epoch 4/50\n",
      "1563/1563 [==============================] - 25s 16ms/step - loss: 0.9652 - accuracy: 0.6598 - val_loss: 0.8957 - val_accuracy: 0.6841\n",
      "Epoch 5/50\n",
      "1563/1563 [==============================] - 26s 17ms/step - loss: 0.8948 - accuracy: 0.6845 - val_loss: 0.8775 - val_accuracy: 0.6918\n",
      "Epoch 6/50\n",
      "1563/1563 [==============================] - 25s 16ms/step - loss: 0.8470 - accuracy: 0.7002 - val_loss: 0.8619 - val_accuracy: 0.6992\n",
      "Epoch 7/50\n",
      "1563/1563 [==============================] - 25s 16ms/step - loss: 0.8058 - accuracy: 0.7147 - val_loss: 0.8299 - val_accuracy: 0.7094\n",
      "Epoch 8/50\n",
      "1563/1563 [==============================] - 24s 16ms/step - loss: 0.7789 - accuracy: 0.7255 - val_loss: 0.8153 - val_accuracy: 0.7102\n",
      "Epoch 9/50\n",
      "1563/1563 [==============================] - 24s 15ms/step - loss: 0.7535 - accuracy: 0.7347 - val_loss: 0.7978 - val_accuracy: 0.7185\n",
      "Epoch 10/50\n",
      "1563/1563 [==============================] - 24s 15ms/step - loss: 0.7221 - accuracy: 0.7433 - val_loss: 0.7957 - val_accuracy: 0.7233\n",
      "Epoch 11/50\n",
      "1563/1563 [==============================] - 24s 15ms/step - loss: 0.7052 - accuracy: 0.7496 - val_loss: 0.7881 - val_accuracy: 0.7280\n",
      "Epoch 12/50\n",
      "1563/1563 [==============================] - 26s 16ms/step - loss: 0.6798 - accuracy: 0.7581 - val_loss: 0.8098 - val_accuracy: 0.7208\n",
      "Epoch 13/50\n",
      "1563/1563 [==============================] - 25s 16ms/step - loss: 0.6686 - accuracy: 0.7620 - val_loss: 0.7980 - val_accuracy: 0.7279\n",
      "Epoch 14/50\n",
      "1563/1563 [==============================] - 28s 18ms/step - loss: 0.6490 - accuracy: 0.7697 - val_loss: 0.8118 - val_accuracy: 0.7220\n",
      "Epoch 15/50\n",
      "1563/1563 [==============================] - 26s 17ms/step - loss: 0.6386 - accuracy: 0.7727 - val_loss: 0.7995 - val_accuracy: 0.7299\n",
      "Epoch 16/50\n",
      "1563/1563 [==============================] - 25s 16ms/step - loss: 0.6271 - accuracy: 0.7779 - val_loss: 0.7916 - val_accuracy: 0.7300\n",
      "Epoch 17/50\n",
      "1563/1563 [==============================] - 27s 17ms/step - loss: 0.6149 - accuracy: 0.7814 - val_loss: 0.8046 - val_accuracy: 0.7245\n",
      "Epoch 18/50\n",
      "1563/1563 [==============================] - 27s 17ms/step - loss: 0.6010 - accuracy: 0.7861 - val_loss: 0.8021 - val_accuracy: 0.7276\n",
      "Epoch 19/50\n",
      "1563/1563 [==============================] - 26s 16ms/step - loss: 0.5941 - accuracy: 0.7896 - val_loss: 0.8101 - val_accuracy: 0.7276\n",
      "Epoch 20/50\n",
      "1563/1563 [==============================] - 27s 17ms/step - loss: 0.5795 - accuracy: 0.7933 - val_loss: 0.7749 - val_accuracy: 0.7351\n",
      "Epoch 21/50\n",
      "1563/1563 [==============================] - 28s 18ms/step - loss: 0.5749 - accuracy: 0.7976 - val_loss: 0.7991 - val_accuracy: 0.7316\n",
      "Epoch 22/50\n",
      "1563/1563 [==============================] - 27s 17ms/step - loss: 0.5668 - accuracy: 0.7994 - val_loss: 0.7863 - val_accuracy: 0.7387\n",
      "Epoch 23/50\n",
      "1563/1563 [==============================] - 27s 17ms/step - loss: 0.5530 - accuracy: 0.8026 - val_loss: 0.8086 - val_accuracy: 0.7301\n",
      "Epoch 24/50\n",
      "1563/1563 [==============================] - 27s 17ms/step - loss: 0.5511 - accuracy: 0.8046 - val_loss: 0.8050 - val_accuracy: 0.7275\n",
      "Epoch 25/50\n",
      "1563/1563 [==============================] - 27s 17ms/step - loss: 0.5405 - accuracy: 0.8087 - val_loss: 0.7947 - val_accuracy: 0.7362\n",
      "Epoch 26/50\n",
      "1563/1563 [==============================] - 26s 17ms/step - loss: 0.5369 - accuracy: 0.8096 - val_loss: 0.7825 - val_accuracy: 0.7391\n",
      "Epoch 27/50\n",
      "1563/1563 [==============================] - 26s 17ms/step - loss: 0.5305 - accuracy: 0.8122 - val_loss: 0.8179 - val_accuracy: 0.7320\n",
      "Epoch 28/50\n",
      "1563/1563 [==============================] - 26s 17ms/step - loss: 0.5201 - accuracy: 0.8152 - val_loss: 0.8036 - val_accuracy: 0.7336\n",
      "Epoch 29/50\n",
      "1563/1563 [==============================] - 26s 17ms/step - loss: 0.5204 - accuracy: 0.8186 - val_loss: 0.8035 - val_accuracy: 0.7329\n",
      "Epoch 30/50\n",
      "1563/1563 [==============================] - 26s 17ms/step - loss: 0.5078 - accuracy: 0.8209 - val_loss: 0.8389 - val_accuracy: 0.7332\n",
      "Epoch 31/50\n",
      "1563/1563 [==============================] - 27s 17ms/step - loss: 0.5010 - accuracy: 0.8203 - val_loss: 0.8097 - val_accuracy: 0.7397\n",
      "Epoch 32/50\n",
      "1563/1563 [==============================] - 28s 18ms/step - loss: 0.5016 - accuracy: 0.8217 - val_loss: 0.8036 - val_accuracy: 0.7383\n",
      "Epoch 33/50\n",
      "1563/1563 [==============================] - 27s 17ms/step - loss: 0.4970 - accuracy: 0.8233 - val_loss: 0.8381 - val_accuracy: 0.7280\n",
      "Epoch 34/50\n",
      "1563/1563 [==============================] - 27s 17ms/step - loss: 0.4871 - accuracy: 0.8265 - val_loss: 0.8140 - val_accuracy: 0.7347\n",
      "Epoch 35/50\n",
      "1563/1563 [==============================] - 27s 17ms/step - loss: 0.4858 - accuracy: 0.8280 - val_loss: 0.8294 - val_accuracy: 0.7324\n",
      "Epoch 36/50\n",
      "1563/1563 [==============================] - 27s 17ms/step - loss: 0.4756 - accuracy: 0.8323 - val_loss: 0.8377 - val_accuracy: 0.7351\n",
      "Epoch 37/50\n",
      "1563/1563 [==============================] - 28s 18ms/step - loss: 0.4771 - accuracy: 0.8321 - val_loss: 0.8183 - val_accuracy: 0.7381\n",
      "Epoch 38/50\n",
      "1563/1563 [==============================] - 28s 18ms/step - loss: 0.4698 - accuracy: 0.8337 - val_loss: 0.8212 - val_accuracy: 0.7352\n",
      "Epoch 39/50\n",
      "1563/1563 [==============================] - 27s 17ms/step - loss: 0.4647 - accuracy: 0.8377 - val_loss: 0.8339 - val_accuracy: 0.7357\n",
      "Epoch 40/50\n",
      "1563/1563 [==============================] - 27s 17ms/step - loss: 0.4647 - accuracy: 0.8356 - val_loss: 0.8332 - val_accuracy: 0.7318\n",
      "Epoch 41/50\n",
      "1563/1563 [==============================] - 28s 18ms/step - loss: 0.4582 - accuracy: 0.8387 - val_loss: 0.8132 - val_accuracy: 0.7382\n",
      "Epoch 42/50\n",
      "1563/1563 [==============================] - 27s 17ms/step - loss: 0.4547 - accuracy: 0.8403 - val_loss: 0.8271 - val_accuracy: 0.7342\n",
      "Epoch 43/50\n",
      "1563/1563 [==============================] - 28s 18ms/step - loss: 0.4519 - accuracy: 0.8426 - val_loss: 0.8545 - val_accuracy: 0.7373\n",
      "Epoch 44/50\n",
      "1563/1563 [==============================] - 27s 18ms/step - loss: 0.4458 - accuracy: 0.8438 - val_loss: 0.8520 - val_accuracy: 0.7340\n",
      "Epoch 45/50\n",
      "1563/1563 [==============================] - 27s 17ms/step - loss: 0.4442 - accuracy: 0.8439 - val_loss: 0.8306 - val_accuracy: 0.7382\n",
      "Epoch 46/50\n",
      "1563/1563 [==============================] - 29s 18ms/step - loss: 0.4475 - accuracy: 0.8442 - val_loss: 0.8432 - val_accuracy: 0.7393\n",
      "Epoch 47/50\n",
      "1563/1563 [==============================] - 28s 18ms/step - loss: 0.4400 - accuracy: 0.8467 - val_loss: 0.8423 - val_accuracy: 0.7340\n",
      "Epoch 48/50\n",
      "1563/1563 [==============================] - 28s 18ms/step - loss: 0.4365 - accuracy: 0.8455 - val_loss: 0.8605 - val_accuracy: 0.7354\n",
      "Epoch 49/50\n",
      "1563/1563 [==============================] - 26s 17ms/step - loss: 0.4339 - accuracy: 0.8466 - val_loss: 0.8452 - val_accuracy: 0.7408\n",
      "Epoch 50/50\n",
      "1563/1563 [==============================] - 26s 17ms/step - loss: 0.4324 - accuracy: 0.8494 - val_loss: 0.8560 - val_accuracy: 0.7335\n"
     ]
    }
   ],
   "source": [
    "h5 = model5.fit(x_train, y_train, epochs=50, batch_size=32, validation_data=(x_test,y_test))"
   ]
  },
  {
   "cell_type": "markdown",
   "metadata": {
    "id": "NLlKStE26pE_"
   },
   "source": [
    "This CNN has a lower training accuracy and a slightly lower validation accuracy"
   ]
  },
  {
   "cell_type": "code",
   "execution_count": 110,
   "metadata": {
    "colab": {
     "base_uri": "https://localhost:8080/",
     "height": 282
    },
    "id": "ruK_jZmz60uF",
    "outputId": "a3ca2ca5-0b37-43d7-ecc8-422237ccc20d"
   },
   "outputs": [
    {
     "data": {
      "text/plain": [
       "<matplotlib.legend.Legend at 0x7fdc6984c400>"
      ]
     },
     "execution_count": 110,
     "metadata": {},
     "output_type": "execute_result"
    },
    {
     "data": {
      "image/png": "[encoded data removed]",
      "text/plain": [
       "<Figure size 432x288 with 1 Axes>"
      ]
     },
     "metadata": {
      "needs_background": "light"
     },
     "output_type": "display_data"
    }
   ],
   "source": [
    "plot(h5.history['accuracy'], label=\"Training\")\n",
    "plot(h5.history['val_accuracy'], label=\"Testing\")\n",
    "pyplot.legend()"
   ]
  },
  {
   "cell_type": "markdown",
   "metadata": {
    "id": "4AcCG0RK6wsv"
   },
   "source": [
    "Increase stride amount to 4x4 and 2x2 in each block"
   ]
  },
  {
   "cell_type": "code",
   "execution_count": 112,
   "metadata": {
    "colab": {
     "base_uri": "https://localhost:8080/"
    },
    "id": "rkWMO61B60mZ",
    "outputId": "1f4f2159-3229-48ff-a3a6-b3574aa4e7d3"
   },
   "outputs": [
    {
     "name": "stdout",
     "output_type": "stream",
     "text": [
      "Model: \"sequential_75\"\n",
      "_________________________________________________________________\n",
      "Layer (type)                 Output Shape              Param #   \n",
      "=================================================================\n",
      "conv2d_427 (Conv2D)          (None, 32, 32, 32)        896       \n",
      "_________________________________________________________________\n",
      "conv2d_428 (Conv2D)          (None, 8, 8, 32)          9248      \n",
      "_________________________________________________________________\n",
      "max_pooling2d_214 (MaxPoolin (None, 4, 4, 32)          0         \n",
      "_________________________________________________________________\n",
      "dropout_260 (Dropout)        (None, 4, 4, 32)          0         \n",
      "_________________________________________________________________\n",
      "conv2d_429 (Conv2D)          (None, 2, 2, 128)         36992     \n",
      "_________________________________________________________________\n",
      "conv2d_430 (Conv2D)          (None, 2, 2, 128)         147584    \n",
      "_________________________________________________________________\n",
      "max_pooling2d_215 (MaxPoolin (None, 1, 1, 128)         0         \n",
      "_________________________________________________________________\n",
      "dropout_261 (Dropout)        (None, 1, 1, 128)         0         \n",
      "_________________________________________________________________\n",
      "flatten_75 (Flatten)         (None, 128)               0         \n",
      "_________________________________________________________________\n",
      "dense_150 (Dense)            (None, 256)               33024     \n",
      "_________________________________________________________________\n",
      "dropout_262 (Dropout)        (None, 256)               0         \n",
      "_________________________________________________________________\n",
      "dense_151 (Dense)            (None, 10)                2570      \n",
      "=================================================================\n",
      "Total params: 230,314\n",
      "Trainable params: 230,314\n",
      "Non-trainable params: 0\n",
      "_________________________________________________________________\n"
     ]
    }
   ],
   "source": [
    "model6 = tf.keras.models.Sequential([\n",
    "          Conv2D(32, (3, 3), padding='same', activation='relu', input_shape=x_train.shape[1:]),\n",
    "          Conv2D(32, (3, 3), (4, 4), padding='same', activation='relu'),\n",
    "          MaxPooling2D(pool_size=(2, 2)),\n",
    "          Dropout(0.2),\n",
    "          Conv2D(128, (3, 3), (2, 2), padding='same', activation='relu'),\n",
    "          Conv2D(128, (3, 3), padding='same', activation='relu'),\n",
    "          MaxPooling2D(pool_size=(2, 2)),\n",
    "          Dropout(0.2),\n",
    "          Flatten(),\n",
    "          Dense(256, activation='relu'),\n",
    "          Dropout(0.2),\n",
    "          Dense(10, activation='softmax')\n",
    "])\n",
    "\n",
    "model6.compile(optimizer='adam',\n",
    "              loss='sparse_categorical_crossentropy',\n",
    "              metrics=['accuracy'])\n",
    "\n",
    "model6.summary()"
   ]
  },
  {
   "cell_type": "code",
   "execution_count": 113,
   "metadata": {
    "colab": {
     "base_uri": "https://localhost:8080/"
    },
    "id": "uJPomVsG60QX",
    "outputId": "bff8a570-36de-4092-91f2-d98e164b15b5"
   },
   "outputs": [
    {
     "name": "stdout",
     "output_type": "stream",
     "text": [
      "Epoch 1/50\n",
      "1563/1563 [==============================] - 17s 11ms/step - loss: 1.6538 - accuracy: 0.3865 - val_loss: 1.3734 - val_accuracy: 0.4952\n",
      "Epoch 2/50\n",
      "1563/1563 [==============================] - 17s 11ms/step - loss: 1.3774 - accuracy: 0.5011 - val_loss: 1.2627 - val_accuracy: 0.5381\n",
      "Epoch 3/50\n",
      "1563/1563 [==============================] - 18s 12ms/step - loss: 1.2693 - accuracy: 0.5414 - val_loss: 1.1359 - val_accuracy: 0.5907\n",
      "Epoch 4/50\n",
      "1563/1563 [==============================] - 27s 17ms/step - loss: 1.1971 - accuracy: 0.5710 - val_loss: 1.1138 - val_accuracy: 0.6068\n",
      "Epoch 5/50\n",
      "1563/1563 [==============================] - 21s 14ms/step - loss: 1.1417 - accuracy: 0.5930 - val_loss: 1.0584 - val_accuracy: 0.6267\n",
      "Epoch 6/50\n",
      "1563/1563 [==============================] - 21s 14ms/step - loss: 1.0973 - accuracy: 0.6086 - val_loss: 1.0403 - val_accuracy: 0.6254\n",
      "Epoch 7/50\n",
      "1563/1563 [==============================] - 20s 13ms/step - loss: 1.0565 - accuracy: 0.6240 - val_loss: 1.0535 - val_accuracy: 0.6241\n",
      "Epoch 8/50\n",
      "1563/1563 [==============================] - 20s 13ms/step - loss: 1.0264 - accuracy: 0.6346 - val_loss: 1.0190 - val_accuracy: 0.6433\n",
      "Epoch 9/50\n",
      "1563/1563 [==============================] - 22s 14ms/step - loss: 0.9982 - accuracy: 0.6465 - val_loss: 1.0349 - val_accuracy: 0.6320\n",
      "Epoch 10/50\n",
      "1563/1563 [==============================] - 23s 15ms/step - loss: 0.9822 - accuracy: 0.6533 - val_loss: 1.0198 - val_accuracy: 0.6410\n",
      "Epoch 11/50\n",
      "1563/1563 [==============================] - 24s 15ms/step - loss: 0.9561 - accuracy: 0.6585 - val_loss: 0.9732 - val_accuracy: 0.6616\n",
      "Epoch 12/50\n",
      "1563/1563 [==============================] - 21s 13ms/step - loss: 0.9388 - accuracy: 0.6649 - val_loss: 0.9996 - val_accuracy: 0.6505\n",
      "Epoch 13/50\n",
      "1563/1563 [==============================] - 22s 14ms/step - loss: 0.9175 - accuracy: 0.6720 - val_loss: 0.9570 - val_accuracy: 0.6682\n",
      "Epoch 14/50\n",
      "1563/1563 [==============================] - 20s 13ms/step - loss: 0.9044 - accuracy: 0.6777 - val_loss: 0.9721 - val_accuracy: 0.6636\n",
      "Epoch 15/50\n",
      "1563/1563 [==============================] - 21s 13ms/step - loss: 0.8862 - accuracy: 0.6835 - val_loss: 0.9669 - val_accuracy: 0.6661\n",
      "Epoch 16/50\n",
      "1563/1563 [==============================] - 20s 12ms/step - loss: 0.8647 - accuracy: 0.6902 - val_loss: 0.9438 - val_accuracy: 0.6704\n",
      "Epoch 17/50\n",
      "1563/1563 [==============================] - 21s 13ms/step - loss: 0.8649 - accuracy: 0.6921 - val_loss: 0.9914 - val_accuracy: 0.6593\n",
      "Epoch 18/50\n",
      "1563/1563 [==============================] - 22s 14ms/step - loss: 0.8465 - accuracy: 0.7004 - val_loss: 0.9741 - val_accuracy: 0.6617\n",
      "Epoch 19/50\n",
      "1563/1563 [==============================] - 22s 14ms/step - loss: 0.8313 - accuracy: 0.7017 - val_loss: 0.9417 - val_accuracy: 0.6742\n",
      "Epoch 20/50\n",
      "1563/1563 [==============================] - 23s 15ms/step - loss: 0.8222 - accuracy: 0.7064 - val_loss: 0.9480 - val_accuracy: 0.6681\n",
      "Epoch 21/50\n",
      "1563/1563 [==============================] - 18s 11ms/step - loss: 0.8144 - accuracy: 0.7086 - val_loss: 0.9381 - val_accuracy: 0.6770\n",
      "Epoch 22/50\n",
      "1563/1563 [==============================] - 19s 12ms/step - loss: 0.8072 - accuracy: 0.7126 - val_loss: 0.9443 - val_accuracy: 0.6721\n",
      "Epoch 23/50\n",
      "1563/1563 [==============================] - 20s 13ms/step - loss: 0.8023 - accuracy: 0.7163 - val_loss: 0.9432 - val_accuracy: 0.6773\n",
      "Epoch 24/50\n",
      "1563/1563 [==============================] - 24s 15ms/step - loss: 0.7884 - accuracy: 0.7191 - val_loss: 0.9659 - val_accuracy: 0.6681\n",
      "Epoch 25/50\n",
      "1563/1563 [==============================] - 20s 13ms/step - loss: 0.7767 - accuracy: 0.7220 - val_loss: 0.9434 - val_accuracy: 0.6760\n",
      "Epoch 26/50\n",
      "1563/1563 [==============================] - 21s 13ms/step - loss: 0.7710 - accuracy: 0.7256 - val_loss: 0.9516 - val_accuracy: 0.6754\n",
      "Epoch 27/50\n",
      "1563/1563 [==============================] - 21s 13ms/step - loss: 0.7657 - accuracy: 0.7261 - val_loss: 0.9503 - val_accuracy: 0.6692\n",
      "Epoch 28/50\n",
      "1563/1563 [==============================] - 17s 11ms/step - loss: 0.7571 - accuracy: 0.7292 - val_loss: 0.9385 - val_accuracy: 0.6776\n",
      "Epoch 29/50\n",
      "1563/1563 [==============================] - 19s 12ms/step - loss: 0.7476 - accuracy: 0.7334 - val_loss: 0.9609 - val_accuracy: 0.6742\n",
      "Epoch 30/50\n",
      "1563/1563 [==============================] - 20s 13ms/step - loss: 0.7427 - accuracy: 0.7353 - val_loss: 0.9556 - val_accuracy: 0.6768\n",
      "Epoch 31/50\n",
      "1563/1563 [==============================] - 22s 14ms/step - loss: 0.7394 - accuracy: 0.7359 - val_loss: 0.9466 - val_accuracy: 0.6775\n",
      "Epoch 32/50\n",
      "1563/1563 [==============================] - 21s 14ms/step - loss: 0.7308 - accuracy: 0.7372 - val_loss: 0.9410 - val_accuracy: 0.6836\n",
      "Epoch 33/50\n",
      "1563/1563 [==============================] - 23s 14ms/step - loss: 0.7271 - accuracy: 0.7395 - val_loss: 0.9282 - val_accuracy: 0.6842\n",
      "Epoch 34/50\n",
      "1563/1563 [==============================] - 23s 15ms/step - loss: 0.7171 - accuracy: 0.7434 - val_loss: 0.9514 - val_accuracy: 0.6840\n",
      "Epoch 35/50\n",
      "1563/1563 [==============================] - 21s 13ms/step - loss: 0.7123 - accuracy: 0.7467 - val_loss: 0.9623 - val_accuracy: 0.6685\n",
      "Epoch 36/50\n",
      "1563/1563 [==============================] - 21s 13ms/step - loss: 0.7073 - accuracy: 0.7470 - val_loss: 0.9763 - val_accuracy: 0.6754\n",
      "Epoch 37/50\n",
      "1563/1563 [==============================] - 24s 16ms/step - loss: 0.7019 - accuracy: 0.7478 - val_loss: 0.9709 - val_accuracy: 0.6765\n",
      "Epoch 38/50\n",
      "1563/1563 [==============================] - 21s 14ms/step - loss: 0.6960 - accuracy: 0.7505 - val_loss: 0.9533 - val_accuracy: 0.6875\n",
      "Epoch 39/50\n",
      "1563/1563 [==============================] - 21s 13ms/step - loss: 0.6965 - accuracy: 0.7521 - val_loss: 0.9687 - val_accuracy: 0.6787\n",
      "Epoch 40/50\n",
      "1563/1563 [==============================] - 20s 13ms/step - loss: 0.6835 - accuracy: 0.7570 - val_loss: 0.9794 - val_accuracy: 0.6734\n",
      "Epoch 41/50\n",
      "1563/1563 [==============================] - 21s 13ms/step - loss: 0.6813 - accuracy: 0.7569 - val_loss: 0.9529 - val_accuracy: 0.6841\n",
      "Epoch 42/50\n",
      "1563/1563 [==============================] - 21s 13ms/step - loss: 0.6765 - accuracy: 0.7579 - val_loss: 0.9636 - val_accuracy: 0.6786\n",
      "Epoch 43/50\n",
      "1563/1563 [==============================] - 21s 13ms/step - loss: 0.6716 - accuracy: 0.7600 - val_loss: 0.9770 - val_accuracy: 0.6791\n",
      "Epoch 44/50\n",
      "1563/1563 [==============================] - 22s 14ms/step - loss: 0.6636 - accuracy: 0.7635 - val_loss: 0.9551 - val_accuracy: 0.6808\n",
      "Epoch 45/50\n",
      "1563/1563 [==============================] - 17s 11ms/step - loss: 0.6674 - accuracy: 0.7634 - val_loss: 0.9643 - val_accuracy: 0.6826\n",
      "Epoch 46/50\n",
      "1563/1563 [==============================] - 18s 11ms/step - loss: 0.6624 - accuracy: 0.7648 - val_loss: 0.9749 - val_accuracy: 0.6808\n",
      "Epoch 47/50\n",
      "1563/1563 [==============================] - 18s 11ms/step - loss: 0.6637 - accuracy: 0.7634 - val_loss: 0.9604 - val_accuracy: 0.6780\n",
      "Epoch 48/50\n",
      "1563/1563 [==============================] - 18s 12ms/step - loss: 0.6505 - accuracy: 0.7682 - val_loss: 0.9714 - val_accuracy: 0.6777\n",
      "Epoch 49/50\n",
      "1563/1563 [==============================] - 19s 12ms/step - loss: 0.6532 - accuracy: 0.7670 - val_loss: 0.9664 - val_accuracy: 0.6850\n",
      "Epoch 50/50\n",
      "1563/1563 [==============================] - 18s 12ms/step - loss: 0.6544 - accuracy: 0.7677 - val_loss: 0.9715 - val_accuracy: 0.6773\n"
     ]
    }
   ],
   "source": [
    "h6 = model6.fit(x_train, y_train, epochs=50, batch_size=32, validation_data=(x_test,y_test))"
   ]
  },
  {
   "cell_type": "markdown",
   "metadata": {
    "id": "5mIKD8dl64Bd"
   },
   "source": [
    "Training and validation accuracies are much lower than the base model "
   ]
  },
  {
   "cell_type": "code",
   "execution_count": 114,
   "metadata": {
    "colab": {
     "base_uri": "https://localhost:8080/",
     "height": 282
    },
    "id": "IHtl2Evf6zo2",
    "outputId": "a6dd3ec2-7140-4e21-9737-780ea662801d"
   },
   "outputs": [
    {
     "data": {
      "text/plain": [
       "<matplotlib.legend.Legend at 0x7fdc6a96a970>"
      ]
     },
     "execution_count": 114,
     "metadata": {},
     "output_type": "execute_result"
    },
    {
     "data": {
      "image/png": "[encoded data removed]",
      "text/plain": [
       "<Figure size 432x288 with 1 Axes>"
      ]
     },
     "metadata": {
      "needs_background": "light"
     },
     "output_type": "display_data"
    }
   ],
   "source": [
    "plot(h6.history['accuracy'], label=\"Training\")\n",
    "plot(h6.history['val_accuracy'], label=\"Testing\")\n",
    "pyplot.legend()"
   ]
  },
  {
   "cell_type": "code",
   "execution_count": 115,
   "metadata": {
    "colab": {
     "base_uri": "https://localhost:8080/"
    },
    "id": "hSN6F_dSKeOi",
    "outputId": "5e772d3b-a4cf-4b89-bf9d-e1f61eb6e963"
   },
   "outputs": [
    {
     "name": "stdout",
     "output_type": "stream",
     "text": [
      "Model: \"sequential_76\"\n",
      "_________________________________________________________________\n",
      "Layer (type)                 Output Shape              Param #   \n",
      "=================================================================\n",
      "conv2d_431 (Conv2D)          (None, 32, 32, 32)        896       \n",
      "_________________________________________________________________\n",
      "conv2d_432 (Conv2D)          (None, 32, 32, 32)        9248      \n",
      "_________________________________________________________________\n",
      "max_pooling2d_216 (MaxPoolin (None, 10, 10, 32)        0         \n",
      "_________________________________________________________________\n",
      "dropout_263 (Dropout)        (None, 10, 10, 32)        0         \n",
      "_________________________________________________________________\n",
      "conv2d_433 (Conv2D)          (None, 10, 10, 64)        18496     \n",
      "_________________________________________________________________\n",
      "conv2d_434 (Conv2D)          (None, 10, 10, 64)        36928     \n",
      "_________________________________________________________________\n",
      "max_pooling2d_217 (MaxPoolin (None, 3, 3, 64)          0         \n",
      "_________________________________________________________________\n",
      "dropout_264 (Dropout)        (None, 3, 3, 64)          0         \n",
      "_________________________________________________________________\n",
      "conv2d_435 (Conv2D)          (None, 3, 3, 128)         73856     \n",
      "_________________________________________________________________\n",
      "conv2d_436 (Conv2D)          (None, 3, 3, 128)         147584    \n",
      "_________________________________________________________________\n",
      "max_pooling2d_218 (MaxPoolin (None, 1, 1, 128)         0         \n",
      "_________________________________________________________________\n",
      "dropout_265 (Dropout)        (None, 1, 1, 128)         0         \n",
      "_________________________________________________________________\n",
      "flatten_76 (Flatten)         (None, 128)               0         \n",
      "_________________________________________________________________\n",
      "dense_152 (Dense)            (None, 256)               33024     \n",
      "_________________________________________________________________\n",
      "dropout_266 (Dropout)        (None, 256)               0         \n",
      "_________________________________________________________________\n",
      "dense_153 (Dense)            (None, 10)                2570      \n",
      "=================================================================\n",
      "Total params: 322,602\n",
      "Trainable params: 322,602\n",
      "Non-trainable params: 0\n",
      "_________________________________________________________________\n"
     ]
    }
   ],
   "source": [
    "model7 = tf.keras.models.Sequential([\n",
    "          Conv2D(32, (3, 3), padding='same', activation='relu', input_shape=x_train.shape[1:]),\n",
    "          Conv2D(32, (3, 3), padding='same', activation='relu'),\n",
    "          MaxPooling2D(pool_size=(3, 3)),\n",
    "          Dropout(0.2),\n",
    "          Conv2D(64, (3, 3), padding='same', activation='relu'),\n",
    "          Conv2D(64, (3, 3), padding='same', activation='relu'),\n",
    "          MaxPooling2D(pool_size=(3, 3)),\n",
    "          Dropout(0.2),\n",
    "          Conv2D(128, (3, 3), padding='same', activation='relu'),\n",
    "          Conv2D(128, (3, 3), padding='same', activation='relu'),\n",
    "          MaxPooling2D(pool_size=(2, 2)),\n",
    "          Dropout(0.2),\n",
    "          Flatten(),\n",
    "          Dense(256, activation='relu'),\n",
    "          Dropout(0.2),\n",
    "          Dense(10, activation='softmax')\n",
    "])\n",
    "\n",
    "model7.compile(optimizer='adam',\n",
    "              loss='sparse_categorical_crossentropy',\n",
    "              metrics=['accuracy'])\n",
    "\n",
    "model7.summary()"
   ]
  },
  {
   "cell_type": "code",
   "execution_count": 116,
   "metadata": {
    "colab": {
     "base_uri": "https://localhost:8080/"
    },
    "id": "__gC_qhDKqVu",
    "outputId": "16873633-3efc-4c08-b868-01a9b657fb70"
   },
   "outputs": [
    {
     "name": "stdout",
     "output_type": "stream",
     "text": [
      "Epoch 1/50\n",
      "1563/1563 [==============================] - 87s 56ms/step - loss: 1.6277 - accuracy: 0.3927 - val_loss: 1.2651 - val_accuracy: 0.5394\n",
      "Epoch 2/50\n",
      "1563/1563 [==============================] - 86s 55ms/step - loss: 1.2118 - accuracy: 0.5678 - val_loss: 1.0348 - val_accuracy: 0.6380\n",
      "Epoch 3/50\n",
      "1563/1563 [==============================] - 92s 59ms/step - loss: 1.0257 - accuracy: 0.6420 - val_loss: 0.8926 - val_accuracy: 0.6864\n",
      "Epoch 4/50\n",
      "1563/1563 [==============================] - 99s 63ms/step - loss: 0.9250 - accuracy: 0.6775 - val_loss: 0.8904 - val_accuracy: 0.6934\n",
      "Epoch 5/50\n",
      "1563/1563 [==============================] - 98s 63ms/step - loss: 0.8582 - accuracy: 0.6990 - val_loss: 0.8074 - val_accuracy: 0.7243\n",
      "Epoch 6/50\n",
      "1563/1563 [==============================] - 98s 63ms/step - loss: 0.8220 - accuracy: 0.7167 - val_loss: 0.7432 - val_accuracy: 0.7467\n",
      "Epoch 7/50\n",
      "1563/1563 [==============================] - 97s 62ms/step - loss: 0.7859 - accuracy: 0.7297 - val_loss: 0.7796 - val_accuracy: 0.7320\n",
      "Epoch 8/50\n",
      "1563/1563 [==============================] - 101s 65ms/step - loss: 0.7506 - accuracy: 0.7399 - val_loss: 0.7247 - val_accuracy: 0.7525\n",
      "Epoch 9/50\n",
      "1563/1563 [==============================] - 111s 71ms/step - loss: 0.7274 - accuracy: 0.7468 - val_loss: 0.7056 - val_accuracy: 0.7604\n",
      "Epoch 10/50\n",
      "1563/1563 [==============================] - 105s 67ms/step - loss: 0.7103 - accuracy: 0.7550 - val_loss: 0.7252 - val_accuracy: 0.7486\n",
      "Epoch 11/50\n",
      "1563/1563 [==============================] - 96s 62ms/step - loss: 0.6865 - accuracy: 0.7626 - val_loss: 0.7103 - val_accuracy: 0.7621\n",
      "Epoch 12/50\n",
      "1563/1563 [==============================] - 111s 71ms/step - loss: 0.6733 - accuracy: 0.7666 - val_loss: 0.6890 - val_accuracy: 0.7717\n",
      "Epoch 13/50\n",
      "1563/1563 [==============================] - 113s 72ms/step - loss: 0.6668 - accuracy: 0.7733 - val_loss: 0.6743 - val_accuracy: 0.7752\n",
      "Epoch 14/50\n",
      "1563/1563 [==============================] - 106s 68ms/step - loss: 0.6495 - accuracy: 0.7758 - val_loss: 0.6891 - val_accuracy: 0.7679\n",
      "Epoch 15/50\n",
      "1563/1563 [==============================] - 112s 72ms/step - loss: 0.6372 - accuracy: 0.7817 - val_loss: 0.7012 - val_accuracy: 0.7601\n",
      "Epoch 16/50\n",
      "1563/1563 [==============================] - 99s 64ms/step - loss: 0.6351 - accuracy: 0.7807 - val_loss: 0.6714 - val_accuracy: 0.7780\n",
      "Epoch 17/50\n",
      "1563/1563 [==============================] - 117s 75ms/step - loss: 0.6211 - accuracy: 0.7865 - val_loss: 0.6567 - val_accuracy: 0.7819\n",
      "Epoch 18/50\n",
      "1563/1563 [==============================] - 111s 71ms/step - loss: 0.6121 - accuracy: 0.7897 - val_loss: 0.6869 - val_accuracy: 0.7666\n",
      "Epoch 19/50\n",
      "1563/1563 [==============================] - 106s 68ms/step - loss: 0.6009 - accuracy: 0.7945 - val_loss: 0.6498 - val_accuracy: 0.7826\n",
      "Epoch 20/50\n",
      "1563/1563 [==============================] - 134s 86ms/step - loss: 0.5979 - accuracy: 0.7950 - val_loss: 0.6564 - val_accuracy: 0.7815\n",
      "Epoch 21/50\n",
      "1563/1563 [==============================] - 119s 76ms/step - loss: 0.5873 - accuracy: 0.7982 - val_loss: 0.6782 - val_accuracy: 0.7761\n",
      "Epoch 22/50\n",
      "1563/1563 [==============================] - 118s 75ms/step - loss: 0.5841 - accuracy: 0.7977 - val_loss: 0.6727 - val_accuracy: 0.7784\n",
      "Epoch 23/50\n",
      "1563/1563 [==============================] - 112s 72ms/step - loss: 0.5808 - accuracy: 0.8009 - val_loss: 0.6937 - val_accuracy: 0.7723\n",
      "Epoch 24/50\n",
      "1563/1563 [==============================] - 127s 81ms/step - loss: 0.5782 - accuracy: 0.8032 - val_loss: 0.6607 - val_accuracy: 0.7839\n",
      "Epoch 25/50\n",
      "1563/1563 [==============================] - 115s 74ms/step - loss: 0.5690 - accuracy: 0.8058 - val_loss: 0.6941 - val_accuracy: 0.7716\n",
      "Epoch 26/50\n",
      "1563/1563 [==============================] - 141s 90ms/step - loss: 0.5683 - accuracy: 0.8074 - val_loss: 0.6588 - val_accuracy: 0.7854\n",
      "Epoch 27/50\n",
      "1563/1563 [==============================] - 136s 87ms/step - loss: 0.5615 - accuracy: 0.8080 - val_loss: 0.6895 - val_accuracy: 0.7781\n",
      "Epoch 28/50\n",
      "1563/1563 [==============================] - 137s 88ms/step - loss: 0.5621 - accuracy: 0.8084 - val_loss: 0.6609 - val_accuracy: 0.7838\n",
      "Epoch 29/50\n",
      "1563/1563 [==============================] - 122s 78ms/step - loss: 0.5547 - accuracy: 0.8101 - val_loss: 0.6710 - val_accuracy: 0.7763\n",
      "Epoch 30/50\n",
      "1563/1563 [==============================] - 119s 76ms/step - loss: 0.5458 - accuracy: 0.8146 - val_loss: 0.7130 - val_accuracy: 0.7663\n",
      "Epoch 31/50\n",
      "1563/1563 [==============================] - 107s 68ms/step - loss: 0.5414 - accuracy: 0.8142 - val_loss: 0.6416 - val_accuracy: 0.7927\n",
      "Epoch 32/50\n",
      "1563/1563 [==============================] - 90s 58ms/step - loss: 0.5426 - accuracy: 0.8156 - val_loss: 0.6860 - val_accuracy: 0.7827\n",
      "Epoch 33/50\n",
      "1563/1563 [==============================] - 93s 60ms/step - loss: 0.5345 - accuracy: 0.8174 - val_loss: 0.6564 - val_accuracy: 0.7859\n",
      "Epoch 34/50\n",
      "1563/1563 [==============================] - 100s 64ms/step - loss: 0.5335 - accuracy: 0.8196 - val_loss: 0.6632 - val_accuracy: 0.7833\n",
      "Epoch 35/50\n",
      "1563/1563 [==============================] - 101s 65ms/step - loss: 0.5354 - accuracy: 0.8176 - val_loss: 0.6500 - val_accuracy: 0.7930\n",
      "Epoch 36/50\n",
      "1563/1563 [==============================] - 109s 69ms/step - loss: 0.5267 - accuracy: 0.8211 - val_loss: 0.6604 - val_accuracy: 0.7970\n",
      "Epoch 37/50\n",
      "1563/1563 [==============================] - 105s 67ms/step - loss: 0.5185 - accuracy: 0.8250 - val_loss: 0.6379 - val_accuracy: 0.7906\n",
      "Epoch 38/50\n",
      "1563/1563 [==============================] - 109s 70ms/step - loss: 0.5248 - accuracy: 0.8209 - val_loss: 0.6494 - val_accuracy: 0.7925\n",
      "Epoch 39/50\n",
      "1563/1563 [==============================] - 112s 72ms/step - loss: 0.5154 - accuracy: 0.8251 - val_loss: 0.6860 - val_accuracy: 0.7867\n",
      "Epoch 40/50\n",
      "1563/1563 [==============================] - 107s 68ms/step - loss: 0.5131 - accuracy: 0.8269 - val_loss: 0.6500 - val_accuracy: 0.7932\n",
      "Epoch 41/50\n",
      "1563/1563 [==============================] - 125s 80ms/step - loss: 0.5114 - accuracy: 0.8258 - val_loss: 0.6603 - val_accuracy: 0.7842\n",
      "Epoch 42/50\n",
      "1563/1563 [==============================] - 132s 84ms/step - loss: 0.5075 - accuracy: 0.8275 - val_loss: 0.6600 - val_accuracy: 0.7882\n",
      "Epoch 43/50\n",
      "1563/1563 [==============================] - 135s 87ms/step - loss: 0.5023 - accuracy: 0.8295 - val_loss: 0.6680 - val_accuracy: 0.7868\n",
      "Epoch 44/50\n",
      "1563/1563 [==============================] - 123s 79ms/step - loss: 0.5096 - accuracy: 0.8277 - val_loss: 0.6550 - val_accuracy: 0.7937\n",
      "Epoch 45/50\n",
      "1563/1563 [==============================] - 111s 71ms/step - loss: 0.5074 - accuracy: 0.8292 - val_loss: 0.6528 - val_accuracy: 0.7927\n",
      "Epoch 46/50\n",
      "1563/1563 [==============================] - 101s 65ms/step - loss: 0.5009 - accuracy: 0.8314 - val_loss: 0.6418 - val_accuracy: 0.7992\n",
      "Epoch 47/50\n",
      "1563/1563 [==============================] - 110s 70ms/step - loss: 0.4993 - accuracy: 0.8321 - val_loss: 0.6392 - val_accuracy: 0.7931\n",
      "Epoch 48/50\n",
      "1563/1563 [==============================] - 97s 62ms/step - loss: 0.5053 - accuracy: 0.8294 - val_loss: 0.6681 - val_accuracy: 0.7874\n",
      "Epoch 49/50\n",
      "1563/1563 [==============================] - 90s 58ms/step - loss: 0.4958 - accuracy: 0.8334 - val_loss: 0.6608 - val_accuracy: 0.7900\n",
      "Epoch 50/50\n",
      "1563/1563 [==============================] - 90s 58ms/step - loss: 0.4943 - accuracy: 0.8339 - val_loss: 0.6508 - val_accuracy: 0.7938\n"
     ]
    }
   ],
   "source": [
    "h7 = model7.fit(x_train, y_train, epochs=50, batch_size=32, validation_data=(x_test,y_test))"
   ]
  },
  {
   "cell_type": "code",
   "execution_count": 117,
   "metadata": {
    "colab": {
     "base_uri": "https://localhost:8080/",
     "height": 282
    },
    "id": "lp9ocM__Kvf7",
    "outputId": "c8041ee6-a4f0-4677-a8f6-4b669fa8a1d2"
   },
   "outputs": [
    {
     "data": {
      "text/plain": [
       "<matplotlib.legend.Legend at 0x7fdc6b83a310>"
      ]
     },
     "execution_count": 117,
     "metadata": {},
     "output_type": "execute_result"
    },
    {
     "data": {
      "image/png": "[encoded data removed]",
      "text/plain": [
       "<Figure size 432x288 with 1 Axes>"
      ]
     },
     "metadata": {
      "needs_background": "light"
     },
     "output_type": "display_data"
    }
   ],
   "source": [
    "plot(h7.history['accuracy'], label=\"Training\")\n",
    "plot(h7.history['val_accuracy'], label=\"Testing\")\n",
    "pyplot.legend()"
   ]
  },
  {
   "cell_type": "code",
   "execution_count": 118,
   "metadata": {
    "colab": {
     "base_uri": "https://localhost:8080/"
    },
    "id": "oO3tyO1QK1NI",
    "outputId": "5d45f9f5-adaf-4da1-9693-c820bff8dbe5"
   },
   "outputs": [
    {
     "name": "stdout",
     "output_type": "stream",
     "text": [
      "Model: \"sequential_77\"\n",
      "_________________________________________________________________\n",
      "Layer (type)                 Output Shape              Param #   \n",
      "=================================================================\n",
      "conv2d_437 (Conv2D)          (None, 32, 32, 32)        896       \n",
      "_________________________________________________________________\n",
      "conv2d_438 (Conv2D)          (None, 32, 32, 32)        9248      \n",
      "_________________________________________________________________\n",
      "max_pooling2d_219 (MaxPoolin (None, 8, 8, 32)          0         \n",
      "_________________________________________________________________\n",
      "dropout_267 (Dropout)        (None, 8, 8, 32)          0         \n",
      "_________________________________________________________________\n",
      "conv2d_439 (Conv2D)          (None, 8, 8, 64)          18496     \n",
      "_________________________________________________________________\n",
      "conv2d_440 (Conv2D)          (None, 8, 8, 64)          36928     \n",
      "_________________________________________________________________\n",
      "max_pooling2d_220 (MaxPoolin (None, 2, 2, 64)          0         \n",
      "_________________________________________________________________\n",
      "dropout_268 (Dropout)        (None, 2, 2, 64)          0         \n",
      "_________________________________________________________________\n",
      "conv2d_441 (Conv2D)          (None, 2, 2, 128)         73856     \n",
      "_________________________________________________________________\n",
      "conv2d_442 (Conv2D)          (None, 2, 2, 128)         147584    \n",
      "_________________________________________________________________\n",
      "max_pooling2d_221 (MaxPoolin (None, 1, 1, 128)         0         \n",
      "_________________________________________________________________\n",
      "dropout_269 (Dropout)        (None, 1, 1, 128)         0         \n",
      "_________________________________________________________________\n",
      "flatten_77 (Flatten)         (None, 128)               0         \n",
      "_________________________________________________________________\n",
      "dense_154 (Dense)            (None, 256)               33024     \n",
      "_________________________________________________________________\n",
      "dropout_270 (Dropout)        (None, 256)               0         \n",
      "_________________________________________________________________\n",
      "dense_155 (Dense)            (None, 10)                2570      \n",
      "=================================================================\n",
      "Total params: 322,602\n",
      "Trainable params: 322,602\n",
      "Non-trainable params: 0\n",
      "_________________________________________________________________\n"
     ]
    }
   ],
   "source": [
    "model8 = tf.keras.models.Sequential([\n",
    "          Conv2D(32, (3, 3), padding='same', activation='relu', input_shape=x_train.shape[1:]),\n",
    "          Conv2D(32, (3, 3), padding='same', activation='relu'),\n",
    "          MaxPooling2D(pool_size=(4, 4)),\n",
    "          Dropout(0.2),\n",
    "          Conv2D(64, (3, 3), padding='same', activation='relu'),\n",
    "          Conv2D(64, (3, 3), padding='same', activation='relu'),\n",
    "          MaxPooling2D(pool_size=(4, 4)),\n",
    "          Dropout(0.2),\n",
    "          Conv2D(128, (3, 3), padding='same', activation='relu'),\n",
    "          Conv2D(128, (3, 3), padding='same', activation='relu'),\n",
    "          MaxPooling2D(pool_size=(2, 2)),\n",
    "          Dropout(0.2),\n",
    "          Flatten(),\n",
    "          Dense(256, activation='relu'),\n",
    "          Dropout(0.2),\n",
    "          Dense(10, activation='softmax')\n",
    "])\n",
    "\n",
    "model8.compile(optimizer='adam',\n",
    "              loss='sparse_categorical_crossentropy',\n",
    "              metrics=['accuracy'])\n",
    "\n",
    "model8.summary()"
   ]
  },
  {
   "cell_type": "code",
   "execution_count": 119,
   "metadata": {
    "colab": {
     "base_uri": "https://localhost:8080/"
    },
    "id": "sIrwG38dLPJz",
    "outputId": "cf7c8f14-38d6-450c-b9f8-5456b71af95f"
   },
   "outputs": [
    {
     "name": "stdout",
     "output_type": "stream",
     "text": [
      "Epoch 1/50\n",
      "1563/1563 [==============================] - 76s 49ms/step - loss: 1.6310 - accuracy: 0.3903 - val_loss: 1.3056 - val_accuracy: 0.5382\n",
      "Epoch 2/50\n",
      "1563/1563 [==============================] - 79s 50ms/step - loss: 1.2369 - accuracy: 0.5560 - val_loss: 1.0607 - val_accuracy: 0.6279\n",
      "Epoch 3/50\n",
      "1563/1563 [==============================] - 81s 52ms/step - loss: 1.0898 - accuracy: 0.6145 - val_loss: 1.0340 - val_accuracy: 0.6364\n",
      "Epoch 4/50\n",
      "1563/1563 [==============================] - 71s 46ms/step - loss: 0.9911 - accuracy: 0.6519 - val_loss: 0.8742 - val_accuracy: 0.6906\n",
      "Epoch 5/50\n",
      "1563/1563 [==============================] - 72s 46ms/step - loss: 0.9281 - accuracy: 0.6747 - val_loss: 0.8762 - val_accuracy: 0.7049\n",
      "Epoch 6/50\n",
      "1563/1563 [==============================] - 73s 47ms/step - loss: 0.8830 - accuracy: 0.6911 - val_loss: 0.8632 - val_accuracy: 0.7012\n",
      "Epoch 7/50\n",
      "1563/1563 [==============================] - 75s 48ms/step - loss: 0.8454 - accuracy: 0.7064 - val_loss: 0.7733 - val_accuracy: 0.7319\n",
      "Epoch 8/50\n",
      "1563/1563 [==============================] - 76s 48ms/step - loss: 0.8087 - accuracy: 0.7213 - val_loss: 0.7586 - val_accuracy: 0.7376\n",
      "Epoch 9/50\n",
      "1563/1563 [==============================] - 75s 48ms/step - loss: 0.7888 - accuracy: 0.7285 - val_loss: 0.7735 - val_accuracy: 0.7334\n",
      "Epoch 10/50\n",
      "1563/1563 [==============================] - 75s 48ms/step - loss: 0.7716 - accuracy: 0.7346 - val_loss: 0.7597 - val_accuracy: 0.7372\n",
      "Epoch 11/50\n",
      "1563/1563 [==============================] - 76s 49ms/step - loss: 0.7477 - accuracy: 0.7412 - val_loss: 0.7276 - val_accuracy: 0.7553\n",
      "Epoch 12/50\n",
      "1563/1563 [==============================] - 77s 49ms/step - loss: 0.7356 - accuracy: 0.7462 - val_loss: 0.7285 - val_accuracy: 0.7445\n",
      "Epoch 13/50\n",
      "1563/1563 [==============================] - 77s 49ms/step - loss: 0.7250 - accuracy: 0.7491 - val_loss: 0.7571 - val_accuracy: 0.7408\n",
      "Epoch 14/50\n",
      "1563/1563 [==============================] - 77s 50ms/step - loss: 0.7157 - accuracy: 0.7526 - val_loss: 0.7078 - val_accuracy: 0.7605\n",
      "Epoch 15/50\n",
      "1563/1563 [==============================] - 78s 50ms/step - loss: 0.7003 - accuracy: 0.7600 - val_loss: 0.7314 - val_accuracy: 0.7461\n",
      "Epoch 16/50\n",
      "1563/1563 [==============================] - 77s 49ms/step - loss: 0.6912 - accuracy: 0.7623 - val_loss: 0.6824 - val_accuracy: 0.7666\n",
      "Epoch 17/50\n",
      "1563/1563 [==============================] - 77s 49ms/step - loss: 0.6800 - accuracy: 0.7659 - val_loss: 0.6930 - val_accuracy: 0.7637\n",
      "Epoch 18/50\n",
      "1563/1563 [==============================] - 78s 50ms/step - loss: 0.6718 - accuracy: 0.7697 - val_loss: 0.7007 - val_accuracy: 0.7661\n",
      "Epoch 19/50\n",
      "1563/1563 [==============================] - 78s 50ms/step - loss: 0.6717 - accuracy: 0.7675 - val_loss: 0.6957 - val_accuracy: 0.7623\n",
      "Epoch 20/50\n",
      "1563/1563 [==============================] - 78s 50ms/step - loss: 0.6566 - accuracy: 0.7752 - val_loss: 0.6897 - val_accuracy: 0.7647\n",
      "Epoch 21/50\n",
      "1563/1563 [==============================] - 77s 50ms/step - loss: 0.6584 - accuracy: 0.7737 - val_loss: 0.6780 - val_accuracy: 0.7718\n",
      "Epoch 22/50\n",
      "1563/1563 [==============================] - 79s 50ms/step - loss: 0.6439 - accuracy: 0.7799 - val_loss: 0.6853 - val_accuracy: 0.7639\n",
      "Epoch 23/50\n",
      "1563/1563 [==============================] - 78s 50ms/step - loss: 0.6436 - accuracy: 0.7785 - val_loss: 0.7210 - val_accuracy: 0.7538\n",
      "Epoch 24/50\n",
      "1563/1563 [==============================] - 76s 49ms/step - loss: 0.6338 - accuracy: 0.7858 - val_loss: 0.6787 - val_accuracy: 0.7700\n",
      "Epoch 25/50\n",
      "1563/1563 [==============================] - 77s 49ms/step - loss: 0.6285 - accuracy: 0.7852 - val_loss: 0.6697 - val_accuracy: 0.7741\n",
      "Epoch 26/50\n",
      "1563/1563 [==============================] - 118s 76ms/step - loss: 0.6325 - accuracy: 0.7847 - val_loss: 0.6952 - val_accuracy: 0.7654\n",
      "Epoch 27/50\n",
      "1563/1563 [==============================] - 117s 75ms/step - loss: 0.6232 - accuracy: 0.7889 - val_loss: 0.6524 - val_accuracy: 0.7805\n",
      "Epoch 28/50\n",
      "1563/1563 [==============================] - 116s 74ms/step - loss: 0.6170 - accuracy: 0.7901 - val_loss: 0.6951 - val_accuracy: 0.7659\n",
      "Epoch 29/50\n",
      "1563/1563 [==============================] - 111s 71ms/step - loss: 0.6182 - accuracy: 0.7891 - val_loss: 0.6550 - val_accuracy: 0.7800\n",
      "Epoch 30/50\n",
      "1563/1563 [==============================] - 113s 73ms/step - loss: 0.6062 - accuracy: 0.7904 - val_loss: 0.6715 - val_accuracy: 0.7782\n",
      "Epoch 31/50\n",
      "1563/1563 [==============================] - 115s 73ms/step - loss: 0.6159 - accuracy: 0.7906 - val_loss: 0.6523 - val_accuracy: 0.7800\n",
      "Epoch 32/50\n",
      "1563/1563 [==============================] - 116s 74ms/step - loss: 0.6049 - accuracy: 0.7947 - val_loss: 0.6647 - val_accuracy: 0.7782\n",
      "Epoch 33/50\n",
      "1563/1563 [==============================] - 5319s 3s/step - loss: 0.5991 - accuracy: 0.7969 - val_loss: 0.6779 - val_accuracy: 0.7679\n",
      "Epoch 34/50\n",
      "1563/1563 [==============================] - 112s 72ms/step - loss: 0.6078 - accuracy: 0.7962 - val_loss: 0.6612 - val_accuracy: 0.7746\n",
      "Epoch 35/50\n",
      "1563/1563 [==============================] - 114s 73ms/step - loss: 0.5980 - accuracy: 0.7979 - val_loss: 0.6641 - val_accuracy: 0.7798\n",
      "Epoch 36/50\n",
      "1563/1563 [==============================] - 112s 72ms/step - loss: 0.5909 - accuracy: 0.7976 - val_loss: 0.6663 - val_accuracy: 0.7757\n",
      "Epoch 37/50\n",
      "1563/1563 [==============================] - 84s 54ms/step - loss: 0.5870 - accuracy: 0.8003 - val_loss: 0.6607 - val_accuracy: 0.7815\n",
      "Epoch 38/50\n",
      "1563/1563 [==============================] - 68s 44ms/step - loss: 0.5908 - accuracy: 0.7991 - val_loss: 0.6629 - val_accuracy: 0.7780\n",
      "Epoch 39/50\n",
      "1563/1563 [==============================] - 65s 42ms/step - loss: 0.5892 - accuracy: 0.8000 - val_loss: 0.6739 - val_accuracy: 0.7759\n",
      "Epoch 40/50\n",
      "1563/1563 [==============================] - 67s 43ms/step - loss: 0.5826 - accuracy: 0.8021 - val_loss: 0.6685 - val_accuracy: 0.7785\n",
      "Epoch 41/50\n",
      "1563/1563 [==============================] - 68s 43ms/step - loss: 0.5904 - accuracy: 0.7995 - val_loss: 0.6538 - val_accuracy: 0.7851\n",
      "Epoch 42/50\n",
      "1563/1563 [==============================] - 67s 43ms/step - loss: 0.5783 - accuracy: 0.8034 - val_loss: 0.6457 - val_accuracy: 0.7867\n",
      "Epoch 43/50\n",
      "1563/1563 [==============================] - 67s 43ms/step - loss: 0.5746 - accuracy: 0.8060 - val_loss: 0.6622 - val_accuracy: 0.7785\n",
      "Epoch 44/50\n",
      "1563/1563 [==============================] - 68s 44ms/step - loss: 0.5705 - accuracy: 0.8067 - val_loss: 0.6805 - val_accuracy: 0.7767\n",
      "Epoch 45/50\n",
      "1563/1563 [==============================] - 67s 43ms/step - loss: 0.5734 - accuracy: 0.8054 - val_loss: 0.6588 - val_accuracy: 0.7840\n",
      "Epoch 46/50\n",
      "1563/1563 [==============================] - 64s 41ms/step - loss: 0.5768 - accuracy: 0.8056 - val_loss: 0.6612 - val_accuracy: 0.7824\n",
      "Epoch 47/50\n",
      "1563/1563 [==============================] - 66s 42ms/step - loss: 0.5652 - accuracy: 0.8072 - val_loss: 0.6841 - val_accuracy: 0.7786\n",
      "Epoch 48/50\n",
      "1563/1563 [==============================] - 67s 43ms/step - loss: 0.5724 - accuracy: 0.8066 - val_loss: 0.6801 - val_accuracy: 0.7783\n",
      "Epoch 49/50\n",
      "1563/1563 [==============================] - 67s 43ms/step - loss: 0.5673 - accuracy: 0.8097 - val_loss: 0.6417 - val_accuracy: 0.7890\n",
      "Epoch 50/50\n",
      "1563/1563 [==============================] - 68s 43ms/step - loss: 0.5584 - accuracy: 0.8118 - val_loss: 0.6637 - val_accuracy: 0.7829\n"
     ]
    }
   ],
   "source": [
    "h8 = model8.fit(x_train, y_train, epochs=50, batch_size=32, validation_data=(x_test,y_test))"
   ]
  },
  {
   "cell_type": "code",
   "execution_count": 120,
   "metadata": {
    "colab": {
     "base_uri": "https://localhost:8080/",
     "height": 282
    },
    "id": "TvUT-bcjLPcc",
    "outputId": "5b3c8c9f-a099-4add-ea30-884e69cfa41c"
   },
   "outputs": [
    {
     "data": {
      "text/plain": [
       "<matplotlib.legend.Legend at 0x7fdc6bb25bb0>"
      ]
     },
     "execution_count": 120,
     "metadata": {},
     "output_type": "execute_result"
    },
    {
     "data": {
      "image/png": "[encoded data removed]",
      "text/plain": [
       "<Figure size 432x288 with 1 Axes>"
      ]
     },
     "metadata": {
      "needs_background": "light"
     },
     "output_type": "display_data"
    }
   ],
   "source": [
    "plot(h8.history['accuracy'], label=\"Training\")\n",
    "plot(h8.history['val_accuracy'], label=\"Testing\")\n",
    "pyplot.legend()"
   ]
  },
  {
   "cell_type": "code",
   "execution_count": 121,
   "metadata": {
    "colab": {
     "base_uri": "https://localhost:8080/",
     "height": 1000
    },
    "id": "iKjPlW6x79d5",
    "outputId": "1d3bd314-95da-411e-8768-2cb9535ea68e"
   },
   "outputs": [
    {
     "data": {
      "image/png": "[encoded data removed]",
      "text/plain": [
       "<Figure size 1440x1440 with 8 Axes>"
      ]
     },
     "metadata": {
      "needs_background": "light"
     },
     "output_type": "display_data"
    }
   ],
   "source": [
    "pyplot.subplot(4,2,1)\n",
    "pyplot.plot(h.history['accuracy'], label=\"Training\")\n",
    "pyplot.plot(h.history['val_accuracy'], label=\"Testing\")\n",
    "pyplot.xlabel(\"Epochs\")\n",
    "pyplot.ylabel(\"Accuracy\")\n",
    "pyplot.title(\"Base Model\")\n",
    "pyplot.legend()\n",
    "pyplot.gcf().set_size_inches(20,20)\n",
    "\n",
    "pyplot.subplot(4,2,2)\n",
    "pyplot.plot(h2.history['accuracy'], label=\"Training\")\n",
    "pyplot.plot(h2.history['val_accuracy'], label=\"Testing\")\n",
    "pyplot.xlabel(\"Epochs\")\n",
    "pyplot.ylabel(\"Accuracy\")\n",
    "pyplot.title(\"Model 2: 1x1 MaxPooling Window\")\n",
    "pyplot.legend()\n",
    "pyplot.gcf().set_size_inches(20,20)\n",
    "\n",
    "pyplot.subplot(4,2,3)\n",
    "pyplot.plot(h3.history['accuracy'], label=\"Training\")\n",
    "pyplot.plot(h3.history['val_accuracy'], label=\"Testing\")\n",
    "pyplot.xlabel(\"Epochs\")\n",
    "pyplot.ylabel(\"Accuracy\")\n",
    "pyplot.title(\"Model 3: 4x4 kernel size\")\n",
    "pyplot.legend()\n",
    "pyplot.gcf().set_size_inches(20,20)\n",
    "\n",
    "pyplot.subplot(4,2,4)\n",
    "pyplot.plot(h4.history['accuracy'], label=\"Training\")\n",
    "pyplot.plot(h4.history['val_accuracy'], label=\"Testing\")\n",
    "pyplot.xlabel(\"Epochs\")\n",
    "pyplot.ylabel(\"Accuracy\")\n",
    "pyplot.title(\"Model 4: 2x2 kernel size\")\n",
    "pyplot.legend()\n",
    "pyplot.gcf().set_size_inches(20,20)\n",
    "\n",
    "pyplot.subplot(4,2,5)\n",
    "pyplot.plot(h5.history['accuracy'], label=\"Training\")\n",
    "pyplot.plot(h5.history['val_accuracy'], label=\"Testing\")\n",
    "pyplot.xlabel(\"Epochs\")\n",
    "pyplot.ylabel(\"Accuracy\")\n",
    "pyplot.title(\"Model 5: Stride of 2x2 in subsequent Conv2D layers\")\n",
    "pyplot.legend()\n",
    "pyplot.gcf().set_size_inches(20,20)\n",
    "\n",
    "pyplot.subplot(4,2,6)\n",
    "pyplot.plot(h6.history['accuracy'], label=\"Training\")\n",
    "pyplot.plot(h6.history['val_accuracy'], label=\"Testing\")\n",
    "pyplot.xlabel(\"Epochs\")\n",
    "pyplot.ylabel(\"Accuracy\")\n",
    "pyplot.title(\"Model 6: Stride of 4x4 and 2x2 in each block\")\n",
    "pyplot.legend()\n",
    "pyplot.gcf().set_size_inches(20,20)\n",
    "\n",
    "pyplot.subplot(4,2,7)\n",
    "pyplot.plot(h7.history['accuracy'], label=\"Training\")\n",
    "pyplot.plot(h7.history['val_accuracy'], label=\"Testing\")\n",
    "pyplot.xlabel(\"Epochs\")\n",
    "pyplot.ylabel(\"Accuracy\")\n",
    "pyplot.title(\"Model 7: MaxPooling window of 3x3\")\n",
    "pyplot.legend()\n",
    "pyplot.gcf().set_size_inches(20,20)\n",
    "\n",
    "pyplot.subplot(4,2,8)\n",
    "pyplot.plot(h8.history['accuracy'], label=\"Training\")\n",
    "pyplot.plot(h8.history['val_accuracy'], label=\"Testing\")\n",
    "pyplot.xlabel(\"Epochs\")\n",
    "pyplot.ylabel(\"Accuracy\")\n",
    "pyplot.title(\"Model 8: MaxPooling window of 4x4\")\n",
    "pyplot.legend()\n",
    "pyplot.gcf().set_size_inches(20,20)"
   ]
  },
  {
   "cell_type": "markdown",
   "metadata": {
    "id": "dgL0sF7aBYtp"
   },
   "source": [
    "From the graphs show above, having a low MaxPooling2D windows improves overall training accuracy, but decreases validation accuracy. For an increased window size, the opposite is true, with a lower accuracy and higher validation accuracy.\n",
    "\n",
    "Having a large kernel window does improve the validation accuracy and not too much of a difference in terms of testing accuracy.\n",
    "\n",
    "Using any amount of stride apart from the default of 1x1 results in much lower training accuracy and the validation accuracy converges to that of the training.\n",
    "\n"
   ]
  }
 ],
 "metadata": {
  "accelerator": "GPU",
  "colab": {
   "collapsed_sections": [],
   "name": "CNN Tests2.ipynb",
   "provenance": []
  },
  "kernelspec": {
   "display_name": "Python 3",
   "language": "python",
   "name": "python3"
  },
  "language_info": {
   "codemirror_mode": {
    "name": "ipython",
    "version": 3
   },
   "file_extension": ".py",
   "mimetype": "text/x-python",
   "name": "python",
   "nbconvert_exporter": "python",
   "pygments_lexer": "ipython3",
   "version": "3.8.3"
  }
 },
 "nbformat": 4,
 "nbformat_minor": 1
}
