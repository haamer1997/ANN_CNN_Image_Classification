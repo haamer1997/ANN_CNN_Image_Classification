{
  "nbformat": 4,
  "nbformat_minor": 0,
  "metadata": {
    "colab": {
      "name": "CNN Tests2.ipynb",
      "provenance": [],
      "collapsed_sections": []
    },
    "kernelspec": {
      "name": "python3",
      "display_name": "Python 3"
    },
    "accelerator": "GPU"
  },
  "cells": [
    {
      "cell_type": "code",
      "metadata": {
        "id": "_x7gl8IW5glR",
        "colab": {
          "base_uri": "https://localhost:8080/"
        },
        "outputId": "5958c1c2-1009-4025-eb5a-5c8bb69cd79e"
      },
      "source": [
        "%pylab inline"
      ],
      "execution_count": 1,
      "outputs": [
        {
          "output_type": "stream",
          "text": [
            "Populating the interactive namespace from numpy and matplotlib\n"
          ],
          "name": "stdout"
        }
      ]
    },
    {
      "cell_type": "code",
      "metadata": {
        "id": "XjCLjJ1C5ljo"
      },
      "source": [
        "import tensorflow as tf\n",
        "from tensorflow.keras import Model\n",
        "from tensorflow.keras.layers import Conv2D, MaxPooling2D, Dropout, Flatten, Dense"
      ],
      "execution_count": 2,
      "outputs": []
    },
    {
      "cell_type": "code",
      "metadata": {
        "id": "sw94OUH35xBV",
        "colab": {
          "base_uri": "https://localhost:8080/"
        },
        "outputId": "7ae9cc2d-6cea-4a38-ec3f-b419e2bb3d2b"
      },
      "source": [
        "gpus = tf.config.experimental.list_physical_devices('GPU')\n",
        "if gpus:\n",
        "  try:\n",
        "    for gpu in gpus:\n",
        "      tf.config.experimental.set_memory_growth(gpu, True)\n",
        "    logical_gpus = tf.config.experimental.list_logical_devices('GPU')\n",
        "    print(len(gpus), \"Physical GPUs,\", len(logical_gpus), \"Logical GPUs\")\n",
        "  except RuntimeError as e:\n",
        "    print(e)"
      ],
      "execution_count": 3,
      "outputs": [
        {
          "output_type": "stream",
          "text": [
            "1 Physical GPUs, 1 Logical GPUs\n"
          ],
          "name": "stdout"
        }
      ]
    },
    {
      "cell_type": "markdown",
      "metadata": {
        "id": "uNH3umSK1xi7"
      },
      "source": [
        "Get GPU information to know which GPU is being used in training and testing"
      ]
    },
    {
      "cell_type": "code",
      "metadata": {
        "id": "s3GGvMnU52B5",
        "colab": {
          "base_uri": "https://localhost:8080/"
        },
        "outputId": "a653e639-343a-483c-95b7-3bbe4ce4c6be"
      },
      "source": [
        "!nvidia-smi"
      ],
      "execution_count": 4,
      "outputs": [
        {
          "output_type": "stream",
          "text": [
            "Sun Nov 22 20:51:50 2020       \n",
            "+-----------------------------------------------------------------------------+\n",
            "| NVIDIA-SMI 455.38       Driver Version: 418.67       CUDA Version: 10.1     |\n",
            "|-------------------------------+----------------------+----------------------+\n",
            "| GPU  Name        Persistence-M| Bus-Id        Disp.A | Volatile Uncorr. ECC |\n",
            "| Fan  Temp  Perf  Pwr:Usage/Cap|         Memory-Usage | GPU-Util  Compute M. |\n",
            "|                               |                      |               MIG M. |\n",
            "|===============================+======================+======================|\n",
            "|   0  Tesla T4            Off  | 00000000:00:04.0 Off |                    0 |\n",
            "| N/A   55C    P0    29W /  70W |    227MiB / 15079MiB |      2%      Default |\n",
            "|                               |                      |                 ERR! |\n",
            "+-------------------------------+----------------------+----------------------+\n",
            "                                                                               \n",
            "+-----------------------------------------------------------------------------+\n",
            "| Processes:                                                                  |\n",
            "|  GPU   GI   CI        PID   Type   Process name                  GPU Memory |\n",
            "|        ID   ID                                                   Usage      |\n",
            "|=============================================================================|\n",
            "|  No running processes found                                                 |\n",
            "+-----------------------------------------------------------------------------+\n"
          ],
          "name": "stdout"
        }
      ]
    },
    {
      "cell_type": "code",
      "metadata": {
        "id": "ot8zdIrQ58bl",
        "colab": {
          "base_uri": "https://localhost:8080/"
        },
        "outputId": "dc26f167-cd25-4b5e-e61c-1603032f68b5"
      },
      "source": [
        "cifar10 = tf.keras.datasets.cifar10\n",
        "\n",
        "(x_train, y_train), (x_test, y_test) = cifar10.load_data()\n",
        "x_train, x_test = x_train / 255.0, x_test / 255.0"
      ],
      "execution_count": 5,
      "outputs": [
        {
          "output_type": "stream",
          "text": [
            "Downloading data from https://www.cs.toronto.edu/~kriz/cifar-10-python.tar.gz\n",
            "170500096/170498071 [==============================] - 2s 0us/step\n"
          ],
          "name": "stdout"
        }
      ]
    },
    {
      "cell_type": "markdown",
      "metadata": {
        "id": "Jyt1SIUB17Bm"
      },
      "source": [
        "Base model with the following structure:\n",
        "\n",
        "For each Conv2D layer, the default stride value of (1, 1) is used unless otherwise specified\n",
        "\n",
        "*   Conv2D layer with 32 neurons, and a kernel size of (3, 3) and padding to keep shape of input\n",
        "*   Conv2D layer with 32 neurons, and a kernel size of (3, 3) and padding to keep shape of input\n",
        "*   MaxPooling layer with a window size of (2, 2) that computes the max value within the window\n",
        "*   Dropout layer that drops 0.2 (20%) of all values\n",
        "*   Conv2D layer with 64 neurons, and a kernel size of (3, 3) and padding to keep shape of input\n",
        "*   Conv2D layer with 64 neurons, and a kernel size of (3, 3) and padding to keep shape of input\n",
        "*   MaxPooling layer with a window size of (2, 2) that computes the max value within the window\n",
        "*   Dropout layer that drops 0.2 (20%) of all values\n",
        "*   Flatten layer\n",
        "*   Dense fully connected layer\n",
        "*   Dropout layer \n",
        "*   Dense fully connected layer of outputs of the 10 image classes"
      ]
    },
    {
      "cell_type": "markdown",
      "metadata": {
        "id": "3ruH6WI03sD3"
      },
      "source": [
        "All models that are used use the same amount of neurons as a relatively high accuracy is acquired during training"
      ]
    },
    {
      "cell_type": "code",
      "metadata": {
        "id": "IMNPiAGT6Cxa",
        "colab": {
          "base_uri": "https://localhost:8080/"
        },
        "outputId": "b81baafe-2313-439e-a111-25b0e540fb47"
      },
      "source": [
        "model = tf.keras.models.Sequential([\n",
        "          Conv2D(32, (3, 3), padding='same', activation='relu', input_shape=x_train.shape[1:]),\n",
        "          Conv2D(32, (3, 3), padding='same', activation='relu'),\n",
        "          MaxPooling2D(pool_size=(2, 2)),\n",
        "          Dropout(0.2),\n",
        "          Conv2D(64, (3, 3), padding='same', activation='relu'),\n",
        "          Conv2D(64, (3, 3), padding='same', activation='relu'),\n",
        "          MaxPooling2D(pool_size=(2, 2)),\n",
        "          Dropout(0.2),\n",
        "          Flatten(),\n",
        "          Dense(256, activation='relu'),\n",
        "          Dropout(0.2),\n",
        "          Dense(10, activation='softmax')\n",
        "])\n",
        "\n",
        "model.compile(optimizer='adam',\n",
        "              loss='sparse_categorical_crossentropy',\n",
        "              metrics=['accuracy'])\n",
        "\n",
        "model.summary()"
      ],
      "execution_count": 6,
      "outputs": [
        {
          "output_type": "stream",
          "text": [
            "Model: \"sequential\"\n",
            "_________________________________________________________________\n",
            "Layer (type)                 Output Shape              Param #   \n",
            "=================================================================\n",
            "conv2d (Conv2D)              (None, 32, 32, 32)        896       \n",
            "_________________________________________________________________\n",
            "conv2d_1 (Conv2D)            (None, 32, 32, 32)        9248      \n",
            "_________________________________________________________________\n",
            "max_pooling2d (MaxPooling2D) (None, 16, 16, 32)        0         \n",
            "_________________________________________________________________\n",
            "dropout (Dropout)            (None, 16, 16, 32)        0         \n",
            "_________________________________________________________________\n",
            "conv2d_2 (Conv2D)            (None, 16, 16, 64)        18496     \n",
            "_________________________________________________________________\n",
            "conv2d_3 (Conv2D)            (None, 16, 16, 64)        36928     \n",
            "_________________________________________________________________\n",
            "max_pooling2d_1 (MaxPooling2 (None, 8, 8, 64)          0         \n",
            "_________________________________________________________________\n",
            "dropout_1 (Dropout)          (None, 8, 8, 64)          0         \n",
            "_________________________________________________________________\n",
            "flatten (Flatten)            (None, 4096)              0         \n",
            "_________________________________________________________________\n",
            "dense (Dense)                (None, 256)               1048832   \n",
            "_________________________________________________________________\n",
            "dropout_2 (Dropout)          (None, 256)               0         \n",
            "_________________________________________________________________\n",
            "dense_1 (Dense)              (None, 10)                2570      \n",
            "=================================================================\n",
            "Total params: 1,116,970\n",
            "Trainable params: 1,116,970\n",
            "Non-trainable params: 0\n",
            "_________________________________________________________________\n"
          ],
          "name": "stdout"
        }
      ]
    },
    {
      "cell_type": "code",
      "metadata": {
        "id": "gr7ATXOr6H8e",
        "colab": {
          "base_uri": "https://localhost:8080/"
        },
        "outputId": "ebbc27c8-e35b-4ef3-f25b-90cb6d6dbb31"
      },
      "source": [
        "h = model.fit(x_train, y_train, epochs=50, batch_size=32, validation_data=(x_test,y_test))"
      ],
      "execution_count": 8,
      "outputs": [
        {
          "output_type": "stream",
          "text": [
            "Epoch 1/50\n",
            "1563/1563 [==============================] - 8s 5ms/step - loss: 0.5382 - accuracy: 0.8098 - val_loss: 0.7370 - val_accuracy: 0.7600\n",
            "Epoch 2/50\n",
            "1563/1563 [==============================] - 7s 5ms/step - loss: 0.4955 - accuracy: 0.8241 - val_loss: 0.7064 - val_accuracy: 0.7653\n",
            "Epoch 3/50\n",
            "1563/1563 [==============================] - 7s 5ms/step - loss: 0.4641 - accuracy: 0.8357 - val_loss: 0.7581 - val_accuracy: 0.7632\n",
            "Epoch 4/50\n",
            "1563/1563 [==============================] - 7s 5ms/step - loss: 0.4370 - accuracy: 0.8457 - val_loss: 0.7599 - val_accuracy: 0.7590\n",
            "Epoch 5/50\n",
            "1563/1563 [==============================] - 7s 5ms/step - loss: 0.4063 - accuracy: 0.8555 - val_loss: 0.7303 - val_accuracy: 0.7673\n",
            "Epoch 6/50\n",
            "1563/1563 [==============================] - 7s 5ms/step - loss: 0.3804 - accuracy: 0.8633 - val_loss: 0.7390 - val_accuracy: 0.7712\n",
            "Epoch 7/50\n",
            "1563/1563 [==============================] - 7s 5ms/step - loss: 0.3665 - accuracy: 0.8693 - val_loss: 0.7651 - val_accuracy: 0.7644\n",
            "Epoch 8/50\n",
            "1563/1563 [==============================] - 7s 5ms/step - loss: 0.3481 - accuracy: 0.8766 - val_loss: 0.7836 - val_accuracy: 0.7740\n",
            "Epoch 9/50\n",
            "1563/1563 [==============================] - 7s 5ms/step - loss: 0.3347 - accuracy: 0.8807 - val_loss: 0.8139 - val_accuracy: 0.7706\n",
            "Epoch 10/50\n",
            "1563/1563 [==============================] - 8s 5ms/step - loss: 0.3200 - accuracy: 0.8861 - val_loss: 0.7594 - val_accuracy: 0.7722\n",
            "Epoch 11/50\n",
            "1563/1563 [==============================] - 8s 5ms/step - loss: 0.3075 - accuracy: 0.8918 - val_loss: 0.8523 - val_accuracy: 0.7678\n",
            "Epoch 12/50\n",
            "1563/1563 [==============================] - 8s 5ms/step - loss: 0.3044 - accuracy: 0.8942 - val_loss: 0.8134 - val_accuracy: 0.7741\n",
            "Epoch 13/50\n",
            "1563/1563 [==============================] - 7s 5ms/step - loss: 0.2908 - accuracy: 0.8993 - val_loss: 0.8506 - val_accuracy: 0.7720\n",
            "Epoch 14/50\n",
            "1563/1563 [==============================] - 7s 5ms/step - loss: 0.2826 - accuracy: 0.9003 - val_loss: 0.8382 - val_accuracy: 0.7703\n",
            "Epoch 15/50\n",
            "1563/1563 [==============================] - 7s 5ms/step - loss: 0.2753 - accuracy: 0.9023 - val_loss: 0.8982 - val_accuracy: 0.7612\n",
            "Epoch 16/50\n",
            "1563/1563 [==============================] - 7s 5ms/step - loss: 0.2680 - accuracy: 0.9047 - val_loss: 0.8293 - val_accuracy: 0.7760\n",
            "Epoch 17/50\n",
            "1563/1563 [==============================] - 7s 5ms/step - loss: 0.2649 - accuracy: 0.9087 - val_loss: 0.8272 - val_accuracy: 0.7720\n",
            "Epoch 18/50\n",
            "1563/1563 [==============================] - 7s 5ms/step - loss: 0.2575 - accuracy: 0.9108 - val_loss: 0.8727 - val_accuracy: 0.7736\n",
            "Epoch 19/50\n",
            "1563/1563 [==============================] - 7s 5ms/step - loss: 0.2474 - accuracy: 0.9129 - val_loss: 0.9217 - val_accuracy: 0.7627\n",
            "Epoch 20/50\n",
            "1563/1563 [==============================] - 7s 5ms/step - loss: 0.2505 - accuracy: 0.9128 - val_loss: 0.9144 - val_accuracy: 0.7671\n",
            "Epoch 21/50\n",
            "1563/1563 [==============================] - 7s 5ms/step - loss: 0.2437 - accuracy: 0.9164 - val_loss: 0.8468 - val_accuracy: 0.7710\n",
            "Epoch 22/50\n",
            "1563/1563 [==============================] - 7s 5ms/step - loss: 0.2358 - accuracy: 0.9185 - val_loss: 0.9202 - val_accuracy: 0.7666\n",
            "Epoch 23/50\n",
            "1563/1563 [==============================] - 7s 5ms/step - loss: 0.2277 - accuracy: 0.9214 - val_loss: 0.9715 - val_accuracy: 0.7642\n",
            "Epoch 24/50\n",
            "1563/1563 [==============================] - 7s 5ms/step - loss: 0.2299 - accuracy: 0.9206 - val_loss: 0.8954 - val_accuracy: 0.7679\n",
            "Epoch 25/50\n",
            "1563/1563 [==============================] - 7s 5ms/step - loss: 0.2199 - accuracy: 0.9238 - val_loss: 0.9294 - val_accuracy: 0.7754\n",
            "Epoch 26/50\n",
            "1563/1563 [==============================] - 7s 5ms/step - loss: 0.2245 - accuracy: 0.9230 - val_loss: 0.9703 - val_accuracy: 0.7698\n",
            "Epoch 27/50\n",
            "1563/1563 [==============================] - 7s 5ms/step - loss: 0.2168 - accuracy: 0.9261 - val_loss: 0.9124 - val_accuracy: 0.7757\n",
            "Epoch 28/50\n",
            "1563/1563 [==============================] - 7s 5ms/step - loss: 0.2163 - accuracy: 0.9254 - val_loss: 0.9523 - val_accuracy: 0.7690\n",
            "Epoch 29/50\n",
            "1563/1563 [==============================] - 7s 5ms/step - loss: 0.2196 - accuracy: 0.9256 - val_loss: 0.9643 - val_accuracy: 0.7667\n",
            "Epoch 30/50\n",
            "1563/1563 [==============================] - 7s 5ms/step - loss: 0.2081 - accuracy: 0.9283 - val_loss: 0.9574 - val_accuracy: 0.7740\n",
            "Epoch 31/50\n",
            "1563/1563 [==============================] - 7s 5ms/step - loss: 0.2086 - accuracy: 0.9300 - val_loss: 0.9559 - val_accuracy: 0.7714\n",
            "Epoch 32/50\n",
            "1563/1563 [==============================] - 7s 5ms/step - loss: 0.2040 - accuracy: 0.9293 - val_loss: 1.0185 - val_accuracy: 0.7759\n",
            "Epoch 33/50\n",
            "1563/1563 [==============================] - 7s 5ms/step - loss: 0.2015 - accuracy: 0.9324 - val_loss: 1.0054 - val_accuracy: 0.7725\n",
            "Epoch 34/50\n",
            "1563/1563 [==============================] - 7s 5ms/step - loss: 0.2054 - accuracy: 0.9299 - val_loss: 0.9631 - val_accuracy: 0.7722\n",
            "Epoch 35/50\n",
            "1563/1563 [==============================] - 7s 5ms/step - loss: 0.1926 - accuracy: 0.9343 - val_loss: 1.0282 - val_accuracy: 0.7732\n",
            "Epoch 36/50\n",
            "1563/1563 [==============================] - 7s 5ms/step - loss: 0.2025 - accuracy: 0.9321 - val_loss: 0.9584 - val_accuracy: 0.7760\n",
            "Epoch 37/50\n",
            "1563/1563 [==============================] - 7s 5ms/step - loss: 0.1900 - accuracy: 0.9360 - val_loss: 1.0125 - val_accuracy: 0.7740\n",
            "Epoch 38/50\n",
            "1563/1563 [==============================] - 7s 5ms/step - loss: 0.2016 - accuracy: 0.9321 - val_loss: 1.0084 - val_accuracy: 0.7608\n",
            "Epoch 39/50\n",
            "1563/1563 [==============================] - 7s 5ms/step - loss: 0.1919 - accuracy: 0.9358 - val_loss: 1.0060 - val_accuracy: 0.7758\n",
            "Epoch 40/50\n",
            "1563/1563 [==============================] - 7s 5ms/step - loss: 0.1810 - accuracy: 0.9388 - val_loss: 1.0719 - val_accuracy: 0.7737\n",
            "Epoch 41/50\n",
            "1563/1563 [==============================] - 7s 5ms/step - loss: 0.1898 - accuracy: 0.9366 - val_loss: 1.0008 - val_accuracy: 0.7710\n",
            "Epoch 42/50\n",
            "1563/1563 [==============================] - 7s 5ms/step - loss: 0.1853 - accuracy: 0.9379 - val_loss: 0.9964 - val_accuracy: 0.7710\n",
            "Epoch 43/50\n",
            "1563/1563 [==============================] - 7s 5ms/step - loss: 0.1835 - accuracy: 0.9394 - val_loss: 1.0280 - val_accuracy: 0.7723\n",
            "Epoch 44/50\n",
            "1563/1563 [==============================] - 7s 5ms/step - loss: 0.1898 - accuracy: 0.9354 - val_loss: 0.9804 - val_accuracy: 0.7717\n",
            "Epoch 45/50\n",
            "1563/1563 [==============================] - 7s 5ms/step - loss: 0.1860 - accuracy: 0.9389 - val_loss: 1.0594 - val_accuracy: 0.7680\n",
            "Epoch 46/50\n",
            "1563/1563 [==============================] - 7s 5ms/step - loss: 0.1849 - accuracy: 0.9379 - val_loss: 1.0217 - val_accuracy: 0.7700\n",
            "Epoch 47/50\n",
            "1563/1563 [==============================] - 7s 5ms/step - loss: 0.1826 - accuracy: 0.9402 - val_loss: 1.0461 - val_accuracy: 0.7726\n",
            "Epoch 48/50\n",
            "1563/1563 [==============================] - 7s 5ms/step - loss: 0.1791 - accuracy: 0.9401 - val_loss: 1.0659 - val_accuracy: 0.7730\n",
            "Epoch 49/50\n",
            "1563/1563 [==============================] - 7s 5ms/step - loss: 0.1721 - accuracy: 0.9430 - val_loss: 1.0428 - val_accuracy: 0.7712\n",
            "Epoch 50/50\n",
            "1563/1563 [==============================] - 7s 5ms/step - loss: 0.1804 - accuracy: 0.9400 - val_loss: 1.0626 - val_accuracy: 0.7717\n"
          ],
          "name": "stdout"
        }
      ]
    },
    {
      "cell_type": "code",
      "metadata": {
        "id": "awxIEsP26Nxr",
        "colab": {
          "base_uri": "https://localhost:8080/",
          "height": 284
        },
        "outputId": "54bb35a7-404e-409d-baf7-77bd9b020a92"
      },
      "source": [
        "plot(h.history['accuracy'], label=\"Training\")\n",
        "plot(h.history['val_accuracy'], label=\"Testing\")\n",
        "pyplot.legend()"
      ],
      "execution_count": 33,
      "outputs": [
        {
          "output_type": "execute_result",
          "data": {
            "text/plain": [
              "<matplotlib.legend.Legend at 0x7fc026b84780>"
            ]
          },
          "metadata": {
            "tags": []
          },
          "execution_count": 33
        },
        {
          "output_type": "display_data",
          "data": {
            "image/png": "[encoded data removed]",
            "text/plain": [
              "<Figure size 432x288 with 1 Axes>"
            ]
          },
          "metadata": {
            "tags": [],
            "needs_background": "light"
          }
        }
      ]
    },
    {
      "cell_type": "markdown",
      "metadata": {
        "id": "5eJIkJEx4lbJ"
      },
      "source": [
        "CNN with decreased MaxPooling window to 1x1"
      ]
    },
    {
      "cell_type": "code",
      "metadata": {
        "id": "X8GSvD7m6SPb",
        "colab": {
          "base_uri": "https://localhost:8080/"
        },
        "outputId": "3ee5e9bd-b456-462d-dc39-d78dc425d056"
      },
      "source": [
        "model2 = tf.keras.models.Sequential([\n",
        "          Conv2D(32, (3, 3), padding='same', activation='relu', input_shape=x_train.shape[1:]),\n",
        "          Conv2D(32, (3, 3), padding='same', activation='relu'),\n",
        "          MaxPooling2D(pool_size=(1, 1)),\n",
        "          Dropout(0.2),\n",
        "          Conv2D(64, (3, 3), padding='same', activation='relu'),\n",
        "          Conv2D(64, (3, 3), padding='same', activation='relu'),\n",
        "          MaxPooling2D(pool_size=(1, 1)),\n",
        "          Dropout(0.2),\n",
        "          Flatten(),\n",
        "          Dense(256, activation='relu'),\n",
        "          Dropout(0.2),\n",
        "          Dense(10, activation='softmax')\n",
        "])\n",
        "\n",
        "model2.compile(optimizer='adam',\n",
        "              loss='sparse_categorical_crossentropy',\n",
        "              metrics=['accuracy'])\n",
        "\n",
        "model2.summary()"
      ],
      "execution_count": 10,
      "outputs": [
        {
          "output_type": "stream",
          "text": [
            "Model: \"sequential_1\"\n",
            "_________________________________________________________________\n",
            "Layer (type)                 Output Shape              Param #   \n",
            "=================================================================\n",
            "conv2d_4 (Conv2D)            (None, 32, 32, 32)        896       \n",
            "_________________________________________________________________\n",
            "conv2d_5 (Conv2D)            (None, 32, 32, 32)        9248      \n",
            "_________________________________________________________________\n",
            "max_pooling2d_2 (MaxPooling2 (None, 32, 32, 32)        0         \n",
            "_________________________________________________________________\n",
            "dropout_3 (Dropout)          (None, 32, 32, 32)        0         \n",
            "_________________________________________________________________\n",
            "conv2d_6 (Conv2D)            (None, 32, 32, 64)        18496     \n",
            "_________________________________________________________________\n",
            "conv2d_7 (Conv2D)            (None, 32, 32, 64)        36928     \n",
            "_________________________________________________________________\n",
            "max_pooling2d_3 (MaxPooling2 (None, 32, 32, 64)        0         \n",
            "_________________________________________________________________\n",
            "dropout_4 (Dropout)          (None, 32, 32, 64)        0         \n",
            "_________________________________________________________________\n",
            "flatten_1 (Flatten)          (None, 65536)             0         \n",
            "_________________________________________________________________\n",
            "dense_2 (Dense)              (None, 256)               16777472  \n",
            "_________________________________________________________________\n",
            "dropout_5 (Dropout)          (None, 256)               0         \n",
            "_________________________________________________________________\n",
            "dense_3 (Dense)              (None, 10)                2570      \n",
            "=================================================================\n",
            "Total params: 16,845,610\n",
            "Trainable params: 16,845,610\n",
            "Non-trainable params: 0\n",
            "_________________________________________________________________\n"
          ],
          "name": "stdout"
        }
      ]
    },
    {
      "cell_type": "code",
      "metadata": {
        "id": "Pa3mVFEJ6Xlk",
        "colab": {
          "base_uri": "https://localhost:8080/"
        },
        "outputId": "384cd1e4-9a28-4e9a-871a-9f401e258253"
      },
      "source": [
        "h2 = model2.fit(x_train, y_train, epochs=50, batch_size=32, validation_data=(x_test,y_test))"
      ],
      "execution_count": 11,
      "outputs": [
        {
          "output_type": "stream",
          "text": [
            "Epoch 1/50\n",
            "1563/1563 [==============================] - 18s 12ms/step - loss: 1.5363 - accuracy: 0.4439 - val_loss: 1.1964 - val_accuracy: 0.5738\n",
            "Epoch 2/50\n",
            "1563/1563 [==============================] - 18s 12ms/step - loss: 1.1428 - accuracy: 0.5939 - val_loss: 1.0374 - val_accuracy: 0.6278\n",
            "Epoch 3/50\n",
            "1563/1563 [==============================] - 18s 11ms/step - loss: 0.9449 - accuracy: 0.6636 - val_loss: 0.9867 - val_accuracy: 0.6532\n",
            "Epoch 4/50\n",
            "1563/1563 [==============================] - 18s 12ms/step - loss: 0.7785 - accuracy: 0.7221 - val_loss: 0.9656 - val_accuracy: 0.6716\n",
            "Epoch 5/50\n",
            "1563/1563 [==============================] - 18s 11ms/step - loss: 0.6282 - accuracy: 0.7764 - val_loss: 0.9471 - val_accuracy: 0.6768\n",
            "Epoch 6/50\n",
            "1563/1563 [==============================] - 18s 11ms/step - loss: 0.4952 - accuracy: 0.8240 - val_loss: 1.0806 - val_accuracy: 0.6856\n",
            "Epoch 7/50\n",
            "1563/1563 [==============================] - 18s 12ms/step - loss: 0.3987 - accuracy: 0.8578 - val_loss: 1.2629 - val_accuracy: 0.6769\n",
            "Epoch 8/50\n",
            "1563/1563 [==============================] - 18s 11ms/step - loss: 0.3273 - accuracy: 0.8829 - val_loss: 1.2429 - val_accuracy: 0.6683\n",
            "Epoch 9/50\n",
            "1563/1563 [==============================] - 18s 12ms/step - loss: 0.2838 - accuracy: 0.9001 - val_loss: 1.4163 - val_accuracy: 0.6752\n",
            "Epoch 10/50\n",
            "1563/1563 [==============================] - 18s 11ms/step - loss: 0.2510 - accuracy: 0.9121 - val_loss: 1.4247 - val_accuracy: 0.6749\n",
            "Epoch 11/50\n",
            "1563/1563 [==============================] - 18s 12ms/step - loss: 0.2276 - accuracy: 0.9199 - val_loss: 1.4839 - val_accuracy: 0.6683\n",
            "Epoch 12/50\n",
            "1563/1563 [==============================] - 18s 11ms/step - loss: 0.2053 - accuracy: 0.9279 - val_loss: 1.5122 - val_accuracy: 0.6734\n",
            "Epoch 13/50\n",
            "1563/1563 [==============================] - 18s 11ms/step - loss: 0.1983 - accuracy: 0.9313 - val_loss: 1.5478 - val_accuracy: 0.6762\n",
            "Epoch 14/50\n",
            "1563/1563 [==============================] - 18s 11ms/step - loss: 0.1765 - accuracy: 0.9398 - val_loss: 1.8083 - val_accuracy: 0.6717\n",
            "Epoch 15/50\n",
            "1563/1563 [==============================] - 18s 11ms/step - loss: 0.1719 - accuracy: 0.9415 - val_loss: 1.8780 - val_accuracy: 0.6810\n",
            "Epoch 16/50\n",
            "1563/1563 [==============================] - 18s 11ms/step - loss: 0.1612 - accuracy: 0.9462 - val_loss: 1.7032 - val_accuracy: 0.6717\n",
            "Epoch 17/50\n",
            "1563/1563 [==============================] - 18s 11ms/step - loss: 0.1573 - accuracy: 0.9473 - val_loss: 1.7282 - val_accuracy: 0.6771\n",
            "Epoch 18/50\n",
            "1563/1563 [==============================] - 18s 12ms/step - loss: 0.1565 - accuracy: 0.9479 - val_loss: 1.8850 - val_accuracy: 0.6724\n",
            "Epoch 19/50\n",
            "1563/1563 [==============================] - 18s 12ms/step - loss: 0.1462 - accuracy: 0.9514 - val_loss: 1.8762 - val_accuracy: 0.6688\n",
            "Epoch 20/50\n",
            "1563/1563 [==============================] - 18s 12ms/step - loss: 0.1375 - accuracy: 0.9557 - val_loss: 1.9941 - val_accuracy: 0.6798\n",
            "Epoch 21/50\n",
            "1563/1563 [==============================] - 18s 11ms/step - loss: 0.1410 - accuracy: 0.9525 - val_loss: 2.1021 - val_accuracy: 0.6792\n",
            "Epoch 22/50\n",
            "1563/1563 [==============================] - 18s 11ms/step - loss: 0.1319 - accuracy: 0.9560 - val_loss: 2.0240 - val_accuracy: 0.6824\n",
            "Epoch 23/50\n",
            "1563/1563 [==============================] - 18s 12ms/step - loss: 0.1292 - accuracy: 0.9584 - val_loss: 2.0733 - val_accuracy: 0.6716\n",
            "Epoch 24/50\n",
            "1563/1563 [==============================] - 18s 11ms/step - loss: 0.1262 - accuracy: 0.9587 - val_loss: 2.0708 - val_accuracy: 0.6719\n",
            "Epoch 25/50\n",
            "1563/1563 [==============================] - 18s 12ms/step - loss: 0.1256 - accuracy: 0.9593 - val_loss: 2.1151 - val_accuracy: 0.6733\n",
            "Epoch 26/50\n",
            "1563/1563 [==============================] - 18s 12ms/step - loss: 0.1202 - accuracy: 0.9605 - val_loss: 2.2426 - val_accuracy: 0.6662\n",
            "Epoch 27/50\n",
            "1563/1563 [==============================] - 18s 12ms/step - loss: 0.1271 - accuracy: 0.9597 - val_loss: 2.1584 - val_accuracy: 0.6766\n",
            "Epoch 28/50\n",
            "1563/1563 [==============================] - 18s 12ms/step - loss: 0.1186 - accuracy: 0.9619 - val_loss: 2.2817 - val_accuracy: 0.6745\n",
            "Epoch 29/50\n",
            "1563/1563 [==============================] - 18s 12ms/step - loss: 0.1109 - accuracy: 0.9644 - val_loss: 2.0875 - val_accuracy: 0.6678\n",
            "Epoch 30/50\n",
            "1563/1563 [==============================] - 18s 12ms/step - loss: 0.1179 - accuracy: 0.9624 - val_loss: 2.3175 - val_accuracy: 0.6821\n",
            "Epoch 31/50\n",
            "1563/1563 [==============================] - 18s 12ms/step - loss: 0.1053 - accuracy: 0.9663 - val_loss: 2.6229 - val_accuracy: 0.6702\n",
            "Epoch 32/50\n",
            "1563/1563 [==============================] - 18s 11ms/step - loss: 0.1106 - accuracy: 0.9642 - val_loss: 2.4457 - val_accuracy: 0.6727\n",
            "Epoch 33/50\n",
            "1563/1563 [==============================] - 18s 12ms/step - loss: 0.1071 - accuracy: 0.9661 - val_loss: 2.4739 - val_accuracy: 0.6756\n",
            "Epoch 34/50\n",
            "1563/1563 [==============================] - 18s 11ms/step - loss: 0.1036 - accuracy: 0.9676 - val_loss: 2.3204 - val_accuracy: 0.6718\n",
            "Epoch 35/50\n",
            "1563/1563 [==============================] - 18s 12ms/step - loss: 0.1084 - accuracy: 0.9661 - val_loss: 2.1617 - val_accuracy: 0.6753\n",
            "Epoch 36/50\n",
            "1563/1563 [==============================] - 18s 12ms/step - loss: 0.0977 - accuracy: 0.9689 - val_loss: 2.2761 - val_accuracy: 0.6722\n",
            "Epoch 37/50\n",
            "1563/1563 [==============================] - 18s 12ms/step - loss: 0.1023 - accuracy: 0.9680 - val_loss: 2.2497 - val_accuracy: 0.6806\n",
            "Epoch 38/50\n",
            "1563/1563 [==============================] - 18s 11ms/step - loss: 0.1024 - accuracy: 0.9679 - val_loss: 2.4738 - val_accuracy: 0.6789\n",
            "Epoch 39/50\n",
            "1563/1563 [==============================] - 18s 12ms/step - loss: 0.1009 - accuracy: 0.9685 - val_loss: 2.5156 - val_accuracy: 0.6745\n",
            "Epoch 40/50\n",
            "1563/1563 [==============================] - 18s 12ms/step - loss: 0.0999 - accuracy: 0.9694 - val_loss: 2.6469 - val_accuracy: 0.6683\n",
            "Epoch 41/50\n",
            "1563/1563 [==============================] - 18s 11ms/step - loss: 0.0944 - accuracy: 0.9707 - val_loss: 2.3934 - val_accuracy: 0.6647\n",
            "Epoch 42/50\n",
            "1563/1563 [==============================] - 18s 12ms/step - loss: 0.0947 - accuracy: 0.9702 - val_loss: 2.5588 - val_accuracy: 0.6723\n",
            "Epoch 43/50\n",
            "1563/1563 [==============================] - 18s 11ms/step - loss: 0.0949 - accuracy: 0.9699 - val_loss: 2.6039 - val_accuracy: 0.6729\n",
            "Epoch 44/50\n",
            "1563/1563 [==============================] - 18s 12ms/step - loss: 0.0986 - accuracy: 0.9698 - val_loss: 2.6740 - val_accuracy: 0.6769\n",
            "Epoch 45/50\n",
            "1563/1563 [==============================] - 18s 11ms/step - loss: 0.0891 - accuracy: 0.9721 - val_loss: 2.6317 - val_accuracy: 0.6730\n",
            "Epoch 46/50\n",
            "1563/1563 [==============================] - 18s 11ms/step - loss: 0.0917 - accuracy: 0.9716 - val_loss: 2.8949 - val_accuracy: 0.6622\n",
            "Epoch 47/50\n",
            "1563/1563 [==============================] - 18s 11ms/step - loss: 0.0924 - accuracy: 0.9722 - val_loss: 2.8602 - val_accuracy: 0.6779\n",
            "Epoch 48/50\n",
            "1563/1563 [==============================] - 18s 11ms/step - loss: 0.0990 - accuracy: 0.9706 - val_loss: 2.6553 - val_accuracy: 0.6699\n",
            "Epoch 49/50\n",
            "1563/1563 [==============================] - 18s 11ms/step - loss: 0.0939 - accuracy: 0.9722 - val_loss: 2.5043 - val_accuracy: 0.6666\n",
            "Epoch 50/50\n",
            "1563/1563 [==============================] - 18s 11ms/step - loss: 0.0861 - accuracy: 0.9744 - val_loss: 2.6490 - val_accuracy: 0.6651\n"
          ],
          "name": "stdout"
        }
      ]
    },
    {
      "cell_type": "markdown",
      "metadata": {
        "id": "v8ksXME14yzs"
      },
      "source": [
        "This CNN has a higher accuracy during training, but a lower validation accuracy when testing"
      ]
    },
    {
      "cell_type": "code",
      "metadata": {
        "id": "5Tla0f1o6ZoH",
        "colab": {
          "base_uri": "https://localhost:8080/",
          "height": 286
        },
        "outputId": "9bdcb2d6-bf64-4ecc-896c-d1a2b1616607"
      },
      "source": [
        "plot(h2.history['accuracy'], label=\"Training\")\n",
        "plot(h2.history['val_accuracy'], label=\"Testing\")\n",
        "pyplot.legend()"
      ],
      "execution_count": 34,
      "outputs": [
        {
          "output_type": "execute_result",
          "data": {
            "text/plain": [
              "<matplotlib.legend.Legend at 0x7fc026b72470>"
            ]
          },
          "metadata": {
            "tags": []
          },
          "execution_count": 34
        },
        {
          "output_type": "display_data",
          "data": {
            "image/png": "[encoded data removed]",
            "text/plain": [
              "<Figure size 432x288 with 1 Axes>"
            ]
          },
          "metadata": {
            "tags": [],
            "needs_background": "light"
          }
        }
      ]
    },
    {
      "cell_type": "markdown",
      "metadata": {
        "id": "x7sluJf848kX"
      },
      "source": [
        "This CNN has a larger kernel size"
      ]
    },
    {
      "cell_type": "code",
      "metadata": {
        "id": "_0Kp6lh-6cgQ",
        "colab": {
          "base_uri": "https://localhost:8080/"
        },
        "outputId": "faebad81-4dcb-4ad9-e92d-edddd9f98bbf"
      },
      "source": [
        "model3 = tf.keras.models.Sequential([\n",
        "          Conv2D(32, (4, 4), padding='same', activation='relu', input_shape=x_train.shape[1:]),\n",
        "          Conv2D(32, (4, 4), padding='same', activation='relu'),\n",
        "          MaxPooling2D(pool_size=(2, 2)),\n",
        "          Dropout(0.2),\n",
        "          Conv2D(64, (4, 4), padding='same', activation='relu'),\n",
        "          Conv2D(64, (4, 4), padding='same', activation='relu'),\n",
        "          MaxPooling2D(pool_size=(2, 2)),\n",
        "          Dropout(0.2),\n",
        "          Flatten(),\n",
        "          Dense(256, activation='relu'),\n",
        "          Dropout(0.2),\n",
        "          Dense(10, activation='softmax')\n",
        "])\n",
        "\n",
        "model3.compile(optimizer='adam',\n",
        "              loss='sparse_categorical_crossentropy',\n",
        "              metrics=['accuracy'])\n",
        "\n",
        "model3.summary()"
      ],
      "execution_count": 13,
      "outputs": [
        {
          "output_type": "stream",
          "text": [
            "Model: \"sequential_2\"\n",
            "_________________________________________________________________\n",
            "Layer (type)                 Output Shape              Param #   \n",
            "=================================================================\n",
            "conv2d_8 (Conv2D)            (None, 32, 32, 32)        1568      \n",
            "_________________________________________________________________\n",
            "conv2d_9 (Conv2D)            (None, 32, 32, 32)        16416     \n",
            "_________________________________________________________________\n",
            "max_pooling2d_4 (MaxPooling2 (None, 16, 16, 32)        0         \n",
            "_________________________________________________________________\n",
            "dropout_6 (Dropout)          (None, 16, 16, 32)        0         \n",
            "_________________________________________________________________\n",
            "conv2d_10 (Conv2D)           (None, 16, 16, 64)        32832     \n",
            "_________________________________________________________________\n",
            "conv2d_11 (Conv2D)           (None, 16, 16, 64)        65600     \n",
            "_________________________________________________________________\n",
            "max_pooling2d_5 (MaxPooling2 (None, 8, 8, 64)          0         \n",
            "_________________________________________________________________\n",
            "dropout_7 (Dropout)          (None, 8, 8, 64)          0         \n",
            "_________________________________________________________________\n",
            "flatten_2 (Flatten)          (None, 4096)              0         \n",
            "_________________________________________________________________\n",
            "dense_4 (Dense)              (None, 256)               1048832   \n",
            "_________________________________________________________________\n",
            "dropout_8 (Dropout)          (None, 256)               0         \n",
            "_________________________________________________________________\n",
            "dense_5 (Dense)              (None, 10)                2570      \n",
            "=================================================================\n",
            "Total params: 1,167,818\n",
            "Trainable params: 1,167,818\n",
            "Non-trainable params: 0\n",
            "_________________________________________________________________\n"
          ],
          "name": "stdout"
        }
      ]
    },
    {
      "cell_type": "code",
      "metadata": {
        "id": "H4_RRqLP6jvc",
        "colab": {
          "base_uri": "https://localhost:8080/"
        },
        "outputId": "13e5b015-260f-41c4-d014-c90de992b228"
      },
      "source": [
        "h3 = model3.fit(x_train, y_train, epochs=50, batch_size=32, validation_data=(x_test,y_test))"
      ],
      "execution_count": 14,
      "outputs": [
        {
          "output_type": "stream",
          "text": [
            "Epoch 1/50\n",
            "1563/1563 [==============================] - 10s 6ms/step - loss: 1.5874 - accuracy: 0.4178 - val_loss: 1.2345 - val_accuracy: 0.5516\n",
            "Epoch 2/50\n",
            "1563/1563 [==============================] - 9s 6ms/step - loss: 1.1665 - accuracy: 0.5826 - val_loss: 1.0336 - val_accuracy: 0.6301\n",
            "Epoch 3/50\n",
            "1563/1563 [==============================] - 10s 6ms/step - loss: 0.9946 - accuracy: 0.6490 - val_loss: 0.9725 - val_accuracy: 0.6564\n",
            "Epoch 4/50\n",
            "1563/1563 [==============================] - 9s 6ms/step - loss: 0.8841 - accuracy: 0.6880 - val_loss: 0.8716 - val_accuracy: 0.7005\n",
            "Epoch 5/50\n",
            "1563/1563 [==============================] - 9s 6ms/step - loss: 0.8042 - accuracy: 0.7162 - val_loss: 0.8570 - val_accuracy: 0.7039\n",
            "Epoch 6/50\n",
            "1563/1563 [==============================] - 10s 6ms/step - loss: 0.7450 - accuracy: 0.7355 - val_loss: 0.7901 - val_accuracy: 0.7281\n",
            "Epoch 7/50\n",
            "1563/1563 [==============================] - 10s 6ms/step - loss: 0.6868 - accuracy: 0.7574 - val_loss: 0.7676 - val_accuracy: 0.7401\n",
            "Epoch 8/50\n",
            "1563/1563 [==============================] - 9s 6ms/step - loss: 0.6477 - accuracy: 0.7719 - val_loss: 0.7851 - val_accuracy: 0.7388\n",
            "Epoch 9/50\n",
            "1563/1563 [==============================] - 9s 6ms/step - loss: 0.5995 - accuracy: 0.7868 - val_loss: 0.7622 - val_accuracy: 0.7491\n",
            "Epoch 10/50\n",
            "1563/1563 [==============================] - 9s 6ms/step - loss: 0.5702 - accuracy: 0.7976 - val_loss: 0.7995 - val_accuracy: 0.7309\n",
            "Epoch 11/50\n",
            "1563/1563 [==============================] - 9s 6ms/step - loss: 0.5376 - accuracy: 0.8073 - val_loss: 0.7598 - val_accuracy: 0.7564\n",
            "Epoch 12/50\n",
            "1563/1563 [==============================] - 9s 6ms/step - loss: 0.5062 - accuracy: 0.8188 - val_loss: 0.7841 - val_accuracy: 0.7517\n",
            "Epoch 13/50\n",
            "1563/1563 [==============================] - 10s 6ms/step - loss: 0.4888 - accuracy: 0.8275 - val_loss: 0.8286 - val_accuracy: 0.7402\n",
            "Epoch 14/50\n",
            "1563/1563 [==============================] - 10s 6ms/step - loss: 0.4642 - accuracy: 0.8361 - val_loss: 0.7990 - val_accuracy: 0.7439\n",
            "Epoch 15/50\n",
            "1563/1563 [==============================] - 10s 6ms/step - loss: 0.4421 - accuracy: 0.8426 - val_loss: 0.7873 - val_accuracy: 0.7522\n",
            "Epoch 16/50\n",
            "1563/1563 [==============================] - 10s 6ms/step - loss: 0.4207 - accuracy: 0.8504 - val_loss: 0.8495 - val_accuracy: 0.7506\n",
            "Epoch 17/50\n",
            "1563/1563 [==============================] - 10s 6ms/step - loss: 0.4052 - accuracy: 0.8569 - val_loss: 0.7973 - val_accuracy: 0.7598\n",
            "Epoch 18/50\n",
            "1563/1563 [==============================] - 10s 6ms/step - loss: 0.3939 - accuracy: 0.8615 - val_loss: 0.8194 - val_accuracy: 0.7608\n",
            "Epoch 19/50\n",
            "1563/1563 [==============================] - 10s 6ms/step - loss: 0.3796 - accuracy: 0.8672 - val_loss: 0.8794 - val_accuracy: 0.7601\n",
            "Epoch 20/50\n",
            "1563/1563 [==============================] - 10s 6ms/step - loss: 0.3661 - accuracy: 0.8706 - val_loss: 0.8851 - val_accuracy: 0.7509\n",
            "Epoch 21/50\n",
            "1563/1563 [==============================] - 10s 6ms/step - loss: 0.3587 - accuracy: 0.8726 - val_loss: 0.8682 - val_accuracy: 0.7593\n",
            "Epoch 22/50\n",
            "1563/1563 [==============================] - 10s 6ms/step - loss: 0.3478 - accuracy: 0.8784 - val_loss: 0.9013 - val_accuracy: 0.7598\n",
            "Epoch 23/50\n",
            "1563/1563 [==============================] - 10s 6ms/step - loss: 0.3361 - accuracy: 0.8832 - val_loss: 0.9039 - val_accuracy: 0.7535\n",
            "Epoch 24/50\n",
            "1563/1563 [==============================] - 10s 6ms/step - loss: 0.3379 - accuracy: 0.8826 - val_loss: 0.8980 - val_accuracy: 0.7558\n",
            "Epoch 25/50\n",
            "1563/1563 [==============================] - 10s 6ms/step - loss: 0.3275 - accuracy: 0.8856 - val_loss: 0.8976 - val_accuracy: 0.7573\n",
            "Epoch 26/50\n",
            "1563/1563 [==============================] - 10s 6ms/step - loss: 0.3168 - accuracy: 0.8894 - val_loss: 0.9129 - val_accuracy: 0.7542\n",
            "Epoch 27/50\n",
            "1563/1563 [==============================] - 10s 6ms/step - loss: 0.3069 - accuracy: 0.8935 - val_loss: 0.9083 - val_accuracy: 0.7617\n",
            "Epoch 28/50\n",
            "1563/1563 [==============================] - 10s 6ms/step - loss: 0.2984 - accuracy: 0.8985 - val_loss: 0.9093 - val_accuracy: 0.7540\n",
            "Epoch 29/50\n",
            "1563/1563 [==============================] - 10s 6ms/step - loss: 0.3071 - accuracy: 0.8943 - val_loss: 0.9323 - val_accuracy: 0.7583\n",
            "Epoch 30/50\n",
            "1563/1563 [==============================] - 10s 6ms/step - loss: 0.2911 - accuracy: 0.9005 - val_loss: 0.9657 - val_accuracy: 0.7552\n",
            "Epoch 31/50\n",
            "1563/1563 [==============================] - 10s 6ms/step - loss: 0.2899 - accuracy: 0.9018 - val_loss: 0.9200 - val_accuracy: 0.7573\n",
            "Epoch 32/50\n",
            "1563/1563 [==============================] - 10s 6ms/step - loss: 0.2779 - accuracy: 0.9030 - val_loss: 0.9826 - val_accuracy: 0.7547\n",
            "Epoch 33/50\n",
            "1563/1563 [==============================] - 10s 6ms/step - loss: 0.2787 - accuracy: 0.9039 - val_loss: 0.9593 - val_accuracy: 0.7525\n",
            "Epoch 34/50\n",
            "1563/1563 [==============================] - 10s 6ms/step - loss: 0.2759 - accuracy: 0.9055 - val_loss: 0.9896 - val_accuracy: 0.7660\n",
            "Epoch 35/50\n",
            "1563/1563 [==============================] - 10s 6ms/step - loss: 0.2718 - accuracy: 0.9082 - val_loss: 1.0308 - val_accuracy: 0.7559\n",
            "Epoch 36/50\n",
            "1563/1563 [==============================] - 10s 6ms/step - loss: 0.2699 - accuracy: 0.9080 - val_loss: 1.0522 - val_accuracy: 0.7556\n",
            "Epoch 37/50\n",
            "1563/1563 [==============================] - 10s 6ms/step - loss: 0.2652 - accuracy: 0.9106 - val_loss: 0.9997 - val_accuracy: 0.7540\n",
            "Epoch 38/50\n",
            "1563/1563 [==============================] - 10s 6ms/step - loss: 0.2665 - accuracy: 0.9103 - val_loss: 1.0202 - val_accuracy: 0.7510\n",
            "Epoch 39/50\n",
            "1563/1563 [==============================] - 10s 6ms/step - loss: 0.2585 - accuracy: 0.9116 - val_loss: 1.0297 - val_accuracy: 0.7492\n",
            "Epoch 40/50\n",
            "1563/1563 [==============================] - 10s 6ms/step - loss: 0.2570 - accuracy: 0.9140 - val_loss: 0.9894 - val_accuracy: 0.7568\n",
            "Epoch 41/50\n",
            "1563/1563 [==============================] - 10s 6ms/step - loss: 0.2508 - accuracy: 0.9138 - val_loss: 1.0018 - val_accuracy: 0.7530\n",
            "Epoch 42/50\n",
            "1563/1563 [==============================] - 10s 6ms/step - loss: 0.2498 - accuracy: 0.9168 - val_loss: 0.9944 - val_accuracy: 0.7552\n",
            "Epoch 43/50\n",
            "1563/1563 [==============================] - 10s 6ms/step - loss: 0.2453 - accuracy: 0.9161 - val_loss: 1.0655 - val_accuracy: 0.7527\n",
            "Epoch 44/50\n",
            "1563/1563 [==============================] - 10s 6ms/step - loss: 0.2506 - accuracy: 0.9160 - val_loss: 1.0073 - val_accuracy: 0.7584\n",
            "Epoch 45/50\n",
            "1563/1563 [==============================] - 10s 6ms/step - loss: 0.2442 - accuracy: 0.9165 - val_loss: 1.0855 - val_accuracy: 0.7623\n",
            "Epoch 46/50\n",
            "1563/1563 [==============================] - 10s 6ms/step - loss: 0.2482 - accuracy: 0.9161 - val_loss: 1.1437 - val_accuracy: 0.7559\n",
            "Epoch 47/50\n",
            "1563/1563 [==============================] - 10s 6ms/step - loss: 0.2349 - accuracy: 0.9214 - val_loss: 1.0279 - val_accuracy: 0.7563\n",
            "Epoch 48/50\n",
            "1563/1563 [==============================] - 10s 6ms/step - loss: 0.2408 - accuracy: 0.9214 - val_loss: 1.0909 - val_accuracy: 0.7595\n",
            "Epoch 49/50\n",
            "1563/1563 [==============================] - 10s 6ms/step - loss: 0.2362 - accuracy: 0.9211 - val_loss: 0.9937 - val_accuracy: 0.7572\n",
            "Epoch 50/50\n",
            "1563/1563 [==============================] - 10s 6ms/step - loss: 0.2304 - accuracy: 0.9225 - val_loss: 1.0914 - val_accuracy: 0.7591\n"
          ],
          "name": "stdout"
        }
      ]
    },
    {
      "cell_type": "markdown",
      "metadata": {
        "id": "CaCcUI6_6E47"
      },
      "source": [
        "This CNN has both a decreased training and validation accuracy"
      ]
    },
    {
      "cell_type": "code",
      "metadata": {
        "id": "8tRWvQY96nc0",
        "colab": {
          "base_uri": "https://localhost:8080/",
          "height": 282
        },
        "outputId": "3a863ee2-1c0d-4fd4-da00-cfef9911e346"
      },
      "source": [
        "plot(h3.history['accuracy'], label=\"Training\")\n",
        "plot(h3.history['val_accuracy'], label=\"Testing\")\n",
        "pyplot.legend()"
      ],
      "execution_count": 35,
      "outputs": [
        {
          "output_type": "execute_result",
          "data": {
            "text/plain": [
              "<matplotlib.legend.Legend at 0x7fc026b1de48>"
            ]
          },
          "metadata": {
            "tags": []
          },
          "execution_count": 35
        },
        {
          "output_type": "display_data",
          "data": {
            "image/png": "[encoded data removed]",
            "text/plain": [
              "<Figure size 432x288 with 1 Axes>"
            ]
          },
          "metadata": {
            "tags": [],
            "needs_background": "light"
          }
        }
      ]
    },
    {
      "cell_type": "markdown",
      "metadata": {
        "id": "YnDbiPua6NpV"
      },
      "source": [
        "Decreased kernel size"
      ]
    },
    {
      "cell_type": "code",
      "metadata": {
        "id": "iQJg4xtS6pq3",
        "colab": {
          "base_uri": "https://localhost:8080/"
        },
        "outputId": "82cf775c-efbd-4e48-f4aa-9e2c06a6b328"
      },
      "source": [
        "model4 = tf.keras.models.Sequential([\n",
        "          Conv2D(32, (2, 2), padding='same', activation='relu', input_shape=x_train.shape[1:]),\n",
        "          Conv2D(32, (2, 2), padding='same', activation='relu'),\n",
        "          MaxPooling2D(pool_size=(2, 2)),\n",
        "          Dropout(0.2),\n",
        "          Conv2D(64, (2, 2), padding='same', activation='relu'),\n",
        "          Conv2D(64, (2, 2), padding='same', activation='relu'),\n",
        "          MaxPooling2D(pool_size=(2, 2)),\n",
        "          Dropout(0.2),\n",
        "          Flatten(),\n",
        "          Dense(256, activation='relu'),\n",
        "          Dropout(0.2),\n",
        "          Dense(10, activation='softmax')\n",
        "])\n",
        "\n",
        "model4.compile(optimizer='adam',\n",
        "              loss='sparse_categorical_crossentropy',\n",
        "              metrics=['accuracy'])\n",
        "\n",
        "model4.summary()"
      ],
      "execution_count": 16,
      "outputs": [
        {
          "output_type": "stream",
          "text": [
            "Model: \"sequential_3\"\n",
            "_________________________________________________________________\n",
            "Layer (type)                 Output Shape              Param #   \n",
            "=================================================================\n",
            "conv2d_12 (Conv2D)           (None, 32, 32, 32)        416       \n",
            "_________________________________________________________________\n",
            "conv2d_13 (Conv2D)           (None, 32, 32, 32)        4128      \n",
            "_________________________________________________________________\n",
            "max_pooling2d_6 (MaxPooling2 (None, 16, 16, 32)        0         \n",
            "_________________________________________________________________\n",
            "dropout_9 (Dropout)          (None, 16, 16, 32)        0         \n",
            "_________________________________________________________________\n",
            "conv2d_14 (Conv2D)           (None, 16, 16, 64)        8256      \n",
            "_________________________________________________________________\n",
            "conv2d_15 (Conv2D)           (None, 16, 16, 64)        16448     \n",
            "_________________________________________________________________\n",
            "max_pooling2d_7 (MaxPooling2 (None, 8, 8, 64)          0         \n",
            "_________________________________________________________________\n",
            "dropout_10 (Dropout)         (None, 8, 8, 64)          0         \n",
            "_________________________________________________________________\n",
            "flatten_3 (Flatten)          (None, 4096)              0         \n",
            "_________________________________________________________________\n",
            "dense_6 (Dense)              (None, 256)               1048832   \n",
            "_________________________________________________________________\n",
            "dropout_11 (Dropout)         (None, 256)               0         \n",
            "_________________________________________________________________\n",
            "dense_7 (Dense)              (None, 10)                2570      \n",
            "=================================================================\n",
            "Total params: 1,080,650\n",
            "Trainable params: 1,080,650\n",
            "Non-trainable params: 0\n",
            "_________________________________________________________________\n"
          ],
          "name": "stdout"
        }
      ]
    },
    {
      "cell_type": "code",
      "metadata": {
        "id": "v6vc6Jff6vNo",
        "colab": {
          "base_uri": "https://localhost:8080/"
        },
        "outputId": "16ba1224-8b6c-4f18-f8e9-b1c83b741262"
      },
      "source": [
        "h4 = model4.fit(x_train, y_train, epochs=50, batch_size=32, validation_data=(x_test,y_test))"
      ],
      "execution_count": 17,
      "outputs": [
        {
          "output_type": "stream",
          "text": [
            "Epoch 1/50\n",
            "1563/1563 [==============================] - 7s 5ms/step - loss: 1.4527 - accuracy: 0.4733 - val_loss: 1.0643 - val_accuracy: 0.6181\n",
            "Epoch 2/50\n",
            "1563/1563 [==============================] - 7s 4ms/step - loss: 1.0427 - accuracy: 0.6298 - val_loss: 0.9686 - val_accuracy: 0.6544\n",
            "Epoch 3/50\n",
            "1563/1563 [==============================] - 7s 4ms/step - loss: 0.9042 - accuracy: 0.6792 - val_loss: 0.8200 - val_accuracy: 0.7093\n",
            "Epoch 4/50\n",
            "1563/1563 [==============================] - 7s 4ms/step - loss: 0.8080 - accuracy: 0.7165 - val_loss: 0.7854 - val_accuracy: 0.7254\n",
            "Epoch 5/50\n",
            "1563/1563 [==============================] - 7s 4ms/step - loss: 0.7355 - accuracy: 0.7387 - val_loss: 0.7771 - val_accuracy: 0.7309\n",
            "Epoch 6/50\n",
            "1563/1563 [==============================] - 7s 4ms/step - loss: 0.6760 - accuracy: 0.7597 - val_loss: 0.7393 - val_accuracy: 0.7467\n",
            "Epoch 7/50\n",
            "1563/1563 [==============================] - 7s 4ms/step - loss: 0.6274 - accuracy: 0.7771 - val_loss: 0.7315 - val_accuracy: 0.7503\n",
            "Epoch 8/50\n",
            "1563/1563 [==============================] - 7s 4ms/step - loss: 0.5779 - accuracy: 0.7933 - val_loss: 0.7283 - val_accuracy: 0.7547\n",
            "Epoch 9/50\n",
            "1563/1563 [==============================] - 7s 4ms/step - loss: 0.5354 - accuracy: 0.8097 - val_loss: 0.7177 - val_accuracy: 0.7597\n",
            "Epoch 10/50\n",
            "1563/1563 [==============================] - 7s 4ms/step - loss: 0.5071 - accuracy: 0.8196 - val_loss: 0.7128 - val_accuracy: 0.7638\n",
            "Epoch 11/50\n",
            "1563/1563 [==============================] - 7s 4ms/step - loss: 0.4660 - accuracy: 0.8342 - val_loss: 0.7259 - val_accuracy: 0.7677\n",
            "Epoch 12/50\n",
            "1563/1563 [==============================] - 7s 4ms/step - loss: 0.4421 - accuracy: 0.8415 - val_loss: 0.7347 - val_accuracy: 0.7568\n",
            "Epoch 13/50\n",
            "1563/1563 [==============================] - 7s 4ms/step - loss: 0.4171 - accuracy: 0.8486 - val_loss: 0.7296 - val_accuracy: 0.7663\n",
            "Epoch 14/50\n",
            "1563/1563 [==============================] - 7s 4ms/step - loss: 0.3934 - accuracy: 0.8592 - val_loss: 0.7651 - val_accuracy: 0.7661\n",
            "Epoch 15/50\n",
            "1563/1563 [==============================] - 7s 4ms/step - loss: 0.3836 - accuracy: 0.8625 - val_loss: 0.7600 - val_accuracy: 0.7719\n",
            "Epoch 16/50\n",
            "1563/1563 [==============================] - 7s 4ms/step - loss: 0.3660 - accuracy: 0.8691 - val_loss: 0.7788 - val_accuracy: 0.7694\n",
            "Epoch 17/50\n",
            "1563/1563 [==============================] - 7s 4ms/step - loss: 0.3525 - accuracy: 0.8737 - val_loss: 0.8298 - val_accuracy: 0.7581\n",
            "Epoch 18/50\n",
            "1563/1563 [==============================] - 7s 4ms/step - loss: 0.3288 - accuracy: 0.8807 - val_loss: 0.7996 - val_accuracy: 0.7666\n",
            "Epoch 19/50\n",
            "1563/1563 [==============================] - 7s 4ms/step - loss: 0.3200 - accuracy: 0.8849 - val_loss: 0.8435 - val_accuracy: 0.7610\n",
            "Epoch 20/50\n",
            "1563/1563 [==============================] - 7s 4ms/step - loss: 0.3069 - accuracy: 0.8900 - val_loss: 0.8695 - val_accuracy: 0.7620\n",
            "Epoch 21/50\n",
            "1563/1563 [==============================] - 7s 4ms/step - loss: 0.3062 - accuracy: 0.8907 - val_loss: 0.8486 - val_accuracy: 0.7529\n",
            "Epoch 22/50\n",
            "1563/1563 [==============================] - 7s 4ms/step - loss: 0.2956 - accuracy: 0.8941 - val_loss: 0.8343 - val_accuracy: 0.7631\n",
            "Epoch 23/50\n",
            "1563/1563 [==============================] - 7s 4ms/step - loss: 0.2860 - accuracy: 0.8980 - val_loss: 0.8490 - val_accuracy: 0.7613\n",
            "Epoch 24/50\n",
            "1563/1563 [==============================] - 7s 4ms/step - loss: 0.2797 - accuracy: 0.8997 - val_loss: 0.9008 - val_accuracy: 0.7570\n",
            "Epoch 25/50\n",
            "1563/1563 [==============================] - 7s 4ms/step - loss: 0.2678 - accuracy: 0.9047 - val_loss: 0.8558 - val_accuracy: 0.7698\n",
            "Epoch 26/50\n",
            "1563/1563 [==============================] - 7s 4ms/step - loss: 0.2623 - accuracy: 0.9068 - val_loss: 0.9144 - val_accuracy: 0.7679\n",
            "Epoch 27/50\n",
            "1563/1563 [==============================] - 7s 4ms/step - loss: 0.2553 - accuracy: 0.9083 - val_loss: 0.9048 - val_accuracy: 0.7649\n",
            "Epoch 28/50\n",
            "1563/1563 [==============================] - 7s 4ms/step - loss: 0.2493 - accuracy: 0.9120 - val_loss: 0.8714 - val_accuracy: 0.7673\n",
            "Epoch 29/50\n",
            "1563/1563 [==============================] - 7s 4ms/step - loss: 0.2493 - accuracy: 0.9115 - val_loss: 0.9176 - val_accuracy: 0.7620\n",
            "Epoch 30/50\n",
            "1563/1563 [==============================] - 7s 5ms/step - loss: 0.2465 - accuracy: 0.9120 - val_loss: 0.9221 - val_accuracy: 0.7630\n",
            "Epoch 31/50\n",
            "1563/1563 [==============================] - 7s 4ms/step - loss: 0.2384 - accuracy: 0.9159 - val_loss: 0.8779 - val_accuracy: 0.7702\n",
            "Epoch 32/50\n",
            "1563/1563 [==============================] - 7s 4ms/step - loss: 0.2375 - accuracy: 0.9159 - val_loss: 0.9277 - val_accuracy: 0.7598\n",
            "Epoch 33/50\n",
            "1563/1563 [==============================] - 7s 4ms/step - loss: 0.2313 - accuracy: 0.9190 - val_loss: 0.9225 - val_accuracy: 0.7631\n",
            "Epoch 34/50\n",
            "1563/1563 [==============================] - 7s 4ms/step - loss: 0.2278 - accuracy: 0.9211 - val_loss: 0.9326 - val_accuracy: 0.7699\n",
            "Epoch 35/50\n",
            "1563/1563 [==============================] - 7s 4ms/step - loss: 0.2208 - accuracy: 0.9226 - val_loss: 0.9674 - val_accuracy: 0.7644\n",
            "Epoch 36/50\n",
            "1563/1563 [==============================] - 7s 4ms/step - loss: 0.2265 - accuracy: 0.9197 - val_loss: 0.9305 - val_accuracy: 0.7611\n",
            "Epoch 37/50\n",
            "1563/1563 [==============================] - 7s 4ms/step - loss: 0.2147 - accuracy: 0.9251 - val_loss: 0.9304 - val_accuracy: 0.7679\n",
            "Epoch 38/50\n",
            "1563/1563 [==============================] - 7s 4ms/step - loss: 0.2135 - accuracy: 0.9244 - val_loss: 0.9410 - val_accuracy: 0.7689\n",
            "Epoch 39/50\n",
            "1563/1563 [==============================] - 7s 4ms/step - loss: 0.2090 - accuracy: 0.9268 - val_loss: 0.9299 - val_accuracy: 0.7673\n",
            "Epoch 40/50\n",
            "1563/1563 [==============================] - 7s 4ms/step - loss: 0.2140 - accuracy: 0.9267 - val_loss: 0.9519 - val_accuracy: 0.7651\n",
            "Epoch 41/50\n",
            "1563/1563 [==============================] - 7s 4ms/step - loss: 0.2106 - accuracy: 0.9248 - val_loss: 0.9438 - val_accuracy: 0.7659\n",
            "Epoch 42/50\n",
            "1563/1563 [==============================] - 7s 4ms/step - loss: 0.2038 - accuracy: 0.9292 - val_loss: 0.9942 - val_accuracy: 0.7603\n",
            "Epoch 43/50\n",
            "1563/1563 [==============================] - 7s 4ms/step - loss: 0.2010 - accuracy: 0.9303 - val_loss: 0.9814 - val_accuracy: 0.7664\n",
            "Epoch 44/50\n",
            "1563/1563 [==============================] - 7s 4ms/step - loss: 0.2021 - accuracy: 0.9295 - val_loss: 1.0183 - val_accuracy: 0.7554\n",
            "Epoch 45/50\n",
            "1563/1563 [==============================] - 7s 4ms/step - loss: 0.1940 - accuracy: 0.9324 - val_loss: 1.0528 - val_accuracy: 0.7548\n",
            "Epoch 46/50\n",
            "1563/1563 [==============================] - 7s 4ms/step - loss: 0.1986 - accuracy: 0.9324 - val_loss: 0.9760 - val_accuracy: 0.7636\n",
            "Epoch 47/50\n",
            "1563/1563 [==============================] - 7s 4ms/step - loss: 0.1932 - accuracy: 0.9328 - val_loss: 1.0445 - val_accuracy: 0.7583\n",
            "Epoch 48/50\n",
            "1563/1563 [==============================] - 7s 4ms/step - loss: 0.1906 - accuracy: 0.9348 - val_loss: 0.9814 - val_accuracy: 0.7700\n",
            "Epoch 49/50\n",
            "1563/1563 [==============================] - 7s 4ms/step - loss: 0.1884 - accuracy: 0.9345 - val_loss: 0.9578 - val_accuracy: 0.7656\n",
            "Epoch 50/50\n",
            "1563/1563 [==============================] - 7s 4ms/step - loss: 0.1859 - accuracy: 0.9355 - val_loss: 1.0049 - val_accuracy: 0.7679\n"
          ],
          "name": "stdout"
        }
      ]
    },
    {
      "cell_type": "markdown",
      "metadata": {
        "id": "W-2sI5np6Uxk"
      },
      "source": [
        "Slightly lower training and testing accuracy. Almost on par with the base model"
      ]
    },
    {
      "cell_type": "code",
      "metadata": {
        "id": "UWZOOUyk6xwR",
        "colab": {
          "base_uri": "https://localhost:8080/",
          "height": 282
        },
        "outputId": "068ec4d4-bb47-4b80-d3ec-3434b2b03060"
      },
      "source": [
        "plot(h4.history['accuracy'], label=\"Training\")\n",
        "plot(h4.history['val_accuracy'], label=\"Testing\")\n",
        "pyplot.legend()"
      ],
      "execution_count": 36,
      "outputs": [
        {
          "output_type": "execute_result",
          "data": {
            "text/plain": [
              "<matplotlib.legend.Legend at 0x7fc026a3bdd8>"
            ]
          },
          "metadata": {
            "tags": []
          },
          "execution_count": 36
        },
        {
          "output_type": "display_data",
          "data": {
            "image/png": "[encoded data removed]",
            "text/plain": [
              "<Figure size 432x288 with 1 Axes>"
            ]
          },
          "metadata": {
            "tags": [],
            "needs_background": "light"
          }
        }
      ]
    },
    {
      "cell_type": "markdown",
      "metadata": {
        "id": "8P5CF5Xw6dhZ"
      },
      "source": [
        "Add a stride of 2x2 in every Conv2D layer apart from input layer"
      ]
    },
    {
      "cell_type": "code",
      "metadata": {
        "id": "HO-EHY4m6z-b",
        "colab": {
          "base_uri": "https://localhost:8080/"
        },
        "outputId": "8e8e22da-c49a-4d28-edbd-e34e4e35a923"
      },
      "source": [
        "model5 = tf.keras.models.Sequential([\n",
        "          Conv2D(32, (3, 3), padding='same', activation='relu', input_shape=x_train.shape[1:]),\n",
        "          Conv2D(32, (3, 3), (2, 2), padding='same', activation='relu'),\n",
        "          MaxPooling2D(pool_size=(2, 2)),\n",
        "          Dropout(0.2),\n",
        "          Conv2D(64, (3, 3), (2, 2), padding='same', activation='relu'),\n",
        "          Conv2D(64, (3, 3), (2, 2), padding='same', activation='relu'),\n",
        "          MaxPooling2D(pool_size=(2, 2)),\n",
        "          Dropout(0.2),\n",
        "          Flatten(),\n",
        "          Dense(256, activation='relu'),\n",
        "          Dropout(0.2),\n",
        "          Dense(10, activation='softmax')\n",
        "])\n",
        "\n",
        "model5.compile(optimizer='adam',\n",
        "              loss='sparse_categorical_crossentropy',\n",
        "              metrics=['accuracy'])\n",
        "\n",
        "model5.summary()"
      ],
      "execution_count": 19,
      "outputs": [
        {
          "output_type": "stream",
          "text": [
            "Model: \"sequential_4\"\n",
            "_________________________________________________________________\n",
            "Layer (type)                 Output Shape              Param #   \n",
            "=================================================================\n",
            "conv2d_16 (Conv2D)           (None, 32, 32, 32)        896       \n",
            "_________________________________________________________________\n",
            "conv2d_17 (Conv2D)           (None, 16, 16, 32)        9248      \n",
            "_________________________________________________________________\n",
            "max_pooling2d_8 (MaxPooling2 (None, 8, 8, 32)          0         \n",
            "_________________________________________________________________\n",
            "dropout_12 (Dropout)         (None, 8, 8, 32)          0         \n",
            "_________________________________________________________________\n",
            "conv2d_18 (Conv2D)           (None, 4, 4, 64)          18496     \n",
            "_________________________________________________________________\n",
            "conv2d_19 (Conv2D)           (None, 2, 2, 64)          36928     \n",
            "_________________________________________________________________\n",
            "max_pooling2d_9 (MaxPooling2 (None, 1, 1, 64)          0         \n",
            "_________________________________________________________________\n",
            "dropout_13 (Dropout)         (None, 1, 1, 64)          0         \n",
            "_________________________________________________________________\n",
            "flatten_4 (Flatten)          (None, 64)                0         \n",
            "_________________________________________________________________\n",
            "dense_8 (Dense)              (None, 256)               16640     \n",
            "_________________________________________________________________\n",
            "dropout_14 (Dropout)         (None, 256)               0         \n",
            "_________________________________________________________________\n",
            "dense_9 (Dense)              (None, 10)                2570      \n",
            "=================================================================\n",
            "Total params: 84,778\n",
            "Trainable params: 84,778\n",
            "Non-trainable params: 0\n",
            "_________________________________________________________________\n"
          ],
          "name": "stdout"
        }
      ]
    },
    {
      "cell_type": "code",
      "metadata": {
        "id": "iXfbpetZ60Zb",
        "colab": {
          "base_uri": "https://localhost:8080/"
        },
        "outputId": "3aac2448-2481-4fcb-930f-ec4c68acbf89"
      },
      "source": [
        "h5 = model5.fit(x_train, y_train, epochs=50, batch_size=32, validation_data=(x_test,y_test))"
      ],
      "execution_count": 20,
      "outputs": [
        {
          "output_type": "stream",
          "text": [
            "Epoch 1/50\n",
            "1563/1563 [==============================] - 7s 4ms/step - loss: 1.6642 - accuracy: 0.3809 - val_loss: 1.3457 - val_accuracy: 0.5146\n",
            "Epoch 2/50\n",
            "1563/1563 [==============================] - 6s 4ms/step - loss: 1.3554 - accuracy: 0.5106 - val_loss: 1.1590 - val_accuracy: 0.5836\n",
            "Epoch 3/50\n",
            "1563/1563 [==============================] - 6s 4ms/step - loss: 1.2014 - accuracy: 0.5707 - val_loss: 1.0459 - val_accuracy: 0.6243\n",
            "Epoch 4/50\n",
            "1563/1563 [==============================] - 6s 4ms/step - loss: 1.0971 - accuracy: 0.6083 - val_loss: 1.0319 - val_accuracy: 0.6330\n",
            "Epoch 5/50\n",
            "1563/1563 [==============================] - 6s 4ms/step - loss: 1.0304 - accuracy: 0.6350 - val_loss: 0.9282 - val_accuracy: 0.6712\n",
            "Epoch 6/50\n",
            "1563/1563 [==============================] - 6s 4ms/step - loss: 0.9774 - accuracy: 0.6532 - val_loss: 0.9245 - val_accuracy: 0.6759\n",
            "Epoch 7/50\n",
            "1563/1563 [==============================] - 6s 4ms/step - loss: 0.9421 - accuracy: 0.6666 - val_loss: 0.8863 - val_accuracy: 0.6854\n",
            "Epoch 8/50\n",
            "1563/1563 [==============================] - 6s 4ms/step - loss: 0.9098 - accuracy: 0.6771 - val_loss: 0.8589 - val_accuracy: 0.6990\n",
            "Epoch 9/50\n",
            "1563/1563 [==============================] - 6s 4ms/step - loss: 0.8829 - accuracy: 0.6868 - val_loss: 0.8736 - val_accuracy: 0.6916\n",
            "Epoch 10/50\n",
            "1563/1563 [==============================] - 6s 4ms/step - loss: 0.8612 - accuracy: 0.6936 - val_loss: 0.8579 - val_accuracy: 0.6962\n",
            "Epoch 11/50\n",
            "1563/1563 [==============================] - 6s 4ms/step - loss: 0.8433 - accuracy: 0.7010 - val_loss: 0.8409 - val_accuracy: 0.7047\n",
            "Epoch 12/50\n",
            "1563/1563 [==============================] - 6s 4ms/step - loss: 0.8275 - accuracy: 0.7076 - val_loss: 0.8283 - val_accuracy: 0.7101\n",
            "Epoch 13/50\n",
            "1563/1563 [==============================] - 6s 4ms/step - loss: 0.8118 - accuracy: 0.7131 - val_loss: 0.8321 - val_accuracy: 0.7102\n",
            "Epoch 14/50\n",
            "1563/1563 [==============================] - 6s 4ms/step - loss: 0.7992 - accuracy: 0.7171 - val_loss: 0.8357 - val_accuracy: 0.7062\n",
            "Epoch 15/50\n",
            "1563/1563 [==============================] - 6s 4ms/step - loss: 0.7935 - accuracy: 0.7186 - val_loss: 0.8396 - val_accuracy: 0.7099\n",
            "Epoch 16/50\n",
            "1563/1563 [==============================] - 6s 4ms/step - loss: 0.7754 - accuracy: 0.7247 - val_loss: 0.8363 - val_accuracy: 0.7102\n",
            "Epoch 17/50\n",
            "1563/1563 [==============================] - 6s 4ms/step - loss: 0.7713 - accuracy: 0.7264 - val_loss: 0.8185 - val_accuracy: 0.7186\n",
            "Epoch 18/50\n",
            "1563/1563 [==============================] - 6s 4ms/step - loss: 0.7599 - accuracy: 0.7320 - val_loss: 0.8444 - val_accuracy: 0.7072\n",
            "Epoch 19/50\n",
            "1563/1563 [==============================] - 7s 4ms/step - loss: 0.7519 - accuracy: 0.7310 - val_loss: 0.8200 - val_accuracy: 0.7125\n",
            "Epoch 20/50\n",
            "1563/1563 [==============================] - 6s 4ms/step - loss: 0.7470 - accuracy: 0.7334 - val_loss: 0.8227 - val_accuracy: 0.7220\n",
            "Epoch 21/50\n",
            "1563/1563 [==============================] - 6s 4ms/step - loss: 0.7366 - accuracy: 0.7380 - val_loss: 0.8254 - val_accuracy: 0.7154\n",
            "Epoch 22/50\n",
            "1563/1563 [==============================] - 6s 4ms/step - loss: 0.7328 - accuracy: 0.7411 - val_loss: 0.8177 - val_accuracy: 0.7193\n",
            "Epoch 23/50\n",
            "1563/1563 [==============================] - 6s 4ms/step - loss: 0.7235 - accuracy: 0.7451 - val_loss: 0.7944 - val_accuracy: 0.7282\n",
            "Epoch 24/50\n",
            "1563/1563 [==============================] - 6s 4ms/step - loss: 0.7176 - accuracy: 0.7454 - val_loss: 0.7935 - val_accuracy: 0.7262\n",
            "Epoch 25/50\n",
            "1563/1563 [==============================] - 6s 4ms/step - loss: 0.7198 - accuracy: 0.7455 - val_loss: 0.7935 - val_accuracy: 0.7284\n",
            "Epoch 26/50\n",
            "1563/1563 [==============================] - 7s 4ms/step - loss: 0.7131 - accuracy: 0.7457 - val_loss: 0.8129 - val_accuracy: 0.7169\n",
            "Epoch 27/50\n",
            "1563/1563 [==============================] - 7s 4ms/step - loss: 0.7101 - accuracy: 0.7487 - val_loss: 0.7968 - val_accuracy: 0.7267\n",
            "Epoch 28/50\n",
            "1563/1563 [==============================] - 6s 4ms/step - loss: 0.6986 - accuracy: 0.7524 - val_loss: 0.8011 - val_accuracy: 0.7251\n",
            "Epoch 29/50\n",
            "1563/1563 [==============================] - 6s 4ms/step - loss: 0.6885 - accuracy: 0.7539 - val_loss: 0.7804 - val_accuracy: 0.7314\n",
            "Epoch 30/50\n",
            "1563/1563 [==============================] - 6s 4ms/step - loss: 0.6878 - accuracy: 0.7523 - val_loss: 0.8084 - val_accuracy: 0.7182\n",
            "Epoch 31/50\n",
            "1563/1563 [==============================] - 6s 4ms/step - loss: 0.6838 - accuracy: 0.7583 - val_loss: 0.8029 - val_accuracy: 0.7222\n",
            "Epoch 32/50\n",
            "1563/1563 [==============================] - 6s 4ms/step - loss: 0.6822 - accuracy: 0.7586 - val_loss: 0.7903 - val_accuracy: 0.7327\n",
            "Epoch 33/50\n",
            "1563/1563 [==============================] - 6s 4ms/step - loss: 0.6740 - accuracy: 0.7598 - val_loss: 0.8016 - val_accuracy: 0.7259\n",
            "Epoch 34/50\n",
            "1563/1563 [==============================] - 6s 4ms/step - loss: 0.6775 - accuracy: 0.7583 - val_loss: 0.8098 - val_accuracy: 0.7242\n",
            "Epoch 35/50\n",
            "1563/1563 [==============================] - 6s 4ms/step - loss: 0.6691 - accuracy: 0.7635 - val_loss: 0.8083 - val_accuracy: 0.7306\n",
            "Epoch 36/50\n",
            "1563/1563 [==============================] - 6s 4ms/step - loss: 0.6695 - accuracy: 0.7618 - val_loss: 0.7994 - val_accuracy: 0.7278\n",
            "Epoch 37/50\n",
            "1563/1563 [==============================] - 6s 4ms/step - loss: 0.6645 - accuracy: 0.7646 - val_loss: 0.7923 - val_accuracy: 0.7343\n",
            "Epoch 38/50\n",
            "1563/1563 [==============================] - 6s 4ms/step - loss: 0.6553 - accuracy: 0.7690 - val_loss: 0.8103 - val_accuracy: 0.7246\n",
            "Epoch 39/50\n",
            "1563/1563 [==============================] - 6s 4ms/step - loss: 0.6575 - accuracy: 0.7660 - val_loss: 0.7839 - val_accuracy: 0.7388\n",
            "Epoch 40/50\n",
            "1563/1563 [==============================] - 6s 4ms/step - loss: 0.6504 - accuracy: 0.7678 - val_loss: 0.8039 - val_accuracy: 0.7246\n",
            "Epoch 41/50\n",
            "1563/1563 [==============================] - 6s 4ms/step - loss: 0.6562 - accuracy: 0.7660 - val_loss: 0.7904 - val_accuracy: 0.7312\n",
            "Epoch 42/50\n",
            "1563/1563 [==============================] - 6s 4ms/step - loss: 0.6472 - accuracy: 0.7712 - val_loss: 0.8101 - val_accuracy: 0.7179\n",
            "Epoch 43/50\n",
            "1563/1563 [==============================] - 6s 4ms/step - loss: 0.6469 - accuracy: 0.7698 - val_loss: 0.7903 - val_accuracy: 0.7331\n",
            "Epoch 44/50\n",
            "1563/1563 [==============================] - 6s 4ms/step - loss: 0.6472 - accuracy: 0.7715 - val_loss: 0.7873 - val_accuracy: 0.7333\n",
            "Epoch 45/50\n",
            "1563/1563 [==============================] - 6s 4ms/step - loss: 0.6433 - accuracy: 0.7715 - val_loss: 0.7876 - val_accuracy: 0.7283\n",
            "Epoch 46/50\n",
            "1563/1563 [==============================] - 6s 4ms/step - loss: 0.6407 - accuracy: 0.7729 - val_loss: 0.7930 - val_accuracy: 0.7309\n",
            "Epoch 47/50\n",
            "1563/1563 [==============================] - 6s 4ms/step - loss: 0.6388 - accuracy: 0.7728 - val_loss: 0.8046 - val_accuracy: 0.7289\n",
            "Epoch 48/50\n",
            "1563/1563 [==============================] - 6s 4ms/step - loss: 0.6334 - accuracy: 0.7759 - val_loss: 0.8068 - val_accuracy: 0.7250\n",
            "Epoch 49/50\n",
            "1563/1563 [==============================] - 6s 4ms/step - loss: 0.6260 - accuracy: 0.7757 - val_loss: 0.7897 - val_accuracy: 0.7306\n",
            "Epoch 50/50\n",
            "1563/1563 [==============================] - 6s 4ms/step - loss: 0.6322 - accuracy: 0.7771 - val_loss: 0.8099 - val_accuracy: 0.7268\n"
          ],
          "name": "stdout"
        }
      ]
    },
    {
      "cell_type": "markdown",
      "metadata": {
        "id": "NLlKStE26pE_"
      },
      "source": [
        "This CNN has a much lower training accuracy and a slightly lower validation accuracy"
      ]
    },
    {
      "cell_type": "code",
      "metadata": {
        "id": "ruK_jZmz60uF",
        "colab": {
          "base_uri": "https://localhost:8080/",
          "height": 282
        },
        "outputId": "a3ca2ca5-0b37-43d7-ecc8-422237ccc20d"
      },
      "source": [
        "plot(h5.history['accuracy'], label=\"Training\")\n",
        "plot(h5.history['val_accuracy'], label=\"Testing\")\n",
        "pyplot.legend()"
      ],
      "execution_count": 38,
      "outputs": [
        {
          "output_type": "execute_result",
          "data": {
            "text/plain": [
              "<matplotlib.legend.Legend at 0x7fc0269ea630>"
            ]
          },
          "metadata": {
            "tags": []
          },
          "execution_count": 38
        },
        {
          "output_type": "display_data",
          "data": {
            "image/png": "[encoded data removed]",
            "text/plain": [
              "<Figure size 432x288 with 1 Axes>"
            ]
          },
          "metadata": {
            "tags": [],
            "needs_background": "light"
          }
        }
      ]
    },
    {
      "cell_type": "markdown",
      "metadata": {
        "id": "4AcCG0RK6wsv"
      },
      "source": [
        "Increase stride amount to 4x4 and 2x2 in each block"
      ]
    },
    {
      "cell_type": "code",
      "metadata": {
        "id": "rkWMO61B60mZ",
        "colab": {
          "base_uri": "https://localhost:8080/"
        },
        "outputId": "1f4f2159-3229-48ff-a3a6-b3574aa4e7d3"
      },
      "source": [
        "model6 = tf.keras.models.Sequential([\n",
        "          Conv2D(32, (3, 3), padding='same', activation='relu', input_shape=x_train.shape[1:]),\n",
        "          Conv2D(32, (3, 3), (4, 4), padding='same', activation='relu'),\n",
        "          MaxPooling2D(pool_size=(2, 2)),\n",
        "          Dropout(0.2),\n",
        "          Conv2D(64, (3, 3), (2, 2), padding='same', activation='relu'),\n",
        "          Conv2D(64, (3, 3), padding='same', activation='relu'),\n",
        "          MaxPooling2D(pool_size=(2, 2)),\n",
        "          Dropout(0.2),\n",
        "          Flatten(),\n",
        "          Dense(256, activation='relu'),\n",
        "          Dropout(0.2),\n",
        "          Dense(10, activation='softmax')\n",
        "])\n",
        "\n",
        "model6.compile(optimizer='adam',\n",
        "              loss='sparse_categorical_crossentropy',\n",
        "              metrics=['accuracy'])\n",
        "\n",
        "model6.summary()"
      ],
      "execution_count": 22,
      "outputs": [
        {
          "output_type": "stream",
          "text": [
            "Model: \"sequential_5\"\n",
            "_________________________________________________________________\n",
            "Layer (type)                 Output Shape              Param #   \n",
            "=================================================================\n",
            "conv2d_20 (Conv2D)           (None, 32, 32, 32)        896       \n",
            "_________________________________________________________________\n",
            "conv2d_21 (Conv2D)           (None, 8, 8, 32)          9248      \n",
            "_________________________________________________________________\n",
            "max_pooling2d_10 (MaxPooling (None, 4, 4, 32)          0         \n",
            "_________________________________________________________________\n",
            "dropout_15 (Dropout)         (None, 4, 4, 32)          0         \n",
            "_________________________________________________________________\n",
            "conv2d_22 (Conv2D)           (None, 2, 2, 64)          18496     \n",
            "_________________________________________________________________\n",
            "conv2d_23 (Conv2D)           (None, 2, 2, 64)          36928     \n",
            "_________________________________________________________________\n",
            "max_pooling2d_11 (MaxPooling (None, 1, 1, 64)          0         \n",
            "_________________________________________________________________\n",
            "dropout_16 (Dropout)         (None, 1, 1, 64)          0         \n",
            "_________________________________________________________________\n",
            "flatten_5 (Flatten)          (None, 64)                0         \n",
            "_________________________________________________________________\n",
            "dense_10 (Dense)             (None, 256)               16640     \n",
            "_________________________________________________________________\n",
            "dropout_17 (Dropout)         (None, 256)               0         \n",
            "_________________________________________________________________\n",
            "dense_11 (Dense)             (None, 10)                2570      \n",
            "=================================================================\n",
            "Total params: 84,778\n",
            "Trainable params: 84,778\n",
            "Non-trainable params: 0\n",
            "_________________________________________________________________\n"
          ],
          "name": "stdout"
        }
      ]
    },
    {
      "cell_type": "code",
      "metadata": {
        "id": "uJPomVsG60QX",
        "colab": {
          "base_uri": "https://localhost:8080/"
        },
        "outputId": "bff8a570-36de-4092-91f2-d98e164b15b5"
      },
      "source": [
        "h6 = model6.fit(x_train, y_train, epochs=50, batch_size=32, validation_data=(x_test,y_test))"
      ],
      "execution_count": 23,
      "outputs": [
        {
          "output_type": "stream",
          "text": [
            "Epoch 1/50\n",
            "1563/1563 [==============================] - 6s 4ms/step - loss: 1.7227 - accuracy: 0.3603 - val_loss: 1.3923 - val_accuracy: 0.4973\n",
            "Epoch 2/50\n",
            "1563/1563 [==============================] - 6s 4ms/step - loss: 1.4433 - accuracy: 0.4737 - val_loss: 1.2895 - val_accuracy: 0.5276\n",
            "Epoch 3/50\n",
            "1563/1563 [==============================] - 6s 4ms/step - loss: 1.3442 - accuracy: 0.5146 - val_loss: 1.2203 - val_accuracy: 0.5653\n",
            "Epoch 4/50\n",
            "1563/1563 [==============================] - 6s 4ms/step - loss: 1.2811 - accuracy: 0.5384 - val_loss: 1.1655 - val_accuracy: 0.5790\n",
            "Epoch 5/50\n",
            "1563/1563 [==============================] - 6s 4ms/step - loss: 1.2328 - accuracy: 0.5590 - val_loss: 1.1223 - val_accuracy: 0.6014\n",
            "Epoch 6/50\n",
            "1563/1563 [==============================] - 6s 4ms/step - loss: 1.1938 - accuracy: 0.5718 - val_loss: 1.1200 - val_accuracy: 0.6001\n",
            "Epoch 7/50\n",
            "1563/1563 [==============================] - 6s 4ms/step - loss: 1.1639 - accuracy: 0.5845 - val_loss: 1.0786 - val_accuracy: 0.6153\n",
            "Epoch 8/50\n",
            "1563/1563 [==============================] - 6s 4ms/step - loss: 1.1373 - accuracy: 0.5936 - val_loss: 1.0809 - val_accuracy: 0.6152\n",
            "Epoch 9/50\n",
            "1563/1563 [==============================] - 6s 4ms/step - loss: 1.1170 - accuracy: 0.6026 - val_loss: 1.0849 - val_accuracy: 0.6192\n",
            "Epoch 10/50\n",
            "1563/1563 [==============================] - 6s 4ms/step - loss: 1.0943 - accuracy: 0.6085 - val_loss: 1.0535 - val_accuracy: 0.6244\n",
            "Epoch 11/50\n",
            "1563/1563 [==============================] - 6s 4ms/step - loss: 1.0885 - accuracy: 0.6118 - val_loss: 1.0539 - val_accuracy: 0.6212\n",
            "Epoch 12/50\n",
            "1563/1563 [==============================] - 6s 4ms/step - loss: 1.0695 - accuracy: 0.6182 - val_loss: 1.0517 - val_accuracy: 0.6229\n",
            "Epoch 13/50\n",
            "1563/1563 [==============================] - 6s 4ms/step - loss: 1.0569 - accuracy: 0.6253 - val_loss: 1.0511 - val_accuracy: 0.6289\n",
            "Epoch 14/50\n",
            "1563/1563 [==============================] - 6s 4ms/step - loss: 1.0412 - accuracy: 0.6285 - val_loss: 1.0091 - val_accuracy: 0.6412\n",
            "Epoch 15/50\n",
            "1563/1563 [==============================] - 6s 4ms/step - loss: 1.0335 - accuracy: 0.6322 - val_loss: 1.0007 - val_accuracy: 0.6447\n",
            "Epoch 16/50\n",
            "1563/1563 [==============================] - 6s 4ms/step - loss: 1.0170 - accuracy: 0.6370 - val_loss: 1.0087 - val_accuracy: 0.6444\n",
            "Epoch 17/50\n",
            "1563/1563 [==============================] - 6s 4ms/step - loss: 1.0101 - accuracy: 0.6412 - val_loss: 1.0207 - val_accuracy: 0.6419\n",
            "Epoch 18/50\n",
            "1563/1563 [==============================] - 6s 4ms/step - loss: 1.0080 - accuracy: 0.6415 - val_loss: 0.9941 - val_accuracy: 0.6509\n",
            "Epoch 19/50\n",
            "1563/1563 [==============================] - 6s 4ms/step - loss: 0.9947 - accuracy: 0.6448 - val_loss: 0.9844 - val_accuracy: 0.6560\n",
            "Epoch 20/50\n",
            "1563/1563 [==============================] - 6s 4ms/step - loss: 0.9859 - accuracy: 0.6501 - val_loss: 0.9927 - val_accuracy: 0.6523\n",
            "Epoch 21/50\n",
            "1563/1563 [==============================] - 6s 4ms/step - loss: 0.9833 - accuracy: 0.6494 - val_loss: 1.0012 - val_accuracy: 0.6488\n",
            "Epoch 22/50\n",
            "1563/1563 [==============================] - 6s 4ms/step - loss: 0.9785 - accuracy: 0.6539 - val_loss: 0.9716 - val_accuracy: 0.6639\n",
            "Epoch 23/50\n",
            "1563/1563 [==============================] - 6s 4ms/step - loss: 0.9714 - accuracy: 0.6553 - val_loss: 0.9931 - val_accuracy: 0.6550\n",
            "Epoch 24/50\n",
            "1563/1563 [==============================] - 6s 4ms/step - loss: 0.9667 - accuracy: 0.6559 - val_loss: 0.9873 - val_accuracy: 0.6537\n",
            "Epoch 25/50\n",
            "1563/1563 [==============================] - 6s 4ms/step - loss: 0.9566 - accuracy: 0.6601 - val_loss: 0.9849 - val_accuracy: 0.6534\n",
            "Epoch 26/50\n",
            "1563/1563 [==============================] - 6s 4ms/step - loss: 0.9502 - accuracy: 0.6627 - val_loss: 0.9868 - val_accuracy: 0.6517\n",
            "Epoch 27/50\n",
            "1563/1563 [==============================] - 7s 4ms/step - loss: 0.9451 - accuracy: 0.6619 - val_loss: 0.9981 - val_accuracy: 0.6518\n",
            "Epoch 28/50\n",
            "1563/1563 [==============================] - 6s 4ms/step - loss: 0.9439 - accuracy: 0.6653 - val_loss: 0.9593 - val_accuracy: 0.6629\n",
            "Epoch 29/50\n",
            "1563/1563 [==============================] - 6s 4ms/step - loss: 0.9402 - accuracy: 0.6677 - val_loss: 0.9686 - val_accuracy: 0.6634\n",
            "Epoch 30/50\n",
            "1563/1563 [==============================] - 6s 4ms/step - loss: 0.9333 - accuracy: 0.6678 - val_loss: 0.9880 - val_accuracy: 0.6567\n",
            "Epoch 31/50\n",
            "1563/1563 [==============================] - 6s 4ms/step - loss: 0.9273 - accuracy: 0.6710 - val_loss: 0.9776 - val_accuracy: 0.6565\n",
            "Epoch 32/50\n",
            "1563/1563 [==============================] - 6s 4ms/step - loss: 0.9250 - accuracy: 0.6696 - val_loss: 0.9653 - val_accuracy: 0.6681\n",
            "Epoch 33/50\n",
            "1563/1563 [==============================] - 6s 4ms/step - loss: 0.9236 - accuracy: 0.6709 - val_loss: 0.9651 - val_accuracy: 0.6649\n",
            "Epoch 34/50\n",
            "1563/1563 [==============================] - 6s 4ms/step - loss: 0.9122 - accuracy: 0.6764 - val_loss: 0.9544 - val_accuracy: 0.6717\n",
            "Epoch 35/50\n",
            "1563/1563 [==============================] - 6s 4ms/step - loss: 0.9136 - accuracy: 0.6760 - val_loss: 0.9640 - val_accuracy: 0.6682\n",
            "Epoch 36/50\n",
            "1563/1563 [==============================] - 6s 4ms/step - loss: 0.9054 - accuracy: 0.6781 - val_loss: 0.9964 - val_accuracy: 0.6514\n",
            "Epoch 37/50\n",
            "1563/1563 [==============================] - 6s 4ms/step - loss: 0.9071 - accuracy: 0.6781 - val_loss: 0.9496 - val_accuracy: 0.6675\n",
            "Epoch 38/50\n",
            "1563/1563 [==============================] - 6s 4ms/step - loss: 0.9025 - accuracy: 0.6794 - val_loss: 0.9758 - val_accuracy: 0.6577\n",
            "Epoch 39/50\n",
            "1563/1563 [==============================] - 6s 4ms/step - loss: 0.8966 - accuracy: 0.6813 - val_loss: 0.9718 - val_accuracy: 0.6595\n",
            "Epoch 40/50\n",
            "1563/1563 [==============================] - 6s 4ms/step - loss: 0.8938 - accuracy: 0.6831 - val_loss: 0.9573 - val_accuracy: 0.6673\n",
            "Epoch 41/50\n",
            "1563/1563 [==============================] - 6s 4ms/step - loss: 0.8875 - accuracy: 0.6834 - val_loss: 0.9444 - val_accuracy: 0.6687\n",
            "Epoch 42/50\n",
            "1563/1563 [==============================] - 6s 4ms/step - loss: 0.8869 - accuracy: 0.6867 - val_loss: 0.9712 - val_accuracy: 0.6630\n",
            "Epoch 43/50\n",
            "1563/1563 [==============================] - 6s 4ms/step - loss: 0.8806 - accuracy: 0.6859 - val_loss: 0.9785 - val_accuracy: 0.6620\n",
            "Epoch 44/50\n",
            "1563/1563 [==============================] - 6s 4ms/step - loss: 0.8787 - accuracy: 0.6880 - val_loss: 0.9438 - val_accuracy: 0.6704\n",
            "Epoch 45/50\n",
            "1563/1563 [==============================] - 6s 4ms/step - loss: 0.8794 - accuracy: 0.6878 - val_loss: 0.9411 - val_accuracy: 0.6763\n",
            "Epoch 46/50\n",
            "1563/1563 [==============================] - 6s 4ms/step - loss: 0.8709 - accuracy: 0.6896 - val_loss: 0.9376 - val_accuracy: 0.6743\n",
            "Epoch 47/50\n",
            "1563/1563 [==============================] - 6s 4ms/step - loss: 0.8691 - accuracy: 0.6919 - val_loss: 0.9637 - val_accuracy: 0.6619\n",
            "Epoch 48/50\n",
            "1563/1563 [==============================] - 6s 4ms/step - loss: 0.8667 - accuracy: 0.6936 - val_loss: 0.9506 - val_accuracy: 0.6698\n",
            "Epoch 49/50\n",
            "1563/1563 [==============================] - 6s 4ms/step - loss: 0.8639 - accuracy: 0.6944 - val_loss: 0.9336 - val_accuracy: 0.6732\n",
            "Epoch 50/50\n",
            "1563/1563 [==============================] - 6s 4ms/step - loss: 0.8614 - accuracy: 0.6933 - val_loss: 0.9366 - val_accuracy: 0.6748\n"
          ],
          "name": "stdout"
        }
      ]
    },
    {
      "cell_type": "markdown",
      "metadata": {
        "id": "5mIKD8dl64Bd"
      },
      "source": [
        "Training and validation accuracies are much lower than the base model "
      ]
    },
    {
      "cell_type": "code",
      "metadata": {
        "id": "IHtl2Evf6zo2",
        "colab": {
          "base_uri": "https://localhost:8080/",
          "height": 282
        },
        "outputId": "a6dd3ec2-7140-4e21-9737-780ea662801d"
      },
      "source": [
        "plot(h6.history['accuracy'], label=\"Training\")\n",
        "plot(h6.history['val_accuracy'], label=\"Testing\")\n",
        "pyplot.legend()"
      ],
      "execution_count": 37,
      "outputs": [
        {
          "output_type": "execute_result",
          "data": {
            "text/plain": [
              "<matplotlib.legend.Legend at 0x7fc026a277f0>"
            ]
          },
          "metadata": {
            "tags": []
          },
          "execution_count": 37
        },
        {
          "output_type": "display_data",
          "data": {
            "image/png": "[encoded data removed]",
            "text/plain": [
              "<Figure size 432x288 with 1 Axes>"
            ]
          },
          "metadata": {
            "tags": [],
            "needs_background": "light"
          }
        }
      ]
    },
    {
      "cell_type": "code",
      "metadata": {
        "colab": {
          "base_uri": "https://localhost:8080/"
        },
        "id": "hSN6F_dSKeOi",
        "outputId": "5e772d3b-a4cf-4b89-bf9d-e1f61eb6e963"
      },
      "source": [
        "model7 = tf.keras.models.Sequential([\n",
        "          Conv2D(32, (3, 3), padding='same', activation='relu', input_shape=x_train.shape[1:]),\n",
        "          Conv2D(32, (3, 3), padding='same', activation='relu'),\n",
        "          MaxPooling2D(pool_size=(3, 3)),\n",
        "          Dropout(0.2),\n",
        "          Conv2D(64, (3, 3), padding='same', activation='relu'),\n",
        "          Conv2D(64, (3, 3), padding='same', activation='relu'),\n",
        "          MaxPooling2D(pool_size=(3, 3)),\n",
        "          Dropout(0.2),\n",
        "          Flatten(),\n",
        "          Dense(256, activation='relu'),\n",
        "          Dropout(0.2),\n",
        "          Dense(10, activation='softmax')\n",
        "])\n",
        "\n",
        "model7.compile(optimizer='adam',\n",
        "              loss='sparse_categorical_crossentropy',\n",
        "              metrics=['accuracy'])\n",
        "\n",
        "model7.summary()"
      ],
      "execution_count": 55,
      "outputs": [
        {
          "output_type": "stream",
          "text": [
            "Model: \"sequential_6\"\n",
            "_________________________________________________________________\n",
            "Layer (type)                 Output Shape              Param #   \n",
            "=================================================================\n",
            "conv2d_24 (Conv2D)           (None, 32, 32, 32)        896       \n",
            "_________________________________________________________________\n",
            "conv2d_25 (Conv2D)           (None, 32, 32, 32)        9248      \n",
            "_________________________________________________________________\n",
            "max_pooling2d_12 (MaxPooling (None, 10, 10, 32)        0         \n",
            "_________________________________________________________________\n",
            "dropout_18 (Dropout)         (None, 10, 10, 32)        0         \n",
            "_________________________________________________________________\n",
            "conv2d_26 (Conv2D)           (None, 10, 10, 64)        18496     \n",
            "_________________________________________________________________\n",
            "conv2d_27 (Conv2D)           (None, 10, 10, 64)        36928     \n",
            "_________________________________________________________________\n",
            "max_pooling2d_13 (MaxPooling (None, 3, 3, 64)          0         \n",
            "_________________________________________________________________\n",
            "dropout_19 (Dropout)         (None, 3, 3, 64)          0         \n",
            "_________________________________________________________________\n",
            "flatten_6 (Flatten)          (None, 576)               0         \n",
            "_________________________________________________________________\n",
            "dense_12 (Dense)             (None, 256)               147712    \n",
            "_________________________________________________________________\n",
            "dropout_20 (Dropout)         (None, 256)               0         \n",
            "_________________________________________________________________\n",
            "dense_13 (Dense)             (None, 10)                2570      \n",
            "=================================================================\n",
            "Total params: 215,850\n",
            "Trainable params: 215,850\n",
            "Non-trainable params: 0\n",
            "_________________________________________________________________\n"
          ],
          "name": "stdout"
        }
      ]
    },
    {
      "cell_type": "code",
      "metadata": {
        "colab": {
          "base_uri": "https://localhost:8080/"
        },
        "id": "__gC_qhDKqVu",
        "outputId": "16873633-3efc-4c08-b868-01a9b657fb70"
      },
      "source": [
        "h7 = model7.fit(x_train, y_train, epochs=50, batch_size=32, validation_data=(x_test,y_test))"
      ],
      "execution_count": 56,
      "outputs": [
        {
          "output_type": "stream",
          "text": [
            "Epoch 1/50\n",
            "1563/1563 [==============================] - 7s 4ms/step - loss: 1.5333 - accuracy: 0.4345 - val_loss: 1.2311 - val_accuracy: 0.5579\n",
            "Epoch 2/50\n",
            "1563/1563 [==============================] - 7s 4ms/step - loss: 1.1235 - accuracy: 0.6004 - val_loss: 0.9414 - val_accuracy: 0.6648\n",
            "Epoch 3/50\n",
            "1563/1563 [==============================] - 7s 4ms/step - loss: 0.9558 - accuracy: 0.6617 - val_loss: 0.8700 - val_accuracy: 0.6969\n",
            "Epoch 4/50\n",
            "1563/1563 [==============================] - 7s 4ms/step - loss: 0.8614 - accuracy: 0.6965 - val_loss: 0.8090 - val_accuracy: 0.7214\n",
            "Epoch 5/50\n",
            "1563/1563 [==============================] - 7s 4ms/step - loss: 0.8060 - accuracy: 0.7173 - val_loss: 0.7470 - val_accuracy: 0.7392\n",
            "Epoch 6/50\n",
            "1563/1563 [==============================] - 7s 4ms/step - loss: 0.7620 - accuracy: 0.7303 - val_loss: 0.7183 - val_accuracy: 0.7521\n",
            "Epoch 7/50\n",
            "1563/1563 [==============================] - 7s 4ms/step - loss: 0.7255 - accuracy: 0.7462 - val_loss: 0.7049 - val_accuracy: 0.7590\n",
            "Epoch 8/50\n",
            "1563/1563 [==============================] - 7s 4ms/step - loss: 0.6949 - accuracy: 0.7567 - val_loss: 0.7003 - val_accuracy: 0.7592\n",
            "Epoch 9/50\n",
            "1563/1563 [==============================] - 7s 4ms/step - loss: 0.6725 - accuracy: 0.7659 - val_loss: 0.6866 - val_accuracy: 0.7657\n",
            "Epoch 10/50\n",
            "1563/1563 [==============================] - 7s 4ms/step - loss: 0.6500 - accuracy: 0.7720 - val_loss: 0.6863 - val_accuracy: 0.7680\n",
            "Epoch 11/50\n",
            "1563/1563 [==============================] - 7s 4ms/step - loss: 0.6261 - accuracy: 0.7805 - val_loss: 0.6748 - val_accuracy: 0.7715\n",
            "Epoch 12/50\n",
            "1563/1563 [==============================] - 7s 4ms/step - loss: 0.6122 - accuracy: 0.7855 - val_loss: 0.6725 - val_accuracy: 0.7730\n",
            "Epoch 13/50\n",
            "1563/1563 [==============================] - 7s 4ms/step - loss: 0.5967 - accuracy: 0.7892 - val_loss: 0.6428 - val_accuracy: 0.7793\n",
            "Epoch 14/50\n",
            "1563/1563 [==============================] - 7s 4ms/step - loss: 0.5850 - accuracy: 0.7961 - val_loss: 0.6769 - val_accuracy: 0.7710\n",
            "Epoch 15/50\n",
            "1563/1563 [==============================] - 7s 4ms/step - loss: 0.5705 - accuracy: 0.7990 - val_loss: 0.6781 - val_accuracy: 0.7718\n",
            "Epoch 16/50\n",
            "1563/1563 [==============================] - 7s 4ms/step - loss: 0.5614 - accuracy: 0.8008 - val_loss: 0.6410 - val_accuracy: 0.7856\n",
            "Epoch 17/50\n",
            "1563/1563 [==============================] - 7s 4ms/step - loss: 0.5502 - accuracy: 0.8068 - val_loss: 0.6381 - val_accuracy: 0.7836\n",
            "Epoch 18/50\n",
            "1563/1563 [==============================] - 7s 4ms/step - loss: 0.5405 - accuracy: 0.8095 - val_loss: 0.6420 - val_accuracy: 0.7850\n",
            "Epoch 19/50\n",
            "1563/1563 [==============================] - 7s 4ms/step - loss: 0.5302 - accuracy: 0.8122 - val_loss: 0.6317 - val_accuracy: 0.7864\n",
            "Epoch 20/50\n",
            "1563/1563 [==============================] - 7s 4ms/step - loss: 0.5314 - accuracy: 0.8125 - val_loss: 0.6467 - val_accuracy: 0.7831\n",
            "Epoch 21/50\n",
            "1563/1563 [==============================] - 7s 4ms/step - loss: 0.5208 - accuracy: 0.8147 - val_loss: 0.6511 - val_accuracy: 0.7822\n",
            "Epoch 22/50\n",
            "1563/1563 [==============================] - 7s 4ms/step - loss: 0.5097 - accuracy: 0.8206 - val_loss: 0.6594 - val_accuracy: 0.7837\n",
            "Epoch 23/50\n",
            "1563/1563 [==============================] - 7s 4ms/step - loss: 0.5021 - accuracy: 0.8236 - val_loss: 0.6228 - val_accuracy: 0.7893\n",
            "Epoch 24/50\n",
            "1563/1563 [==============================] - 7s 4ms/step - loss: 0.4971 - accuracy: 0.8237 - val_loss: 0.6436 - val_accuracy: 0.7859\n",
            "Epoch 25/50\n",
            "1563/1563 [==============================] - 7s 4ms/step - loss: 0.4956 - accuracy: 0.8265 - val_loss: 0.6344 - val_accuracy: 0.7905\n",
            "Epoch 26/50\n",
            "1563/1563 [==============================] - 7s 4ms/step - loss: 0.4830 - accuracy: 0.8280 - val_loss: 0.6491 - val_accuracy: 0.7871\n",
            "Epoch 27/50\n",
            "1563/1563 [==============================] - 7s 4ms/step - loss: 0.4816 - accuracy: 0.8305 - val_loss: 0.6362 - val_accuracy: 0.7952\n",
            "Epoch 28/50\n",
            "1563/1563 [==============================] - 7s 4ms/step - loss: 0.4801 - accuracy: 0.8306 - val_loss: 0.6333 - val_accuracy: 0.7887\n",
            "Epoch 29/50\n",
            "1563/1563 [==============================] - 7s 4ms/step - loss: 0.4738 - accuracy: 0.8353 - val_loss: 0.6344 - val_accuracy: 0.7922\n",
            "Epoch 30/50\n",
            "1563/1563 [==============================] - 7s 5ms/step - loss: 0.4648 - accuracy: 0.8343 - val_loss: 0.6509 - val_accuracy: 0.7890\n",
            "Epoch 31/50\n",
            "1563/1563 [==============================] - 7s 4ms/step - loss: 0.4713 - accuracy: 0.8353 - val_loss: 0.6409 - val_accuracy: 0.7897\n",
            "Epoch 32/50\n",
            "1563/1563 [==============================] - 7s 4ms/step - loss: 0.4587 - accuracy: 0.8388 - val_loss: 0.6454 - val_accuracy: 0.7936\n",
            "Epoch 33/50\n",
            "1563/1563 [==============================] - 7s 4ms/step - loss: 0.4536 - accuracy: 0.8389 - val_loss: 0.6412 - val_accuracy: 0.7944\n",
            "Epoch 34/50\n",
            "1563/1563 [==============================] - 7s 4ms/step - loss: 0.4501 - accuracy: 0.8403 - val_loss: 0.6225 - val_accuracy: 0.7959\n",
            "Epoch 35/50\n",
            "1563/1563 [==============================] - 7s 4ms/step - loss: 0.4473 - accuracy: 0.8416 - val_loss: 0.6436 - val_accuracy: 0.8004\n",
            "Epoch 36/50\n",
            "1563/1563 [==============================] - 7s 4ms/step - loss: 0.4436 - accuracy: 0.8453 - val_loss: 0.6361 - val_accuracy: 0.7983\n",
            "Epoch 37/50\n",
            "1563/1563 [==============================] - 7s 4ms/step - loss: 0.4431 - accuracy: 0.8437 - val_loss: 0.6188 - val_accuracy: 0.8004\n",
            "Epoch 38/50\n",
            "1563/1563 [==============================] - 7s 4ms/step - loss: 0.4386 - accuracy: 0.8446 - val_loss: 0.6323 - val_accuracy: 0.7970\n",
            "Epoch 39/50\n",
            "1563/1563 [==============================] - 7s 4ms/step - loss: 0.4353 - accuracy: 0.8455 - val_loss: 0.6450 - val_accuracy: 0.7943\n",
            "Epoch 40/50\n",
            "1563/1563 [==============================] - 7s 4ms/step - loss: 0.4297 - accuracy: 0.8500 - val_loss: 0.6312 - val_accuracy: 0.7962\n",
            "Epoch 41/50\n",
            "1563/1563 [==============================] - 7s 4ms/step - loss: 0.4283 - accuracy: 0.8501 - val_loss: 0.6417 - val_accuracy: 0.7922\n",
            "Epoch 42/50\n",
            "1563/1563 [==============================] - 7s 4ms/step - loss: 0.4283 - accuracy: 0.8487 - val_loss: 0.6539 - val_accuracy: 0.7886\n",
            "Epoch 43/50\n",
            "1563/1563 [==============================] - 7s 4ms/step - loss: 0.4266 - accuracy: 0.8494 - val_loss: 0.6562 - val_accuracy: 0.7948\n",
            "Epoch 44/50\n",
            "1563/1563 [==============================] - 7s 4ms/step - loss: 0.4237 - accuracy: 0.8510 - val_loss: 0.6505 - val_accuracy: 0.7929\n",
            "Epoch 45/50\n",
            "1563/1563 [==============================] - 7s 4ms/step - loss: 0.4182 - accuracy: 0.8507 - val_loss: 0.6329 - val_accuracy: 0.7950\n",
            "Epoch 46/50\n",
            "1563/1563 [==============================] - 7s 4ms/step - loss: 0.4195 - accuracy: 0.8529 - val_loss: 0.6492 - val_accuracy: 0.7959\n",
            "Epoch 47/50\n",
            "1563/1563 [==============================] - 7s 4ms/step - loss: 0.4141 - accuracy: 0.8550 - val_loss: 0.6504 - val_accuracy: 0.7975\n",
            "Epoch 48/50\n",
            "1563/1563 [==============================] - 7s 4ms/step - loss: 0.4140 - accuracy: 0.8534 - val_loss: 0.6322 - val_accuracy: 0.7992\n",
            "Epoch 49/50\n",
            "1563/1563 [==============================] - 7s 4ms/step - loss: 0.4156 - accuracy: 0.8528 - val_loss: 0.6562 - val_accuracy: 0.7973\n",
            "Epoch 50/50\n",
            "1563/1563 [==============================] - 7s 4ms/step - loss: 0.4126 - accuracy: 0.8553 - val_loss: 0.6427 - val_accuracy: 0.7950\n"
          ],
          "name": "stdout"
        }
      ]
    },
    {
      "cell_type": "code",
      "metadata": {
        "colab": {
          "base_uri": "https://localhost:8080/",
          "height": 282
        },
        "id": "lp9ocM__Kvf7",
        "outputId": "c8041ee6-a4f0-4677-a8f6-4b669fa8a1d2"
      },
      "source": [
        "plot(h7.history['accuracy'], label=\"Training\")\n",
        "plot(h7.history['val_accuracy'], label=\"Testing\")\n",
        "pyplot.legend()"
      ],
      "execution_count": 57,
      "outputs": [
        {
          "output_type": "execute_result",
          "data": {
            "text/plain": [
              "<matplotlib.legend.Legend at 0x7fc0752bfeb8>"
            ]
          },
          "metadata": {
            "tags": []
          },
          "execution_count": 57
        },
        {
          "output_type": "display_data",
          "data": {
            "image/png": "[encoded data removed]",
            "text/plain": [
              "<Figure size 432x288 with 1 Axes>"
            ]
          },
          "metadata": {
            "tags": [],
            "needs_background": "light"
          }
        }
      ]
    },
    {
      "cell_type": "code",
      "metadata": {
        "colab": {
          "base_uri": "https://localhost:8080/"
        },
        "id": "oO3tyO1QK1NI",
        "outputId": "5d45f9f5-adaf-4da1-9693-c820bff8dbe5"
      },
      "source": [
        "model8 = tf.keras.models.Sequential([\n",
        "          Conv2D(32, (3, 3), padding='same', activation='relu', input_shape=x_train.shape[1:]),\n",
        "          Conv2D(32, (3, 3), padding='same', activation='relu'),\n",
        "          MaxPooling2D(pool_size=(4, 4)),\n",
        "          Dropout(0.2),\n",
        "          Conv2D(64, (3, 3), padding='same', activation='relu'),\n",
        "          Conv2D(64, (3, 3), padding='same', activation='relu'),\n",
        "          MaxPooling2D(pool_size=(4, 4)),\n",
        "          Dropout(0.2),\n",
        "          Flatten(),\n",
        "          Dense(256, activation='relu'),\n",
        "          Dropout(0.2),\n",
        "          Dense(10, activation='softmax')\n",
        "])\n",
        "\n",
        "model8.compile(optimizer='adam',\n",
        "              loss='sparse_categorical_crossentropy',\n",
        "              metrics=['accuracy'])\n",
        "\n",
        "model8.summary()"
      ],
      "execution_count": 58,
      "outputs": [
        {
          "output_type": "stream",
          "text": [
            "Model: \"sequential_7\"\n",
            "_________________________________________________________________\n",
            "Layer (type)                 Output Shape              Param #   \n",
            "=================================================================\n",
            "conv2d_28 (Conv2D)           (None, 32, 32, 32)        896       \n",
            "_________________________________________________________________\n",
            "conv2d_29 (Conv2D)           (None, 32, 32, 32)        9248      \n",
            "_________________________________________________________________\n",
            "max_pooling2d_14 (MaxPooling (None, 8, 8, 32)          0         \n",
            "_________________________________________________________________\n",
            "dropout_21 (Dropout)         (None, 8, 8, 32)          0         \n",
            "_________________________________________________________________\n",
            "conv2d_30 (Conv2D)           (None, 8, 8, 64)          18496     \n",
            "_________________________________________________________________\n",
            "conv2d_31 (Conv2D)           (None, 8, 8, 64)          36928     \n",
            "_________________________________________________________________\n",
            "max_pooling2d_15 (MaxPooling (None, 2, 2, 64)          0         \n",
            "_________________________________________________________________\n",
            "dropout_22 (Dropout)         (None, 2, 2, 64)          0         \n",
            "_________________________________________________________________\n",
            "flatten_7 (Flatten)          (None, 256)               0         \n",
            "_________________________________________________________________\n",
            "dense_14 (Dense)             (None, 256)               65792     \n",
            "_________________________________________________________________\n",
            "dropout_23 (Dropout)         (None, 256)               0         \n",
            "_________________________________________________________________\n",
            "dense_15 (Dense)             (None, 10)                2570      \n",
            "=================================================================\n",
            "Total params: 133,930\n",
            "Trainable params: 133,930\n",
            "Non-trainable params: 0\n",
            "_________________________________________________________________\n"
          ],
          "name": "stdout"
        }
      ]
    },
    {
      "cell_type": "code",
      "metadata": {
        "colab": {
          "base_uri": "https://localhost:8080/"
        },
        "id": "sIrwG38dLPJz",
        "outputId": "cf7c8f14-38d6-450c-b9f8-5456b71af95f"
      },
      "source": [
        "h8 = model8.fit(x_train, y_train, epochs=50, batch_size=32, validation_data=(x_test,y_test))"
      ],
      "execution_count": 59,
      "outputs": [
        {
          "output_type": "stream",
          "text": [
            "Epoch 1/50\n",
            "1563/1563 [==============================] - 7s 4ms/step - loss: 1.5946 - accuracy: 0.4097 - val_loss: 1.2375 - val_accuracy: 0.5519\n",
            "Epoch 2/50\n",
            "1563/1563 [==============================] - 6s 4ms/step - loss: 1.1848 - accuracy: 0.5741 - val_loss: 1.0231 - val_accuracy: 0.6342\n",
            "Epoch 3/50\n",
            "1563/1563 [==============================] - 7s 4ms/step - loss: 1.0302 - accuracy: 0.6346 - val_loss: 0.9012 - val_accuracy: 0.6828\n",
            "Epoch 4/50\n",
            "1563/1563 [==============================] - 7s 4ms/step - loss: 0.9430 - accuracy: 0.6672 - val_loss: 0.9080 - val_accuracy: 0.6801\n",
            "Epoch 5/50\n",
            "1563/1563 [==============================] - 7s 4ms/step - loss: 0.8819 - accuracy: 0.6870 - val_loss: 0.8026 - val_accuracy: 0.7254\n",
            "Epoch 6/50\n",
            "1563/1563 [==============================] - 7s 4ms/step - loss: 0.8388 - accuracy: 0.7045 - val_loss: 0.7856 - val_accuracy: 0.7285\n",
            "Epoch 7/50\n",
            "1563/1563 [==============================] - 7s 4ms/step - loss: 0.8069 - accuracy: 0.7154 - val_loss: 0.7469 - val_accuracy: 0.7435\n",
            "Epoch 8/50\n",
            "1563/1563 [==============================] - 7s 4ms/step - loss: 0.7739 - accuracy: 0.7282 - val_loss: 0.7263 - val_accuracy: 0.7515\n",
            "Epoch 9/50\n",
            "1563/1563 [==============================] - 7s 4ms/step - loss: 0.7488 - accuracy: 0.7367 - val_loss: 0.7171 - val_accuracy: 0.7506\n",
            "Epoch 10/50\n",
            "1563/1563 [==============================] - 7s 4ms/step - loss: 0.7320 - accuracy: 0.7434 - val_loss: 0.6861 - val_accuracy: 0.7603\n",
            "Epoch 11/50\n",
            "1563/1563 [==============================] - 7s 4ms/step - loss: 0.7167 - accuracy: 0.7485 - val_loss: 0.7006 - val_accuracy: 0.7641\n",
            "Epoch 12/50\n",
            "1563/1563 [==============================] - 7s 4ms/step - loss: 0.7014 - accuracy: 0.7515 - val_loss: 0.6853 - val_accuracy: 0.7641\n",
            "Epoch 13/50\n",
            "1563/1563 [==============================] - 7s 4ms/step - loss: 0.6909 - accuracy: 0.7580 - val_loss: 0.6969 - val_accuracy: 0.7635\n",
            "Epoch 14/50\n",
            "1563/1563 [==============================] - 7s 4ms/step - loss: 0.6813 - accuracy: 0.7604 - val_loss: 0.6730 - val_accuracy: 0.7629\n",
            "Epoch 15/50\n",
            "1563/1563 [==============================] - 7s 4ms/step - loss: 0.6619 - accuracy: 0.7670 - val_loss: 0.6653 - val_accuracy: 0.7715\n",
            "Epoch 16/50\n",
            "1563/1563 [==============================] - 7s 4ms/step - loss: 0.6570 - accuracy: 0.7692 - val_loss: 0.6609 - val_accuracy: 0.7693\n",
            "Epoch 17/50\n",
            "1563/1563 [==============================] - 7s 4ms/step - loss: 0.6481 - accuracy: 0.7707 - val_loss: 0.6562 - val_accuracy: 0.7725\n",
            "Epoch 18/50\n",
            "1563/1563 [==============================] - 7s 4ms/step - loss: 0.6396 - accuracy: 0.7774 - val_loss: 0.6744 - val_accuracy: 0.7688\n",
            "Epoch 19/50\n",
            "1563/1563 [==============================] - 7s 4ms/step - loss: 0.6353 - accuracy: 0.7768 - val_loss: 0.6586 - val_accuracy: 0.7755\n",
            "Epoch 20/50\n",
            "1563/1563 [==============================] - 7s 4ms/step - loss: 0.6273 - accuracy: 0.7801 - val_loss: 0.6779 - val_accuracy: 0.7660\n",
            "Epoch 21/50\n",
            "1563/1563 [==============================] - 7s 4ms/step - loss: 0.6230 - accuracy: 0.7811 - val_loss: 0.6470 - val_accuracy: 0.7797\n",
            "Epoch 22/50\n",
            "1563/1563 [==============================] - 7s 4ms/step - loss: 0.6178 - accuracy: 0.7815 - val_loss: 0.6524 - val_accuracy: 0.7766\n",
            "Epoch 23/50\n",
            "1563/1563 [==============================] - 7s 4ms/step - loss: 0.6099 - accuracy: 0.7854 - val_loss: 0.6681 - val_accuracy: 0.7708\n",
            "Epoch 24/50\n",
            "1563/1563 [==============================] - 7s 4ms/step - loss: 0.6070 - accuracy: 0.7852 - val_loss: 0.6586 - val_accuracy: 0.7754\n",
            "Epoch 25/50\n",
            "1563/1563 [==============================] - 7s 4ms/step - loss: 0.5905 - accuracy: 0.7907 - val_loss: 0.6600 - val_accuracy: 0.7774\n",
            "Epoch 26/50\n",
            "1563/1563 [==============================] - 7s 5ms/step - loss: 0.5946 - accuracy: 0.7905 - val_loss: 0.6488 - val_accuracy: 0.7812\n",
            "Epoch 27/50\n",
            "1563/1563 [==============================] - 7s 4ms/step - loss: 0.5889 - accuracy: 0.7929 - val_loss: 0.6387 - val_accuracy: 0.7848\n",
            "Epoch 28/50\n",
            "1563/1563 [==============================] - 7s 4ms/step - loss: 0.5829 - accuracy: 0.7929 - val_loss: 0.6461 - val_accuracy: 0.7859\n",
            "Epoch 29/50\n",
            "1563/1563 [==============================] - 7s 4ms/step - loss: 0.5839 - accuracy: 0.7964 - val_loss: 0.6279 - val_accuracy: 0.7861\n",
            "Epoch 30/50\n",
            "1563/1563 [==============================] - 7s 4ms/step - loss: 0.5803 - accuracy: 0.7963 - val_loss: 0.6331 - val_accuracy: 0.7870\n",
            "Epoch 31/50\n",
            "1563/1563 [==============================] - 7s 4ms/step - loss: 0.5659 - accuracy: 0.8012 - val_loss: 0.6662 - val_accuracy: 0.7768\n",
            "Epoch 32/50\n",
            "1563/1563 [==============================] - 7s 4ms/step - loss: 0.5719 - accuracy: 0.7983 - val_loss: 0.6298 - val_accuracy: 0.7854\n",
            "Epoch 33/50\n",
            "1563/1563 [==============================] - 7s 4ms/step - loss: 0.5632 - accuracy: 0.8012 - val_loss: 0.6291 - val_accuracy: 0.7815\n",
            "Epoch 34/50\n",
            "1563/1563 [==============================] - 7s 4ms/step - loss: 0.5682 - accuracy: 0.8015 - val_loss: 0.6429 - val_accuracy: 0.7843\n",
            "Epoch 35/50\n",
            "1563/1563 [==============================] - 7s 4ms/step - loss: 0.5583 - accuracy: 0.8031 - val_loss: 0.6618 - val_accuracy: 0.7762\n",
            "Epoch 36/50\n",
            "1563/1563 [==============================] - 7s 4ms/step - loss: 0.5557 - accuracy: 0.8036 - val_loss: 0.6441 - val_accuracy: 0.7830\n",
            "Epoch 37/50\n",
            "1563/1563 [==============================] - 7s 4ms/step - loss: 0.5569 - accuracy: 0.8044 - val_loss: 0.6334 - val_accuracy: 0.7855\n",
            "Epoch 38/50\n",
            "1563/1563 [==============================] - 7s 4ms/step - loss: 0.5574 - accuracy: 0.8033 - val_loss: 0.6431 - val_accuracy: 0.7866\n",
            "Epoch 39/50\n",
            "1563/1563 [==============================] - 7s 4ms/step - loss: 0.5489 - accuracy: 0.8080 - val_loss: 0.6395 - val_accuracy: 0.7845\n",
            "Epoch 40/50\n",
            "1563/1563 [==============================] - 7s 4ms/step - loss: 0.5508 - accuracy: 0.8078 - val_loss: 0.6609 - val_accuracy: 0.7820\n",
            "Epoch 41/50\n",
            "1563/1563 [==============================] - 7s 4ms/step - loss: 0.5418 - accuracy: 0.8080 - val_loss: 0.6448 - val_accuracy: 0.7847\n",
            "Epoch 42/50\n",
            "1563/1563 [==============================] - 7s 4ms/step - loss: 0.5349 - accuracy: 0.8130 - val_loss: 0.6716 - val_accuracy: 0.7746\n",
            "Epoch 43/50\n",
            "1563/1563 [==============================] - 7s 4ms/step - loss: 0.5459 - accuracy: 0.8072 - val_loss: 0.6470 - val_accuracy: 0.7830\n",
            "Epoch 44/50\n",
            "1563/1563 [==============================] - 7s 4ms/step - loss: 0.5421 - accuracy: 0.8097 - val_loss: 0.6549 - val_accuracy: 0.7819\n",
            "Epoch 45/50\n",
            "1563/1563 [==============================] - 7s 4ms/step - loss: 0.5346 - accuracy: 0.8106 - val_loss: 0.6361 - val_accuracy: 0.7933\n",
            "Epoch 46/50\n",
            "1563/1563 [==============================] - 7s 4ms/step - loss: 0.5388 - accuracy: 0.8101 - val_loss: 0.6428 - val_accuracy: 0.7811\n",
            "Epoch 47/50\n",
            "1563/1563 [==============================] - 7s 4ms/step - loss: 0.5367 - accuracy: 0.8116 - val_loss: 0.6381 - val_accuracy: 0.7902\n",
            "Epoch 48/50\n",
            "1563/1563 [==============================] - 7s 4ms/step - loss: 0.5270 - accuracy: 0.8132 - val_loss: 0.6339 - val_accuracy: 0.7900\n",
            "Epoch 49/50\n",
            "1563/1563 [==============================] - 7s 4ms/step - loss: 0.5306 - accuracy: 0.8116 - val_loss: 0.6372 - val_accuracy: 0.7874\n",
            "Epoch 50/50\n",
            "1563/1563 [==============================] - 7s 4ms/step - loss: 0.5314 - accuracy: 0.8130 - val_loss: 0.6424 - val_accuracy: 0.7918\n"
          ],
          "name": "stdout"
        }
      ]
    },
    {
      "cell_type": "code",
      "metadata": {
        "colab": {
          "base_uri": "https://localhost:8080/",
          "height": 282
        },
        "id": "TvUT-bcjLPcc",
        "outputId": "5b3c8c9f-a099-4add-ea30-884e69cfa41c"
      },
      "source": [
        "plot(h8.history['accuracy'], label=\"Training\")\n",
        "plot(h8.history['val_accuracy'], label=\"Testing\")\n",
        "pyplot.legend()"
      ],
      "execution_count": 60,
      "outputs": [
        {
          "output_type": "execute_result",
          "data": {
            "text/plain": [
              "<matplotlib.legend.Legend at 0x7fc07536bd68>"
            ]
          },
          "metadata": {
            "tags": []
          },
          "execution_count": 60
        },
        {
          "output_type": "display_data",
          "data": {
            "image/png": "[encoded data removed]",
            "text/plain": [
              "<Figure size 432x288 with 1 Axes>"
            ]
          },
          "metadata": {
            "tags": [],
            "needs_background": "light"
          }
        }
      ]
    },
    {
      "cell_type": "code",
      "metadata": {
        "colab": {
          "base_uri": "https://localhost:8080/",
          "height": 1000
        },
        "id": "iKjPlW6x79d5",
        "outputId": "1d3bd314-95da-411e-8768-2cb9535ea68e"
      },
      "source": [
        "pyplot.subplot(4,2,1)\n",
        "pyplot.plot(h.history['accuracy'], label=\"Training\")\n",
        "pyplot.plot(h.history['val_accuracy'], label=\"Testing\")\n",
        "pyplot.xlabel(\"Epochs\")\n",
        "pyplot.ylabel(\"Accuracy\")\n",
        "pyplot.title(\"Base Model\")\n",
        "pyplot.legend()\n",
        "pyplot.gcf().set_size_inches(20,20)\n",
        "\n",
        "pyplot.subplot(4,2,2)\n",
        "pyplot.plot(h2.history['accuracy'], label=\"Training\")\n",
        "pyplot.plot(h2.history['val_accuracy'], label=\"Testing\")\n",
        "pyplot.xlabel(\"Epochs\")\n",
        "pyplot.ylabel(\"Accuracy\")\n",
        "pyplot.title(\"Model 2: 1x1 MaxPooling Window\")\n",
        "pyplot.legend()\n",
        "pyplot.gcf().set_size_inches(20,20)\n",
        "\n",
        "pyplot.subplot(4,2,3)\n",
        "pyplot.plot(h3.history['accuracy'], label=\"Training\")\n",
        "pyplot.plot(h3.history['val_accuracy'], label=\"Testing\")\n",
        "pyplot.xlabel(\"Epochs\")\n",
        "pyplot.ylabel(\"Accuracy\")\n",
        "pyplot.title(\"Model 3: 4x4 kernel size\")\n",
        "pyplot.legend()\n",
        "pyplot.gcf().set_size_inches(20,20)\n",
        "\n",
        "pyplot.subplot(4,2,4)\n",
        "pyplot.plot(h4.history['accuracy'], label=\"Training\")\n",
        "pyplot.plot(h4.history['val_accuracy'], label=\"Testing\")\n",
        "pyplot.xlabel(\"Epochs\")\n",
        "pyplot.ylabel(\"Accuracy\")\n",
        "pyplot.title(\"Model 4: 2x2 kernel size\")\n",
        "pyplot.legend()\n",
        "pyplot.gcf().set_size_inches(20,20)\n",
        "\n",
        "pyplot.subplot(4,2,5)\n",
        "pyplot.plot(h5.history['accuracy'], label=\"Training\")\n",
        "pyplot.plot(h5.history['val_accuracy'], label=\"Testing\")\n",
        "pyplot.xlabel(\"Epochs\")\n",
        "pyplot.ylabel(\"Accuracy\")\n",
        "pyplot.title(\"Model 5: Stride of 2x2 in subsequent Conv2D layers\")\n",
        "pyplot.legend()\n",
        "pyplot.gcf().set_size_inches(20,20)\n",
        "\n",
        "pyplot.subplot(4,2,6)\n",
        "pyplot.plot(h6.history['accuracy'], label=\"Training\")\n",
        "pyplot.plot(h6.history['val_accuracy'], label=\"Testing\")\n",
        "pyplot.xlabel(\"Epochs\")\n",
        "pyplot.ylabel(\"Accuracy\")\n",
        "pyplot.title(\"Model 6: Stride of 4x4 and 2x2 in each block\")\n",
        "pyplot.legend()\n",
        "pyplot.gcf().set_size_inches(20,20)\n",
        "\n",
        "pyplot.subplot(4,2,7)\n",
        "pyplot.plot(h7.history['accuracy'], label=\"Training\")\n",
        "pyplot.plot(h7.history['val_accuracy'], label=\"Testing\")\n",
        "pyplot.xlabel(\"Epochs\")\n",
        "pyplot.ylabel(\"Accuracy\")\n",
        "pyplot.title(\"Model 7: MaxPooling window of 3x3\")\n",
        "pyplot.legend()\n",
        "pyplot.gcf().set_size_inches(20,20)\n",
        "\n",
        "pyplot.subplot(4,2,8)\n",
        "pyplot.plot(h8.history['accuracy'], label=\"Training\")\n",
        "pyplot.plot(h8.history['val_accuracy'], label=\"Testing\")\n",
        "pyplot.xlabel(\"Epochs\")\n",
        "pyplot.ylabel(\"Accuracy\")\n",
        "pyplot.title(\"Model 8: MaxPooling window of 4x4\")\n",
        "pyplot.legend()\n",
        "pyplot.gcf().set_size_inches(20,20)"
      ],
      "execution_count": 62,
      "outputs": [
        {
          "output_type": "display_data",
          "data": {
            "image/png": "[encoded data removed]",
            "text/plain": [
              "<Figure size 1440x1440 with 8 Axes>"
            ]
          },
          "metadata": {
            "tags": [],
            "needs_background": "light"
          }
        }
      ]
    },
    {
      "cell_type": "markdown",
      "metadata": {
        "id": "dgL0sF7aBYtp"
      },
      "source": [
        "From the graphs show above, having a low MaxPooling2D windows improves overall training accuracy, but decreases validation accuracy. For an increased window size, the opposite is true, with a lower accuracy and higher validation accuracy.\n",
        "\n",
        "Having a large kernel window does improve the validation accuracy and not too much of a difference in terms of testing accuracy.\n",
        "\n",
        "Using any amount of stride apart from the default of 1x1 results in much lower training accuracy and the validation accuracy converges to that of the training.\n",
        "\n"
      ]
    }
  ]
}